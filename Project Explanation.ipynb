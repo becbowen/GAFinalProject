{
 "cells": [
  {
   "cell_type": "markdown",
   "metadata": {},
   "source": [
    "# **Data Dictionary and Raw Data Discussion**"
   ]
  },
  {
   "cell_type": "markdown",
   "metadata": {},
   "source": [
    "**Files**\n",
    "\n",
    "The raw data files are in the /rawData folder.  The .ipynb files in the /cleanupCode folder look at their respective raw data files for EDA to extract the data of interest and format it for the final analysis.  For instance, the ENdataCleanup_1 file cleans up the ENs_2006_2019.xlsx file to obtain counts of event notifications and reactor scrams (unplanned rapid shutdowns) for each plant each year. \n",
    "\n",
    "Once the raw data from each dataset has been formatted appropriately, it is saved in its own file and also appended to the rest of the data that has been cleaned up.  Based on data quality and redundancies amongst some of the dataset, the final dataset was compiled from:\n",
    "\n",
    "--ENs_2006_2019\n",
    "\n",
    "--AM_2006_2019\n",
    "\n",
    "--greenFindings_2006_2019\n",
    "\n",
    "--CCAs_2006_2019\n",
    "\n",
    "--LER_SSFFs\n",
    "\n",
    "The final output is a dataset where each row represents one site-year and the number of each of the parameters accumulated at each site for that year. It is located in the /final folder along with the EDA/Visualization code specific to the already-cleaned data (cleanDataVisualizations.ipynb).\n",
    "\n",
    "The ultimate goal is to determine whether these inputs can be modeled to predict which plants might have future performance issues (as denoted by the \"Column #\" column) that could require additional resources for inspection and oversight.  Models are presented in the \"finalModels_and_explanations.ipynb\" code, also in the /final folder.\n",
    "\n"
   ]
  },
  {
   "cell_type": "markdown",
   "metadata": {},
   "source": [
    "**Data Dictionary**\n",
    "\n",
    "***Index Column***\n",
    "\n",
    "***Site***: Individual reactor sites in the U.S. that were operating as of 2006, each of which may have 1, 2, or 3 units.  Some of these have permanently shut down since then.  Data is only analyzed at sites while they were operating.\n",
    "\n",
    "***Year***: Data was analyzed from 2006-2019 for each operating site. \n",
    "\n",
    "***ENCount***: Number of event notifications submitted by a site in a given year for events meeting certain criteria defined by federal regulations.  \n",
    "\n",
    "***ScramCount***: Reactor scrams are unplanned, rapid shutdowns.  They are required to be reported as event notifications, so this number is a subset of the ENCount column.  \n",
    "\n",
    "***Column #***: This refers to the overall assessment of plant performance that is made on a quarterly basis.  It ranges from 1-4, where 1 indicates no concerns with safety performance and 4 indicates significant concerns that may warrant a shutdown order.  For the data to be analyzed, the highest column # from any plant on a site over the four quarters in each year was used.\n",
    "\n",
    "***TotalFindings***: Inspection findings result from regular inspection by federal regulators for issues of concern that indicate some shortfall in the level of plant performance.  This column counts the number of findings considered to have the lowest level of safety concern, which constitutes the vast majority (97%+) of inspection findings.  \n",
    "\n",
    "***HU***: Each inspection finding is considered for whether the cause of the problem was related to shortfalls in one of the human performance attributes of the organizational safety culture.  These include inadequate work documents, failure to follow procedures, lack of appropriate supervisory oversight, failure to coordinate between workgroups etc. If one of these attributes is found to be the main contributor to the inspection finding, the finding is tagged with one of the HU attributes; this column does not distinguish between the different attributes in the human performance area.\n",
    "\n",
    "***PIR***: The other broad organizational safety culture area that is considered when reviewing the causes of an inspection finding is problem identification and resolution.  Attributes here would include the failure to identify early on that a problem was developing, or inadequate actions taken to resolve an earlier problem leading to successive failures.\n",
    "\n",
    "***SSFF***: Safety system functional failures refer to specific equipment/performance issues impacting the ability of certain plant systems (as defined in the regulations and plant operating license) to perform as intended.  These are derived from a subset of reports that are similar to event notifications, but have significantly more detail.  They also cover some additional situations that would not require an event notification, but many SSFF events would also have an event notification."
   ]
  }
 ],
 "metadata": {
  "kernelspec": {
   "display_name": "Python 3",
   "language": "python",
   "name": "python3"
  },
  "language_info": {
   "codemirror_mode": {
    "name": "ipython",
    "version": 3
   },
   "file_extension": ".py",
   "mimetype": "text/x-python",
   "name": "python",
   "nbconvert_exporter": "python",
   "pygments_lexer": "ipython3",
   "version": "3.7.0"
  }
 },
 "nbformat": 4,
 "nbformat_minor": 2
}
