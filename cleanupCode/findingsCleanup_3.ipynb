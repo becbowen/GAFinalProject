{
 "cells": [
  {
   "cell_type": "code",
   "execution_count": 43,
   "metadata": {},
   "outputs": [],
   "source": [
    "import pandas as pd\n",
    "import numpy as np\n",
    "import seaborn as sns\n",
    "import matplotlib.pyplot as plt\n",
    "\n",
    "%matplotlib inline"
   ]
  },
  {
   "cell_type": "code",
   "execution_count": 44,
   "metadata": {},
   "outputs": [],
   "source": [
    "findings = pd.read_excel(\"../rawData/greenFindings_2006_2019.xlsx\")"
   ]
  },
  {
   "cell_type": "code",
   "execution_count": 45,
   "metadata": {},
   "outputs": [
    {
     "data": {
      "text/html": [
       "<div>\n",
       "<style scoped>\n",
       "    .dataframe tbody tr th:only-of-type {\n",
       "        vertical-align: middle;\n",
       "    }\n",
       "\n",
       "    .dataframe tbody tr th {\n",
       "        vertical-align: top;\n",
       "    }\n",
       "\n",
       "    .dataframe thead th {\n",
       "        text-align: right;\n",
       "    }\n",
       "</style>\n",
       "<table border=\"1\" class=\"dataframe\">\n",
       "  <thead>\n",
       "    <tr style=\"text-align: right;\">\n",
       "      <th></th>\n",
       "      <th>Region</th>\n",
       "      <th>Site</th>\n",
       "      <th>Id</th>\n",
       "      <th>Pim_Issue_Date</th>\n",
       "      <th>Source</th>\n",
       "      <th>IdBy</th>\n",
       "      <th>Type</th>\n",
       "      <th>Cornerstone_</th>\n",
       "      <th>Significance</th>\n",
       "      <th>Title_</th>\n",
       "      <th>EACaseNo</th>\n",
       "      <th>CrossCuttingAspect</th>\n",
       "      <th>TE</th>\n",
       "      <th>Docket</th>\n",
       "      <th>CornerstoneAttribute</th>\n",
       "      <th>Procedure</th>\n",
       "      <th>Introduction_</th>\n",
       "    </tr>\n",
       "  </thead>\n",
       "  <tbody>\n",
       "    <tr>\n",
       "      <th>0</th>\n",
       "      <td>Region: I</td>\n",
       "      <td>Beaver Valley</td>\n",
       "      <td>25912</td>\n",
       "      <td>12/31/2018\\r\\n02/05/2019</td>\n",
       "      <td>2018004-01</td>\n",
       "      <td>Self - Revealed</td>\n",
       "      <td>NCV</td>\n",
       "      <td>Initiating Events</td>\n",
       "      <td>Green</td>\n",
       "      <td>Inadvertent Service Water Header Pressure Redu...</td>\n",
       "      <td>NaN</td>\n",
       "      <td>H.12 - Avoid Complacency</td>\n",
       "      <td>TE?: N</td>\n",
       "      <td>05000412 Beaver Valley 2</td>\n",
       "      <td>Procedure Quality</td>\n",
       "      <td>71111.1</td>\n",
       "      <td>A self-revealed Green non-cited violation of t...</td>\n",
       "    </tr>\n",
       "    <tr>\n",
       "      <th>1</th>\n",
       "      <td>Region: I</td>\n",
       "      <td>Beaver Valley</td>\n",
       "      <td>38859</td>\n",
       "      <td>12/31/2018\\r\\n02/05/2019</td>\n",
       "      <td>2018004-02</td>\n",
       "      <td>NRC</td>\n",
       "      <td>NCV</td>\n",
       "      <td>Mitigating Systems</td>\n",
       "      <td>Green</td>\n",
       "      <td>Failure to correct a degraded condition with t...</td>\n",
       "      <td>NaN</td>\n",
       "      <td>P.3 - Resolution</td>\n",
       "      <td>TE?: N</td>\n",
       "      <td>05000412 Beaver Valley 2</td>\n",
       "      <td>Equipment Performance</td>\n",
       "      <td>71152</td>\n",
       "      <td>The inspectors identified a Green non-cited vi...</td>\n",
       "    </tr>\n",
       "    <tr>\n",
       "      <th>2</th>\n",
       "      <td>Region: I</td>\n",
       "      <td>Beaver Valley</td>\n",
       "      <td>24690</td>\n",
       "      <td>09/30/2018\\r\\n10/30/2018</td>\n",
       "      <td>2018003-01</td>\n",
       "      <td>Self - Revealed</td>\n",
       "      <td>NCV</td>\n",
       "      <td>Mitigating Systems</td>\n",
       "      <td>Green</td>\n",
       "      <td>Inadequate Verification of Full Low Head Safet...</td>\n",
       "      <td>NaN</td>\n",
       "      <td>H.11 - Challenge the Unknown</td>\n",
       "      <td>TE?: N</td>\n",
       "      <td>05000334 Beaver Valley 1</td>\n",
       "      <td>NaN</td>\n",
       "      <td>71111.1</td>\n",
       "      <td>A self-revealed Green non-cited violation (NCV...</td>\n",
       "    </tr>\n",
       "  </tbody>\n",
       "</table>\n",
       "</div>"
      ],
      "text/plain": [
       "      Region           Site     Id            Pim_Issue_Date      Source  \\\n",
       "0  Region: I  Beaver Valley  25912  12/31/2018\\r\\n02/05/2019  2018004-01   \n",
       "1  Region: I  Beaver Valley  38859  12/31/2018\\r\\n02/05/2019  2018004-02   \n",
       "2  Region: I  Beaver Valley  24690  09/30/2018\\r\\n10/30/2018  2018003-01   \n",
       "\n",
       "              IdBy Type        Cornerstone_ Significance  \\\n",
       "0  Self - Revealed  NCV   Initiating Events        Green   \n",
       "1              NRC  NCV  Mitigating Systems        Green   \n",
       "2  Self - Revealed  NCV  Mitigating Systems        Green   \n",
       "\n",
       "                                              Title_ EACaseNo  \\\n",
       "0  Inadvertent Service Water Header Pressure Redu...      NaN   \n",
       "1  Failure to correct a degraded condition with t...      NaN   \n",
       "2  Inadequate Verification of Full Low Head Safet...      NaN   \n",
       "\n",
       "             CrossCuttingAspect      TE                    Docket  \\\n",
       "0      H.12 - Avoid Complacency  TE?: N  05000412 Beaver Valley 2   \n",
       "1              P.3 - Resolution  TE?: N  05000412 Beaver Valley 2   \n",
       "2  H.11 - Challenge the Unknown  TE?: N  05000334 Beaver Valley 1   \n",
       "\n",
       "    CornerstoneAttribute Procedure  \\\n",
       "0      Procedure Quality   71111.1   \n",
       "1  Equipment Performance     71152   \n",
       "2                    NaN   71111.1   \n",
       "\n",
       "                                       Introduction_  \n",
       "0  A self-revealed Green non-cited violation of t...  \n",
       "1  The inspectors identified a Green non-cited vi...  \n",
       "2  A self-revealed Green non-cited violation (NCV...  "
      ]
     },
     "execution_count": 45,
     "metadata": {},
     "output_type": "execute_result"
    }
   ],
   "source": [
    "findings.head(3)"
   ]
  },
  {
   "cell_type": "code",
   "execution_count": 46,
   "metadata": {},
   "outputs": [],
   "source": [
    "findings = findings[[\"Region\", \"Site\", \"Pim_Issue_Date\", \"Source\", \"Type\", \"IdBy\"]]"
   ]
  },
  {
   "cell_type": "code",
   "execution_count": 47,
   "metadata": {},
   "outputs": [
    {
     "data": {
      "text/plain": [
       "(9938, 6)"
      ]
     },
     "execution_count": 47,
     "metadata": {},
     "output_type": "execute_result"
    }
   ],
   "source": [
    "findings.shape"
   ]
  },
  {
   "cell_type": "code",
   "execution_count": 48,
   "metadata": {},
   "outputs": [
    {
     "data": {
      "text/plain": [
       "array(['Region: I', 'Region: II', 'Region: III', 'Region: IV'],\n",
       "      dtype=object)"
      ]
     },
     "execution_count": 48,
     "metadata": {},
     "output_type": "execute_result"
    }
   ],
   "source": [
    "findings[\"Region\"].unique()"
   ]
  },
  {
   "cell_type": "code",
   "execution_count": 49,
   "metadata": {},
   "outputs": [
    {
     "data": {
      "text/plain": [
       "array(['Beaver Valley', 'Calvert Cliffs', 'Crystal River', 'FitzPatrick',\n",
       "       'Ginna', 'Hope Creek', 'Indian Point', 'Limerick', 'Millstone',\n",
       "       'Nine Mile Point', 'Oyster Creek', 'Peach Bottom', 'Pilgrim',\n",
       "       'Salem', 'Seabrook', 'Susquehanna', 'Three Mile Island',\n",
       "       'Vermont Yankee', 'Browns Ferry', 'Brunswick', 'Catawba', 'Farley',\n",
       "       'Harris', 'Hatch', 'McGuire', 'North Anna', 'Oconee', 'Robinson',\n",
       "       'Saint Lucie', 'Sequoyah', 'Summer', 'Surry', 'Turkey Point',\n",
       "       'Vogtle', 'Watts Bar', 'Braidwood', 'Byron', 'Clinton',\n",
       "       'D.C. Cook', 'Davis-Besse', 'Dresden', 'Duane Arnold', 'Fermi',\n",
       "       'Kewaunee', 'LaSalle', 'Monticello', 'Palisades', 'Perry',\n",
       "       'Point Beach', 'Prairie Island', 'Quad Cities',\n",
       "       'Arkansas Nuclear One', 'Callaway', 'Columbia Generating Station',\n",
       "       'Comanche Peak', 'Cooper', 'Diablo Canyon', 'Fort Calhoun',\n",
       "       'Grand Gulf', 'Palo Verde', 'River Bend', 'San Onofre',\n",
       "       'South Texas Project', 'Waterford', 'Wolf Creek'], dtype=object)"
      ]
     },
     "execution_count": 49,
     "metadata": {},
     "output_type": "execute_result"
    }
   ],
   "source": [
    "findings[\"Site\"].unique()"
   ]
  },
  {
   "cell_type": "code",
   "execution_count": 50,
   "metadata": {},
   "outputs": [],
   "source": [
    "findings[\"Site\"] = findings[\"Site\"].map({\n",
    "        'D.C. Cook': 'Cook',\n",
    "        'Davis-Besse': 'Davis Besse',\n",
    "        'Columbia Generating Station': 'Columbia'\n",
    "        }).fillna(findings[\"Site\"])"
   ]
  },
  {
   "cell_type": "code",
   "execution_count": 51,
   "metadata": {},
   "outputs": [
    {
     "data": {
      "text/plain": [
       "array(['2018004-01', '2018004-02', '2018003-01', ..., '2008007-07',\n",
       "       '2008007-08', '2006010-04'], dtype=object)"
      ]
     },
     "execution_count": 51,
     "metadata": {},
     "output_type": "execute_result"
    }
   ],
   "source": [
    "findings[\"Source\"].unique()"
   ]
  },
  {
   "cell_type": "code",
   "execution_count": 52,
   "metadata": {},
   "outputs": [
    {
     "data": {
      "text/html": [
       "<div>\n",
       "<style scoped>\n",
       "    .dataframe tbody tr th:only-of-type {\n",
       "        vertical-align: middle;\n",
       "    }\n",
       "\n",
       "    .dataframe tbody tr th {\n",
       "        vertical-align: top;\n",
       "    }\n",
       "\n",
       "    .dataframe thead th {\n",
       "        text-align: right;\n",
       "    }\n",
       "</style>\n",
       "<table border=\"1\" class=\"dataframe\">\n",
       "  <thead>\n",
       "    <tr style=\"text-align: right;\">\n",
       "      <th></th>\n",
       "      <th>Region</th>\n",
       "      <th>Site</th>\n",
       "      <th>Pim_Issue_Date</th>\n",
       "      <th>Source</th>\n",
       "      <th>Type</th>\n",
       "      <th>IdBy</th>\n",
       "      <th>Year</th>\n",
       "    </tr>\n",
       "  </thead>\n",
       "  <tbody>\n",
       "    <tr>\n",
       "      <th>0</th>\n",
       "      <td>Region: I</td>\n",
       "      <td>Beaver Valley</td>\n",
       "      <td>12/31/2018\\r\\n02/05/2019</td>\n",
       "      <td>2018004-01</td>\n",
       "      <td>NCV</td>\n",
       "      <td>Self - Revealed</td>\n",
       "      <td>2018</td>\n",
       "    </tr>\n",
       "    <tr>\n",
       "      <th>1</th>\n",
       "      <td>Region: I</td>\n",
       "      <td>Beaver Valley</td>\n",
       "      <td>12/31/2018\\r\\n02/05/2019</td>\n",
       "      <td>2018004-02</td>\n",
       "      <td>NCV</td>\n",
       "      <td>NRC</td>\n",
       "      <td>2018</td>\n",
       "    </tr>\n",
       "    <tr>\n",
       "      <th>2</th>\n",
       "      <td>Region: I</td>\n",
       "      <td>Beaver Valley</td>\n",
       "      <td>09/30/2018\\r\\n10/30/2018</td>\n",
       "      <td>2018003-01</td>\n",
       "      <td>NCV</td>\n",
       "      <td>Self - Revealed</td>\n",
       "      <td>2018</td>\n",
       "    </tr>\n",
       "    <tr>\n",
       "      <th>3</th>\n",
       "      <td>Region: I</td>\n",
       "      <td>Beaver Valley</td>\n",
       "      <td>08/10/2018\\r\\n09/20/2018</td>\n",
       "      <td>2018011-01</td>\n",
       "      <td>NCV</td>\n",
       "      <td>NRC</td>\n",
       "      <td>2018</td>\n",
       "    </tr>\n",
       "    <tr>\n",
       "      <th>4</th>\n",
       "      <td>Region: I</td>\n",
       "      <td>Beaver Valley</td>\n",
       "      <td>03/31/2018\\r\\n05/02/2018</td>\n",
       "      <td>NaN</td>\n",
       "      <td>FIN</td>\n",
       "      <td>Self - Revealed</td>\n",
       "      <td>NaN</td>\n",
       "    </tr>\n",
       "  </tbody>\n",
       "</table>\n",
       "</div>"
      ],
      "text/plain": [
       "      Region           Site            Pim_Issue_Date      Source Type  \\\n",
       "0  Region: I  Beaver Valley  12/31/2018\\r\\n02/05/2019  2018004-01  NCV   \n",
       "1  Region: I  Beaver Valley  12/31/2018\\r\\n02/05/2019  2018004-02  NCV   \n",
       "2  Region: I  Beaver Valley  09/30/2018\\r\\n10/30/2018  2018003-01  NCV   \n",
       "3  Region: I  Beaver Valley  08/10/2018\\r\\n09/20/2018  2018011-01  NCV   \n",
       "4  Region: I  Beaver Valley  03/31/2018\\r\\n05/02/2018         NaN  FIN   \n",
       "\n",
       "              IdBy  Year  \n",
       "0  Self - Revealed  2018  \n",
       "1              NRC  2018  \n",
       "2  Self - Revealed  2018  \n",
       "3              NRC  2018  \n",
       "4  Self - Revealed   NaN  "
      ]
     },
     "execution_count": 52,
     "metadata": {},
     "output_type": "execute_result"
    }
   ],
   "source": [
    "findings[\"Year\"] = findings[\"Source\"].str[0:4]\n",
    "findings.head()"
   ]
  },
  {
   "cell_type": "code",
   "execution_count": 53,
   "metadata": {},
   "outputs": [
    {
     "data": {
      "text/plain": [
       "array(['2018', nan, '2017', '2016', '2015', '2014', '2013', '2012',\n",
       "       '2011', '2010', '2009', '2008', '2007', '2006', '2019', '2005',\n",
       "       '2004'], dtype=object)"
      ]
     },
     "execution_count": 53,
     "metadata": {},
     "output_type": "execute_result"
    }
   ],
   "source": [
    "findings[\"Year\"].unique()"
   ]
  },
  {
   "cell_type": "code",
   "execution_count": 54,
   "metadata": {},
   "outputs": [
    {
     "data": {
      "text/html": [
       "<div>\n",
       "<style scoped>\n",
       "    .dataframe tbody tr th:only-of-type {\n",
       "        vertical-align: middle;\n",
       "    }\n",
       "\n",
       "    .dataframe tbody tr th {\n",
       "        vertical-align: top;\n",
       "    }\n",
       "\n",
       "    .dataframe thead th {\n",
       "        text-align: right;\n",
       "    }\n",
       "</style>\n",
       "<table border=\"1\" class=\"dataframe\">\n",
       "  <thead>\n",
       "    <tr style=\"text-align: right;\">\n",
       "      <th></th>\n",
       "      <th>Region</th>\n",
       "      <th>Site</th>\n",
       "      <th>Pim_Issue_Date</th>\n",
       "      <th>Source</th>\n",
       "      <th>Type</th>\n",
       "      <th>IdBy</th>\n",
       "      <th>Year</th>\n",
       "    </tr>\n",
       "  </thead>\n",
       "  <tbody>\n",
       "    <tr>\n",
       "      <th>4</th>\n",
       "      <td>Region: I</td>\n",
       "      <td>Beaver Valley</td>\n",
       "      <td>03/31/2018\\r\\n05/02/2018</td>\n",
       "      <td>NaN</td>\n",
       "      <td>FIN</td>\n",
       "      <td>Self - Revealed</td>\n",
       "      <td>NaN</td>\n",
       "    </tr>\n",
       "    <tr>\n",
       "      <th>89</th>\n",
       "      <td>Region: I</td>\n",
       "      <td>Calvert Cliffs</td>\n",
       "      <td>12/31/2018\\r\\n02/01/2019</td>\n",
       "      <td>NaN</td>\n",
       "      <td>FIN</td>\n",
       "      <td>NRC</td>\n",
       "      <td>NaN</td>\n",
       "    </tr>\n",
       "    <tr>\n",
       "      <th>199</th>\n",
       "      <td>Region: I</td>\n",
       "      <td>Calvert Cliffs</td>\n",
       "      <td>\\r\\n05/07/2019</td>\n",
       "      <td>NaN</td>\n",
       "      <td>LIV</td>\n",
       "      <td>NaN</td>\n",
       "      <td>NaN</td>\n",
       "    </tr>\n",
       "    <tr>\n",
       "      <th>305</th>\n",
       "      <td>Region: I</td>\n",
       "      <td>FitzPatrick</td>\n",
       "      <td>\\r\\n08/12/2019</td>\n",
       "      <td>NaN</td>\n",
       "      <td>LIV</td>\n",
       "      <td>NaN</td>\n",
       "      <td>NaN</td>\n",
       "    </tr>\n",
       "    <tr>\n",
       "      <th>391</th>\n",
       "      <td>Region: I</td>\n",
       "      <td>Hope Creek</td>\n",
       "      <td>12/31/2019\\r\\n02/10/2020</td>\n",
       "      <td>NaN</td>\n",
       "      <td>NCV</td>\n",
       "      <td>NRC</td>\n",
       "      <td>NaN</td>\n",
       "    </tr>\n",
       "    <tr>\n",
       "      <th>...</th>\n",
       "      <td>...</td>\n",
       "      <td>...</td>\n",
       "      <td>...</td>\n",
       "      <td>...</td>\n",
       "      <td>...</td>\n",
       "      <td>...</td>\n",
       "      <td>...</td>\n",
       "    </tr>\n",
       "    <tr>\n",
       "      <th>9440</th>\n",
       "      <td>Region: IV</td>\n",
       "      <td>South Texas Project</td>\n",
       "      <td>\\r\\n11/04/2019</td>\n",
       "      <td>NaN</td>\n",
       "      <td>LIV</td>\n",
       "      <td>Licensee - Identified</td>\n",
       "      <td>NaN</td>\n",
       "    </tr>\n",
       "    <tr>\n",
       "      <th>9441</th>\n",
       "      <td>Region: IV</td>\n",
       "      <td>South Texas Project</td>\n",
       "      <td>\\r\\n11/04/2019</td>\n",
       "      <td>NaN</td>\n",
       "      <td>LIV</td>\n",
       "      <td>Licensee - Identified</td>\n",
       "      <td>NaN</td>\n",
       "    </tr>\n",
       "    <tr>\n",
       "      <th>9626</th>\n",
       "      <td>Region: IV</td>\n",
       "      <td>Waterford</td>\n",
       "      <td>\\r\\n11/05/2019</td>\n",
       "      <td>NaN</td>\n",
       "      <td>LIV</td>\n",
       "      <td>Licensee - Identified</td>\n",
       "      <td>NaN</td>\n",
       "    </tr>\n",
       "    <tr>\n",
       "      <th>9936</th>\n",
       "      <td>Region: IV</td>\n",
       "      <td>Wolf Creek</td>\n",
       "      <td>\\r\\n05/08/2019</td>\n",
       "      <td>NaN</td>\n",
       "      <td>LIV</td>\n",
       "      <td>NaN</td>\n",
       "      <td>NaN</td>\n",
       "    </tr>\n",
       "    <tr>\n",
       "      <th>9937</th>\n",
       "      <td>Region: IV</td>\n",
       "      <td>Wolf Creek</td>\n",
       "      <td>\\r\\n09/24/2019</td>\n",
       "      <td>NaN</td>\n",
       "      <td>LIV</td>\n",
       "      <td>NaN</td>\n",
       "      <td>NaN</td>\n",
       "    </tr>\n",
       "  </tbody>\n",
       "</table>\n",
       "<p>109 rows × 7 columns</p>\n",
       "</div>"
      ],
      "text/plain": [
       "          Region                 Site            Pim_Issue_Date Source Type  \\\n",
       "4      Region: I        Beaver Valley  03/31/2018\\r\\n05/02/2018    NaN  FIN   \n",
       "89     Region: I       Calvert Cliffs  12/31/2018\\r\\n02/01/2019    NaN  FIN   \n",
       "199    Region: I       Calvert Cliffs            \\r\\n05/07/2019    NaN  LIV   \n",
       "305    Region: I          FitzPatrick            \\r\\n08/12/2019    NaN  LIV   \n",
       "391    Region: I           Hope Creek  12/31/2019\\r\\n02/10/2020    NaN  NCV   \n",
       "...          ...                  ...                       ...    ...  ...   \n",
       "9440  Region: IV  South Texas Project            \\r\\n11/04/2019    NaN  LIV   \n",
       "9441  Region: IV  South Texas Project            \\r\\n11/04/2019    NaN  LIV   \n",
       "9626  Region: IV            Waterford            \\r\\n11/05/2019    NaN  LIV   \n",
       "9936  Region: IV           Wolf Creek            \\r\\n05/08/2019    NaN  LIV   \n",
       "9937  Region: IV           Wolf Creek            \\r\\n09/24/2019    NaN  LIV   \n",
       "\n",
       "                       IdBy Year  \n",
       "4           Self - Revealed  NaN  \n",
       "89                      NRC  NaN  \n",
       "199                     NaN  NaN  \n",
       "305                     NaN  NaN  \n",
       "391                     NRC  NaN  \n",
       "...                     ...  ...  \n",
       "9440  Licensee - Identified  NaN  \n",
       "9441  Licensee - Identified  NaN  \n",
       "9626  Licensee - Identified  NaN  \n",
       "9936                    NaN  NaN  \n",
       "9937                    NaN  NaN  \n",
       "\n",
       "[109 rows x 7 columns]"
      ]
     },
     "execution_count": 54,
     "metadata": {},
     "output_type": "execute_result"
    }
   ],
   "source": [
    "findings[findings[\"Source\"].isnull()]"
   ]
  },
  {
   "cell_type": "code",
   "execution_count": 55,
   "metadata": {},
   "outputs": [],
   "source": [
    "findings.dropna(subset=['Source'], inplace = True)"
   ]
  },
  {
   "cell_type": "code",
   "execution_count": 56,
   "metadata": {},
   "outputs": [
    {
     "data": {
      "text/plain": [
       "(9829, 7)"
      ]
     },
     "execution_count": 56,
     "metadata": {},
     "output_type": "execute_result"
    }
   ],
   "source": [
    "findings.shape"
   ]
  },
  {
   "cell_type": "code",
   "execution_count": 57,
   "metadata": {},
   "outputs": [
    {
     "data": {
      "text/html": [
       "<div>\n",
       "<style scoped>\n",
       "    .dataframe tbody tr th:only-of-type {\n",
       "        vertical-align: middle;\n",
       "    }\n",
       "\n",
       "    .dataframe tbody tr th {\n",
       "        vertical-align: top;\n",
       "    }\n",
       "\n",
       "    .dataframe thead th {\n",
       "        text-align: right;\n",
       "    }\n",
       "</style>\n",
       "<table border=\"1\" class=\"dataframe\">\n",
       "  <thead>\n",
       "    <tr style=\"text-align: right;\">\n",
       "      <th></th>\n",
       "      <th>Region</th>\n",
       "      <th>Site</th>\n",
       "      <th>Pim_Issue_Date</th>\n",
       "      <th>Source</th>\n",
       "      <th>Type</th>\n",
       "      <th>IdBy</th>\n",
       "      <th>Year</th>\n",
       "    </tr>\n",
       "  </thead>\n",
       "  <tbody>\n",
       "    <tr>\n",
       "      <th>9933</th>\n",
       "      <td>Region: IV</td>\n",
       "      <td>Wolf Creek</td>\n",
       "      <td>04/07/2006\\r\\n05/22/2006</td>\n",
       "      <td>2006002-02</td>\n",
       "      <td>FIN</td>\n",
       "      <td>Self - Revealed</td>\n",
       "      <td>2006</td>\n",
       "    </tr>\n",
       "    <tr>\n",
       "      <th>9934</th>\n",
       "      <td>Region: IV</td>\n",
       "      <td>Wolf Creek</td>\n",
       "      <td>04/07/2006\\r\\n05/22/2006</td>\n",
       "      <td>2006002-03</td>\n",
       "      <td>NCV</td>\n",
       "      <td>NRC</td>\n",
       "      <td>2006</td>\n",
       "    </tr>\n",
       "    <tr>\n",
       "      <th>9935</th>\n",
       "      <td>Region: IV</td>\n",
       "      <td>Wolf Creek</td>\n",
       "      <td>04/07/2006\\r\\n05/22/2006</td>\n",
       "      <td>2006002-04</td>\n",
       "      <td>NCV</td>\n",
       "      <td>NRC</td>\n",
       "      <td>2006</td>\n",
       "    </tr>\n",
       "  </tbody>\n",
       "</table>\n",
       "</div>"
      ],
      "text/plain": [
       "          Region        Site            Pim_Issue_Date      Source Type  \\\n",
       "9933  Region: IV  Wolf Creek  04/07/2006\\r\\n05/22/2006  2006002-02  FIN   \n",
       "9934  Region: IV  Wolf Creek  04/07/2006\\r\\n05/22/2006  2006002-03  NCV   \n",
       "9935  Region: IV  Wolf Creek  04/07/2006\\r\\n05/22/2006  2006002-04  NCV   \n",
       "\n",
       "                 IdBy  Year  \n",
       "9933  Self - Revealed  2006  \n",
       "9934              NRC  2006  \n",
       "9935              NRC  2006  "
      ]
     },
     "execution_count": 57,
     "metadata": {},
     "output_type": "execute_result"
    }
   ],
   "source": [
    "findings = findings[(findings.Year != \"2004\") & (findings.Year != \"2005\")]\n",
    "findings.tail(3)"
   ]
  },
  {
   "cell_type": "code",
   "execution_count": 160,
   "metadata": {},
   "outputs": [
    {
     "data": {
      "text/plain": [
       "(9821, 7)"
      ]
     },
     "execution_count": 160,
     "metadata": {},
     "output_type": "execute_result"
    }
   ],
   "source": [
    "findings.shape"
   ]
  },
  {
   "cell_type": "code",
   "execution_count": 58,
   "metadata": {},
   "outputs": [],
   "source": [
    "findings[\"Year\"] = findings[\"Year\"].apply(np.int64)"
   ]
  },
  {
   "cell_type": "code",
   "execution_count": 59,
   "metadata": {},
   "outputs": [
    {
     "data": {
      "text/html": [
       "<div>\n",
       "<style scoped>\n",
       "    .dataframe tbody tr th:only-of-type {\n",
       "        vertical-align: middle;\n",
       "    }\n",
       "\n",
       "    .dataframe tbody tr th {\n",
       "        vertical-align: top;\n",
       "    }\n",
       "\n",
       "    .dataframe thead th {\n",
       "        text-align: right;\n",
       "    }\n",
       "</style>\n",
       "<table border=\"1\" class=\"dataframe\">\n",
       "  <thead>\n",
       "    <tr style=\"text-align: right;\">\n",
       "      <th></th>\n",
       "      <th>Region</th>\n",
       "      <th>Site</th>\n",
       "      <th>Pim_Issue_Date</th>\n",
       "      <th>Source</th>\n",
       "      <th>Type</th>\n",
       "      <th>IdBy</th>\n",
       "      <th>Year</th>\n",
       "    </tr>\n",
       "  </thead>\n",
       "  <tbody>\n",
       "    <tr>\n",
       "      <th>0</th>\n",
       "      <td>Region: I</td>\n",
       "      <td>Beaver Valley</td>\n",
       "      <td>12/31/2018\\r\\n02/05/2019</td>\n",
       "      <td>2018004-01</td>\n",
       "      <td>NCV</td>\n",
       "      <td>Self - Revealed</td>\n",
       "      <td>2018</td>\n",
       "    </tr>\n",
       "    <tr>\n",
       "      <th>1</th>\n",
       "      <td>Region: I</td>\n",
       "      <td>Beaver Valley</td>\n",
       "      <td>12/31/2018\\r\\n02/05/2019</td>\n",
       "      <td>2018004-02</td>\n",
       "      <td>NCV</td>\n",
       "      <td>NRC</td>\n",
       "      <td>2018</td>\n",
       "    </tr>\n",
       "    <tr>\n",
       "      <th>2</th>\n",
       "      <td>Region: I</td>\n",
       "      <td>Beaver Valley</td>\n",
       "      <td>09/30/2018\\r\\n10/30/2018</td>\n",
       "      <td>2018003-01</td>\n",
       "      <td>NCV</td>\n",
       "      <td>Self - Revealed</td>\n",
       "      <td>2018</td>\n",
       "    </tr>\n",
       "    <tr>\n",
       "      <th>3</th>\n",
       "      <td>Region: I</td>\n",
       "      <td>Beaver Valley</td>\n",
       "      <td>08/10/2018\\r\\n09/20/2018</td>\n",
       "      <td>2018011-01</td>\n",
       "      <td>NCV</td>\n",
       "      <td>NRC</td>\n",
       "      <td>2018</td>\n",
       "    </tr>\n",
       "    <tr>\n",
       "      <th>5</th>\n",
       "      <td>Region: I</td>\n",
       "      <td>Beaver Valley</td>\n",
       "      <td>02/23/2018\\r\\n05/03/2018</td>\n",
       "      <td>2018010-01</td>\n",
       "      <td>FIN</td>\n",
       "      <td>NRC</td>\n",
       "      <td>2018</td>\n",
       "    </tr>\n",
       "  </tbody>\n",
       "</table>\n",
       "</div>"
      ],
      "text/plain": [
       "      Region           Site            Pim_Issue_Date      Source Type  \\\n",
       "0  Region: I  Beaver Valley  12/31/2018\\r\\n02/05/2019  2018004-01  NCV   \n",
       "1  Region: I  Beaver Valley  12/31/2018\\r\\n02/05/2019  2018004-02  NCV   \n",
       "2  Region: I  Beaver Valley  09/30/2018\\r\\n10/30/2018  2018003-01  NCV   \n",
       "3  Region: I  Beaver Valley  08/10/2018\\r\\n09/20/2018  2018011-01  NCV   \n",
       "5  Region: I  Beaver Valley  02/23/2018\\r\\n05/03/2018  2018010-01  FIN   \n",
       "\n",
       "              IdBy  Year  \n",
       "0  Self - Revealed  2018  \n",
       "1              NRC  2018  \n",
       "2  Self - Revealed  2018  \n",
       "3              NRC  2018  \n",
       "5              NRC  2018  "
      ]
     },
     "execution_count": 59,
     "metadata": {},
     "output_type": "execute_result"
    }
   ],
   "source": [
    "findings.head()"
   ]
  },
  {
   "cell_type": "code",
   "execution_count": 60,
   "metadata": {},
   "outputs": [
    {
     "data": {
      "text/plain": [
       "array(['NCV', 'FIN', 'URI', 'NOV', 'VIO', 'NCVIV', 'UNKN', 'AV', 'NOVIV'],\n",
       "      dtype=object)"
      ]
     },
     "execution_count": 60,
     "metadata": {},
     "output_type": "execute_result"
    }
   ],
   "source": [
    "findings[\"Type\"].unique()"
   ]
  },
  {
   "cell_type": "code",
   "execution_count": 61,
   "metadata": {},
   "outputs": [
    {
     "data": {
      "text/html": [
       "<div>\n",
       "<style scoped>\n",
       "    .dataframe tbody tr th:only-of-type {\n",
       "        vertical-align: middle;\n",
       "    }\n",
       "\n",
       "    .dataframe tbody tr th {\n",
       "        vertical-align: top;\n",
       "    }\n",
       "\n",
       "    .dataframe thead th {\n",
       "        text-align: right;\n",
       "    }\n",
       "</style>\n",
       "<table border=\"1\" class=\"dataframe\">\n",
       "  <thead>\n",
       "    <tr style=\"text-align: right;\">\n",
       "      <th></th>\n",
       "      <th>Region</th>\n",
       "      <th>Site</th>\n",
       "      <th>Pim_Issue_Date</th>\n",
       "      <th>Source</th>\n",
       "      <th>Type</th>\n",
       "      <th>IdBy</th>\n",
       "      <th>Year</th>\n",
       "    </tr>\n",
       "  </thead>\n",
       "  <tbody>\n",
       "  </tbody>\n",
       "</table>\n",
       "</div>"
      ],
      "text/plain": [
       "Empty DataFrame\n",
       "Columns: [Region, Site, Pim_Issue_Date, Source, Type, IdBy, Year]\n",
       "Index: []"
      ]
     },
     "execution_count": 61,
     "metadata": {},
     "output_type": "execute_result"
    }
   ],
   "source": [
    "findings[findings[\"Type\"] == \"LIV\"]"
   ]
  },
  {
   "cell_type": "code",
   "execution_count": 62,
   "metadata": {},
   "outputs": [],
   "source": [
    "#eliminate rows with type AV, URI, UNKN\n",
    "findings = findings[(findings.Type != \"URI\") & (findings.Type != \"AV\") & (findings.Type != \"UNKN\")]"
   ]
  },
  {
   "cell_type": "code",
   "execution_count": 63,
   "metadata": {},
   "outputs": [
    {
     "data": {
      "text/plain": [
       "(9752, 7)"
      ]
     },
     "execution_count": 63,
     "metadata": {},
     "output_type": "execute_result"
    }
   ],
   "source": [
    "findings.shape"
   ]
  },
  {
   "cell_type": "code",
   "execution_count": 64,
   "metadata": {},
   "outputs": [],
   "source": [
    "findings = findings[[\"Region\", \"Site\", \"Type\", \"Year\", \"IdBy\"]]"
   ]
  },
  {
   "cell_type": "code",
   "execution_count": 65,
   "metadata": {},
   "outputs": [
    {
     "data": {
      "text/html": [
       "<div>\n",
       "<style scoped>\n",
       "    .dataframe tbody tr th:only-of-type {\n",
       "        vertical-align: middle;\n",
       "    }\n",
       "\n",
       "    .dataframe tbody tr th {\n",
       "        vertical-align: top;\n",
       "    }\n",
       "\n",
       "    .dataframe thead th {\n",
       "        text-align: right;\n",
       "    }\n",
       "</style>\n",
       "<table border=\"1\" class=\"dataframe\">\n",
       "  <thead>\n",
       "    <tr style=\"text-align: right;\">\n",
       "      <th></th>\n",
       "      <th>Region</th>\n",
       "      <th>Site</th>\n",
       "      <th>Type</th>\n",
       "      <th>Year</th>\n",
       "      <th>IdBy</th>\n",
       "    </tr>\n",
       "  </thead>\n",
       "  <tbody>\n",
       "    <tr>\n",
       "      <th>0</th>\n",
       "      <td>Region: I</td>\n",
       "      <td>Beaver Valley</td>\n",
       "      <td>NCV</td>\n",
       "      <td>2018</td>\n",
       "      <td>Self - Revealed</td>\n",
       "    </tr>\n",
       "    <tr>\n",
       "      <th>1</th>\n",
       "      <td>Region: I</td>\n",
       "      <td>Beaver Valley</td>\n",
       "      <td>NCV</td>\n",
       "      <td>2018</td>\n",
       "      <td>NRC</td>\n",
       "    </tr>\n",
       "    <tr>\n",
       "      <th>2</th>\n",
       "      <td>Region: I</td>\n",
       "      <td>Beaver Valley</td>\n",
       "      <td>NCV</td>\n",
       "      <td>2018</td>\n",
       "      <td>Self - Revealed</td>\n",
       "    </tr>\n",
       "    <tr>\n",
       "      <th>3</th>\n",
       "      <td>Region: I</td>\n",
       "      <td>Beaver Valley</td>\n",
       "      <td>NCV</td>\n",
       "      <td>2018</td>\n",
       "      <td>NRC</td>\n",
       "    </tr>\n",
       "    <tr>\n",
       "      <th>5</th>\n",
       "      <td>Region: I</td>\n",
       "      <td>Beaver Valley</td>\n",
       "      <td>FIN</td>\n",
       "      <td>2018</td>\n",
       "      <td>NRC</td>\n",
       "    </tr>\n",
       "  </tbody>\n",
       "</table>\n",
       "</div>"
      ],
      "text/plain": [
       "      Region           Site Type  Year             IdBy\n",
       "0  Region: I  Beaver Valley  NCV  2018  Self - Revealed\n",
       "1  Region: I  Beaver Valley  NCV  2018              NRC\n",
       "2  Region: I  Beaver Valley  NCV  2018  Self - Revealed\n",
       "3  Region: I  Beaver Valley  NCV  2018              NRC\n",
       "5  Region: I  Beaver Valley  FIN  2018              NRC"
      ]
     },
     "execution_count": 65,
     "metadata": {},
     "output_type": "execute_result"
    }
   ],
   "source": [
    "findings.head()"
   ]
  },
  {
   "cell_type": "code",
   "execution_count": 66,
   "metadata": {},
   "outputs": [],
   "source": [
    "findings = findings.groupby(by=['Site', 'Year']).count()[[\"Region\"]].reset_index()"
   ]
  },
  {
   "cell_type": "code",
   "execution_count": 67,
   "metadata": {},
   "outputs": [],
   "source": [
    "findings[\"TotalFindings\"] = findings[\"Region\"]\n",
    "findings = findings[[\"Site\", \"Year\", \"TotalFindings\"]]"
   ]
  },
  {
   "cell_type": "code",
   "execution_count": 68,
   "metadata": {},
   "outputs": [
    {
     "data": {
      "text/html": [
       "<div>\n",
       "<style scoped>\n",
       "    .dataframe tbody tr th:only-of-type {\n",
       "        vertical-align: middle;\n",
       "    }\n",
       "\n",
       "    .dataframe tbody tr th {\n",
       "        vertical-align: top;\n",
       "    }\n",
       "\n",
       "    .dataframe thead th {\n",
       "        text-align: right;\n",
       "    }\n",
       "</style>\n",
       "<table border=\"1\" class=\"dataframe\">\n",
       "  <thead>\n",
       "    <tr style=\"text-align: right;\">\n",
       "      <th></th>\n",
       "      <th>Site</th>\n",
       "      <th>Year</th>\n",
       "      <th>TotalFindings</th>\n",
       "    </tr>\n",
       "  </thead>\n",
       "  <tbody>\n",
       "    <tr>\n",
       "      <th>0</th>\n",
       "      <td>Arkansas Nuclear One</td>\n",
       "      <td>2006</td>\n",
       "      <td>11</td>\n",
       "    </tr>\n",
       "    <tr>\n",
       "      <th>1</th>\n",
       "      <td>Arkansas Nuclear One</td>\n",
       "      <td>2007</td>\n",
       "      <td>26</td>\n",
       "    </tr>\n",
       "    <tr>\n",
       "      <th>2</th>\n",
       "      <td>Arkansas Nuclear One</td>\n",
       "      <td>2008</td>\n",
       "      <td>21</td>\n",
       "    </tr>\n",
       "    <tr>\n",
       "      <th>3</th>\n",
       "      <td>Arkansas Nuclear One</td>\n",
       "      <td>2009</td>\n",
       "      <td>21</td>\n",
       "    </tr>\n",
       "    <tr>\n",
       "      <th>4</th>\n",
       "      <td>Arkansas Nuclear One</td>\n",
       "      <td>2010</td>\n",
       "      <td>24</td>\n",
       "    </tr>\n",
       "  </tbody>\n",
       "</table>\n",
       "</div>"
      ],
      "text/plain": [
       "                   Site  Year  TotalFindings\n",
       "0  Arkansas Nuclear One  2006             11\n",
       "1  Arkansas Nuclear One  2007             26\n",
       "2  Arkansas Nuclear One  2008             21\n",
       "3  Arkansas Nuclear One  2009             21\n",
       "4  Arkansas Nuclear One  2010             24"
      ]
     },
     "execution_count": 68,
     "metadata": {},
     "output_type": "execute_result"
    }
   ],
   "source": [
    "findings.head()"
   ]
  },
  {
   "cell_type": "code",
   "execution_count": 69,
   "metadata": {},
   "outputs": [
    {
     "data": {
      "text/plain": [
       "Columbia          14\n",
       "Fermi             14\n",
       "Harris            13\n",
       "Wolf Creek        13\n",
       "Pilgrim           13\n",
       "Beaver Valley     13\n",
       "Oyster Creek      12\n",
       "Fort Calhoun      11\n",
       "Vermont Yankee    10\n",
       "San Onofre         8\n",
       "Kewaunee           8\n",
       "Crystal River      7\n",
       "Name: Site, dtype: int64"
      ]
     },
     "execution_count": 69,
     "metadata": {},
     "output_type": "execute_result"
    }
   ],
   "source": [
    "findings[\"Site\"].value_counts().tail(12)"
   ]
  },
  {
   "cell_type": "code",
   "execution_count": 70,
   "metadata": {},
   "outputs": [
    {
     "data": {
      "text/html": [
       "<div>\n",
       "<style scoped>\n",
       "    .dataframe tbody tr th:only-of-type {\n",
       "        vertical-align: middle;\n",
       "    }\n",
       "\n",
       "    .dataframe tbody tr th {\n",
       "        vertical-align: top;\n",
       "    }\n",
       "\n",
       "    .dataframe thead th {\n",
       "        text-align: right;\n",
       "    }\n",
       "</style>\n",
       "<table border=\"1\" class=\"dataframe\">\n",
       "  <thead>\n",
       "    <tr style=\"text-align: right;\">\n",
       "      <th></th>\n",
       "      <th>Site</th>\n",
       "      <th>Year</th>\n",
       "      <th>TotalFindings</th>\n",
       "    </tr>\n",
       "  </thead>\n",
       "  <tbody>\n",
       "    <tr>\n",
       "      <th>813</th>\n",
       "      <td>Vermont Yankee</td>\n",
       "      <td>2006</td>\n",
       "      <td>5</td>\n",
       "    </tr>\n",
       "    <tr>\n",
       "      <th>814</th>\n",
       "      <td>Vermont Yankee</td>\n",
       "      <td>2007</td>\n",
       "      <td>6</td>\n",
       "    </tr>\n",
       "    <tr>\n",
       "      <th>815</th>\n",
       "      <td>Vermont Yankee</td>\n",
       "      <td>2008</td>\n",
       "      <td>12</td>\n",
       "    </tr>\n",
       "    <tr>\n",
       "      <th>816</th>\n",
       "      <td>Vermont Yankee</td>\n",
       "      <td>2009</td>\n",
       "      <td>5</td>\n",
       "    </tr>\n",
       "    <tr>\n",
       "      <th>817</th>\n",
       "      <td>Vermont Yankee</td>\n",
       "      <td>2010</td>\n",
       "      <td>8</td>\n",
       "    </tr>\n",
       "    <tr>\n",
       "      <th>818</th>\n",
       "      <td>Vermont Yankee</td>\n",
       "      <td>2011</td>\n",
       "      <td>5</td>\n",
       "    </tr>\n",
       "    <tr>\n",
       "      <th>819</th>\n",
       "      <td>Vermont Yankee</td>\n",
       "      <td>2012</td>\n",
       "      <td>6</td>\n",
       "    </tr>\n",
       "    <tr>\n",
       "      <th>820</th>\n",
       "      <td>Vermont Yankee</td>\n",
       "      <td>2013</td>\n",
       "      <td>13</td>\n",
       "    </tr>\n",
       "    <tr>\n",
       "      <th>821</th>\n",
       "      <td>Vermont Yankee</td>\n",
       "      <td>2014</td>\n",
       "      <td>8</td>\n",
       "    </tr>\n",
       "    <tr>\n",
       "      <th>822</th>\n",
       "      <td>Vermont Yankee</td>\n",
       "      <td>2015</td>\n",
       "      <td>1</td>\n",
       "    </tr>\n",
       "  </tbody>\n",
       "</table>\n",
       "</div>"
      ],
      "text/plain": [
       "               Site  Year  TotalFindings\n",
       "813  Vermont Yankee  2006              5\n",
       "814  Vermont Yankee  2007              6\n",
       "815  Vermont Yankee  2008             12\n",
       "816  Vermont Yankee  2009              5\n",
       "817  Vermont Yankee  2010              8\n",
       "818  Vermont Yankee  2011              5\n",
       "819  Vermont Yankee  2012              6\n",
       "820  Vermont Yankee  2013             13\n",
       "821  Vermont Yankee  2014              8\n",
       "822  Vermont Yankee  2015              1"
      ]
     },
     "execution_count": 70,
     "metadata": {},
     "output_type": "execute_result"
    }
   ],
   "source": [
    "findings[findings[\"Site\"] == \"Vermont Yankee\"]"
   ]
  },
  {
   "cell_type": "code",
   "execution_count": 71,
   "metadata": {},
   "outputs": [
    {
     "data": {
      "text/plain": [
       "(878, 3)"
      ]
     },
     "execution_count": 71,
     "metadata": {},
     "output_type": "execute_result"
    }
   ],
   "source": [
    "findings.shape"
   ]
  },
  {
   "cell_type": "code",
   "execution_count": 72,
   "metadata": {},
   "outputs": [],
   "source": [
    "#drop finding for year after plant was permanently shut down\n",
    "findings.drop([822], inplace = True)"
   ]
  },
  {
   "cell_type": "code",
   "execution_count": 73,
   "metadata": {},
   "outputs": [],
   "source": [
    "#add rows with 0 findings for plants that had no findings in a year\n",
    "no_findings = pd.DataFrame([[\"Crystal River\", 2012, 0], [\"Oyster Creek\", 2018, 0], [\"Wolf Creek\", 2019,0],\n",
    "                       [\"Beaver Valley\", 2019, 0], [\"Pilgrim\", 2019, 0], [\"Harris\", 2017, 0],], \n",
    "                      columns=['Site', 'Year', \"TotalFindings\"])"
   ]
  },
  {
   "cell_type": "code",
   "execution_count": 74,
   "metadata": {},
   "outputs": [
    {
     "data": {
      "text/plain": [
       "(883, 3)"
      ]
     },
     "execution_count": 74,
     "metadata": {},
     "output_type": "execute_result"
    }
   ],
   "source": [
    "findings = findings.append(no_findings, ignore_index = True)\n",
    "findings.shape"
   ]
  },
  {
   "cell_type": "code",
   "execution_count": 75,
   "metadata": {},
   "outputs": [],
   "source": [
    "findings = findings.sort_values(by =['Site', 'Year']).reset_index()\n",
    "findings = findings[[\"Site\",\"Year\",\"TotalFindings\"]]"
   ]
  },
  {
   "cell_type": "code",
   "execution_count": 76,
   "metadata": {},
   "outputs": [
    {
     "data": {
      "text/html": [
       "<div>\n",
       "<style scoped>\n",
       "    .dataframe tbody tr th:only-of-type {\n",
       "        vertical-align: middle;\n",
       "    }\n",
       "\n",
       "    .dataframe tbody tr th {\n",
       "        vertical-align: top;\n",
       "    }\n",
       "\n",
       "    .dataframe thead th {\n",
       "        text-align: right;\n",
       "    }\n",
       "</style>\n",
       "<table border=\"1\" class=\"dataframe\">\n",
       "  <thead>\n",
       "    <tr style=\"text-align: right;\">\n",
       "      <th></th>\n",
       "      <th>Site</th>\n",
       "      <th>Year</th>\n",
       "      <th>TotalFindings</th>\n",
       "    </tr>\n",
       "  </thead>\n",
       "  <tbody>\n",
       "    <tr>\n",
       "      <th>880</th>\n",
       "      <td>Wolf Creek</td>\n",
       "      <td>2017</td>\n",
       "      <td>12</td>\n",
       "    </tr>\n",
       "    <tr>\n",
       "      <th>881</th>\n",
       "      <td>Wolf Creek</td>\n",
       "      <td>2018</td>\n",
       "      <td>7</td>\n",
       "    </tr>\n",
       "    <tr>\n",
       "      <th>882</th>\n",
       "      <td>Wolf Creek</td>\n",
       "      <td>2019</td>\n",
       "      <td>0</td>\n",
       "    </tr>\n",
       "  </tbody>\n",
       "</table>\n",
       "</div>"
      ],
      "text/plain": [
       "           Site  Year  TotalFindings\n",
       "880  Wolf Creek  2017             12\n",
       "881  Wolf Creek  2018              7\n",
       "882  Wolf Creek  2019              0"
      ]
     },
     "execution_count": 76,
     "metadata": {},
     "output_type": "execute_result"
    }
   ],
   "source": [
    "findings.tail(3)"
   ]
  },
  {
   "cell_type": "code",
   "execution_count": 77,
   "metadata": {},
   "outputs": [],
   "source": [
    "findings.to_excel(\"findingsData.xlsx\")"
   ]
  },
  {
   "cell_type": "code",
   "execution_count": 78,
   "metadata": {},
   "outputs": [],
   "source": [
    "data = pd.read_excel(\"EnsAndAm.xlsx\")"
   ]
  },
  {
   "cell_type": "code",
   "execution_count": 79,
   "metadata": {},
   "outputs": [
    {
     "data": {
      "text/html": [
       "<div>\n",
       "<style scoped>\n",
       "    .dataframe tbody tr th:only-of-type {\n",
       "        vertical-align: middle;\n",
       "    }\n",
       "\n",
       "    .dataframe tbody tr th {\n",
       "        vertical-align: top;\n",
       "    }\n",
       "\n",
       "    .dataframe thead th {\n",
       "        text-align: right;\n",
       "    }\n",
       "</style>\n",
       "<table border=\"1\" class=\"dataframe\">\n",
       "  <thead>\n",
       "    <tr style=\"text-align: right;\">\n",
       "      <th></th>\n",
       "      <th>Unnamed: 0</th>\n",
       "      <th>Site</th>\n",
       "      <th>Year</th>\n",
       "      <th>ENCount</th>\n",
       "      <th>ScramCount</th>\n",
       "      <th>Column #</th>\n",
       "    </tr>\n",
       "  </thead>\n",
       "  <tbody>\n",
       "    <tr>\n",
       "      <th>881</th>\n",
       "      <td>881</td>\n",
       "      <td>WOLF CREEK</td>\n",
       "      <td>2018</td>\n",
       "      <td>4</td>\n",
       "      <td>0</td>\n",
       "      <td>2</td>\n",
       "    </tr>\n",
       "    <tr>\n",
       "      <th>882</th>\n",
       "      <td>882</td>\n",
       "      <td>WOLF CREEK</td>\n",
       "      <td>2019</td>\n",
       "      <td>3</td>\n",
       "      <td>0</td>\n",
       "      <td>1</td>\n",
       "    </tr>\n",
       "  </tbody>\n",
       "</table>\n",
       "</div>"
      ],
      "text/plain": [
       "     Unnamed: 0        Site  Year  ENCount  ScramCount  Column #\n",
       "881         881  WOLF CREEK  2018        4           0         2\n",
       "882         882  WOLF CREEK  2019        3           0         1"
      ]
     },
     "execution_count": 79,
     "metadata": {},
     "output_type": "execute_result"
    }
   ],
   "source": [
    "data.tail(2)"
   ]
  },
  {
   "cell_type": "code",
   "execution_count": 80,
   "metadata": {},
   "outputs": [
    {
     "data": {
      "text/html": [
       "<div>\n",
       "<style scoped>\n",
       "    .dataframe tbody tr th:only-of-type {\n",
       "        vertical-align: middle;\n",
       "    }\n",
       "\n",
       "    .dataframe tbody tr th {\n",
       "        vertical-align: top;\n",
       "    }\n",
       "\n",
       "    .dataframe thead th {\n",
       "        text-align: right;\n",
       "    }\n",
       "</style>\n",
       "<table border=\"1\" class=\"dataframe\">\n",
       "  <thead>\n",
       "    <tr style=\"text-align: right;\">\n",
       "      <th></th>\n",
       "      <th>Site</th>\n",
       "      <th>Year</th>\n",
       "      <th>ENCount</th>\n",
       "      <th>ScramCount</th>\n",
       "      <th>Column #</th>\n",
       "    </tr>\n",
       "  </thead>\n",
       "  <tbody>\n",
       "    <tr>\n",
       "      <th>0</th>\n",
       "      <td>ARKANSAS NUCLEAR ONE</td>\n",
       "      <td>2006</td>\n",
       "      <td>2</td>\n",
       "      <td>0</td>\n",
       "      <td>1</td>\n",
       "    </tr>\n",
       "    <tr>\n",
       "      <th>1</th>\n",
       "      <td>ARKANSAS NUCLEAR ONE</td>\n",
       "      <td>2007</td>\n",
       "      <td>2</td>\n",
       "      <td>1</td>\n",
       "      <td>1</td>\n",
       "    </tr>\n",
       "  </tbody>\n",
       "</table>\n",
       "</div>"
      ],
      "text/plain": [
       "                   Site  Year  ENCount  ScramCount  Column #\n",
       "0  ARKANSAS NUCLEAR ONE  2006        2           0         1\n",
       "1  ARKANSAS NUCLEAR ONE  2007        2           1         1"
      ]
     },
     "execution_count": 80,
     "metadata": {},
     "output_type": "execute_result"
    }
   ],
   "source": [
    "#eliminate unnecessary old index column\n",
    "data = data[[\"Site\", \"Year\", \"ENCount\", \"ScramCount\", \"Column #\"]]\n",
    "data.head(2)"
   ]
  },
  {
   "cell_type": "code",
   "execution_count": 82,
   "metadata": {},
   "outputs": [
    {
     "data": {
      "text/html": [
       "<div>\n",
       "<style scoped>\n",
       "    .dataframe tbody tr th:only-of-type {\n",
       "        vertical-align: middle;\n",
       "    }\n",
       "\n",
       "    .dataframe tbody tr th {\n",
       "        vertical-align: top;\n",
       "    }\n",
       "\n",
       "    .dataframe thead th {\n",
       "        text-align: right;\n",
       "    }\n",
       "</style>\n",
       "<table border=\"1\" class=\"dataframe\">\n",
       "  <thead>\n",
       "    <tr style=\"text-align: right;\">\n",
       "      <th></th>\n",
       "      <th>Site</th>\n",
       "      <th>Year</th>\n",
       "      <th>ENCount</th>\n",
       "      <th>ScramCount</th>\n",
       "      <th>Column #</th>\n",
       "      <th>Site_findings</th>\n",
       "      <th>Year_findings</th>\n",
       "      <th>TotalFindings</th>\n",
       "    </tr>\n",
       "  </thead>\n",
       "  <tbody>\n",
       "    <tr>\n",
       "      <th>878</th>\n",
       "      <td>WOLF CREEK</td>\n",
       "      <td>2015</td>\n",
       "      <td>8</td>\n",
       "      <td>2</td>\n",
       "      <td>1</td>\n",
       "      <td>Wolf Creek</td>\n",
       "      <td>2015</td>\n",
       "      <td>10</td>\n",
       "    </tr>\n",
       "    <tr>\n",
       "      <th>879</th>\n",
       "      <td>WOLF CREEK</td>\n",
       "      <td>2016</td>\n",
       "      <td>5</td>\n",
       "      <td>0</td>\n",
       "      <td>1</td>\n",
       "      <td>Wolf Creek</td>\n",
       "      <td>2016</td>\n",
       "      <td>11</td>\n",
       "    </tr>\n",
       "    <tr>\n",
       "      <th>880</th>\n",
       "      <td>WOLF CREEK</td>\n",
       "      <td>2017</td>\n",
       "      <td>2</td>\n",
       "      <td>0</td>\n",
       "      <td>2</td>\n",
       "      <td>Wolf Creek</td>\n",
       "      <td>2017</td>\n",
       "      <td>12</td>\n",
       "    </tr>\n",
       "    <tr>\n",
       "      <th>881</th>\n",
       "      <td>WOLF CREEK</td>\n",
       "      <td>2018</td>\n",
       "      <td>4</td>\n",
       "      <td>0</td>\n",
       "      <td>2</td>\n",
       "      <td>Wolf Creek</td>\n",
       "      <td>2018</td>\n",
       "      <td>7</td>\n",
       "    </tr>\n",
       "    <tr>\n",
       "      <th>882</th>\n",
       "      <td>WOLF CREEK</td>\n",
       "      <td>2019</td>\n",
       "      <td>3</td>\n",
       "      <td>0</td>\n",
       "      <td>1</td>\n",
       "      <td>Wolf Creek</td>\n",
       "      <td>2019</td>\n",
       "      <td>0</td>\n",
       "    </tr>\n",
       "  </tbody>\n",
       "</table>\n",
       "</div>"
      ],
      "text/plain": [
       "           Site  Year  ENCount  ScramCount  Column # Site_findings  \\\n",
       "878  WOLF CREEK  2015        8           2         1    Wolf Creek   \n",
       "879  WOLF CREEK  2016        5           0         1    Wolf Creek   \n",
       "880  WOLF CREEK  2017        2           0         2    Wolf Creek   \n",
       "881  WOLF CREEK  2018        4           0         2    Wolf Creek   \n",
       "882  WOLF CREEK  2019        3           0         1    Wolf Creek   \n",
       "\n",
       "     Year_findings  TotalFindings  \n",
       "878           2015             10  \n",
       "879           2016             11  \n",
       "880           2017             12  \n",
       "881           2018              7  \n",
       "882           2019              0  "
      ]
     },
     "execution_count": 82,
     "metadata": {},
     "output_type": "execute_result"
    }
   ],
   "source": [
    "#merge the findings data to the other collected data\n",
    "new_data = pd.merge(data, findings, how='left', left_index=True, right_index=True, suffixes=(\"\", '_findings'))\n",
    "new_data.tail()"
   ]
  },
  {
   "cell_type": "code",
   "execution_count": 83,
   "metadata": {},
   "outputs": [
    {
     "data": {
      "text/html": [
       "<div>\n",
       "<style scoped>\n",
       "    .dataframe tbody tr th:only-of-type {\n",
       "        vertical-align: middle;\n",
       "    }\n",
       "\n",
       "    .dataframe tbody tr th {\n",
       "        vertical-align: top;\n",
       "    }\n",
       "\n",
       "    .dataframe thead th {\n",
       "        text-align: right;\n",
       "    }\n",
       "</style>\n",
       "<table border=\"1\" class=\"dataframe\">\n",
       "  <thead>\n",
       "    <tr style=\"text-align: right;\">\n",
       "      <th></th>\n",
       "      <th>Site</th>\n",
       "      <th>Year</th>\n",
       "      <th>ENCount</th>\n",
       "      <th>ScramCount</th>\n",
       "      <th>Column #</th>\n",
       "      <th>Site_findings</th>\n",
       "      <th>Year_findings</th>\n",
       "      <th>TotalFindings</th>\n",
       "    </tr>\n",
       "  </thead>\n",
       "  <tbody>\n",
       "  </tbody>\n",
       "</table>\n",
       "</div>"
      ],
      "text/plain": [
       "Empty DataFrame\n",
       "Columns: [Site, Year, ENCount, ScramCount, Column #, Site_findings, Year_findings, TotalFindings]\n",
       "Index: []"
      ]
     },
     "execution_count": 83,
     "metadata": {},
     "output_type": "execute_result"
    }
   ],
   "source": [
    "new_data[(new_data[\"Year\"] != new_data[\"Year_findings\"])]"
   ]
  },
  {
   "cell_type": "code",
   "execution_count": 85,
   "metadata": {},
   "outputs": [
    {
     "data": {
      "text/html": [
       "<div>\n",
       "<style scoped>\n",
       "    .dataframe tbody tr th:only-of-type {\n",
       "        vertical-align: middle;\n",
       "    }\n",
       "\n",
       "    .dataframe tbody tr th {\n",
       "        vertical-align: top;\n",
       "    }\n",
       "\n",
       "    .dataframe thead th {\n",
       "        text-align: right;\n",
       "    }\n",
       "</style>\n",
       "<table border=\"1\" class=\"dataframe\">\n",
       "  <thead>\n",
       "    <tr style=\"text-align: right;\">\n",
       "      <th></th>\n",
       "      <th>Site</th>\n",
       "      <th>Year</th>\n",
       "      <th>ENCount</th>\n",
       "      <th>ScramCount</th>\n",
       "      <th>Column #</th>\n",
       "      <th>TotalFindings</th>\n",
       "    </tr>\n",
       "  </thead>\n",
       "  <tbody>\n",
       "    <tr>\n",
       "      <th>878</th>\n",
       "      <td>WOLF CREEK</td>\n",
       "      <td>2015</td>\n",
       "      <td>8</td>\n",
       "      <td>2</td>\n",
       "      <td>1</td>\n",
       "      <td>10</td>\n",
       "    </tr>\n",
       "    <tr>\n",
       "      <th>879</th>\n",
       "      <td>WOLF CREEK</td>\n",
       "      <td>2016</td>\n",
       "      <td>5</td>\n",
       "      <td>0</td>\n",
       "      <td>1</td>\n",
       "      <td>11</td>\n",
       "    </tr>\n",
       "    <tr>\n",
       "      <th>880</th>\n",
       "      <td>WOLF CREEK</td>\n",
       "      <td>2017</td>\n",
       "      <td>2</td>\n",
       "      <td>0</td>\n",
       "      <td>2</td>\n",
       "      <td>12</td>\n",
       "    </tr>\n",
       "    <tr>\n",
       "      <th>881</th>\n",
       "      <td>WOLF CREEK</td>\n",
       "      <td>2018</td>\n",
       "      <td>4</td>\n",
       "      <td>0</td>\n",
       "      <td>2</td>\n",
       "      <td>7</td>\n",
       "    </tr>\n",
       "    <tr>\n",
       "      <th>882</th>\n",
       "      <td>WOLF CREEK</td>\n",
       "      <td>2019</td>\n",
       "      <td>3</td>\n",
       "      <td>0</td>\n",
       "      <td>1</td>\n",
       "      <td>0</td>\n",
       "    </tr>\n",
       "  </tbody>\n",
       "</table>\n",
       "</div>"
      ],
      "text/plain": [
       "           Site  Year  ENCount  ScramCount  Column #  TotalFindings\n",
       "878  WOLF CREEK  2015        8           2         1             10\n",
       "879  WOLF CREEK  2016        5           0         1             11\n",
       "880  WOLF CREEK  2017        2           0         2             12\n",
       "881  WOLF CREEK  2018        4           0         2              7\n",
       "882  WOLF CREEK  2019        3           0         1              0"
      ]
     },
     "execution_count": 85,
     "metadata": {},
     "output_type": "execute_result"
    }
   ],
   "source": [
    "new_data = new_data[[\"Site\",\"Year\",\"ENCount\",\"ScramCount\", \"Column #\", \"TotalFindings\"]]\n",
    "new_data.tail()"
   ]
  },
  {
   "cell_type": "code",
   "execution_count": 86,
   "metadata": {},
   "outputs": [],
   "source": [
    "new_data.to_excel(\"EnsAmFindings.xlsx\")"
   ]
  },
  {
   "cell_type": "code",
   "execution_count": null,
   "metadata": {},
   "outputs": [],
   "source": []
  }
 ],
 "metadata": {
  "kernelspec": {
   "display_name": "Python 3",
   "language": "python",
   "name": "python3"
  },
  "language_info": {
   "codemirror_mode": {
    "name": "ipython",
    "version": 3
   },
   "file_extension": ".py",
   "mimetype": "text/x-python",
   "name": "python",
   "nbconvert_exporter": "python",
   "pygments_lexer": "ipython3",
   "version": "3.7.0"
  }
 },
 "nbformat": 4,
 "nbformat_minor": 2
}
