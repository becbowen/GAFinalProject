{
 "cells": [
  {
   "cell_type": "code",
   "execution_count": 66,
   "metadata": {},
   "outputs": [],
   "source": [
    "import pandas as pd\n",
    "import numpy as np\n",
    "import seaborn as sns\n",
    "import matplotlib.pyplot as plt\n",
    "\n",
    "%matplotlib inline"
   ]
  },
  {
   "cell_type": "code",
   "execution_count": 67,
   "metadata": {},
   "outputs": [],
   "source": [
    "ens = pd.read_excel(\"ENs_2006-2019.xlsx\", index_col=0)"
   ]
  },
  {
   "cell_type": "code",
   "execution_count": 68,
   "metadata": {},
   "outputs": [
    {
     "data": {
      "text/html": [
       "<div>\n",
       "<style scoped>\n",
       "    .dataframe tbody tr th:only-of-type {\n",
       "        vertical-align: middle;\n",
       "    }\n",
       "\n",
       "    .dataframe tbody tr th {\n",
       "        vertical-align: top;\n",
       "    }\n",
       "\n",
       "    .dataframe thead th {\n",
       "        text-align: right;\n",
       "    }\n",
       "</style>\n",
       "<table border=\"1\" class=\"dataframe\">\n",
       "  <thead>\n",
       "    <tr style=\"text-align: right;\">\n",
       "      <th></th>\n",
       "      <th>EventDescription</th>\n",
       "      <th>SiteName</th>\n",
       "      <th>RegionNumber</th>\n",
       "      <th>StateCode</th>\n",
       "      <th>CityName</th>\n",
       "      <th>CountyName</th>\n",
       "      <th>UnitInd1</th>\n",
       "      <th>UnitInd2</th>\n",
       "      <th>UnitInd3</th>\n",
       "      <th>TimeZone</th>\n",
       "      <th>...</th>\n",
       "      <th>InitPower1</th>\n",
       "      <th>InitPower2</th>\n",
       "      <th>InitPower3</th>\n",
       "      <th>Imode1</th>\n",
       "      <th>Imode2</th>\n",
       "      <th>Imode3</th>\n",
       "      <th>Fmode1</th>\n",
       "      <th>Fmode2</th>\n",
       "      <th>Fmode3</th>\n",
       "      <th>EventText</th>\n",
       "    </tr>\n",
       "    <tr>\n",
       "      <th>EventNotificationNumber</th>\n",
       "      <th></th>\n",
       "      <th></th>\n",
       "      <th></th>\n",
       "      <th></th>\n",
       "      <th></th>\n",
       "      <th></th>\n",
       "      <th></th>\n",
       "      <th></th>\n",
       "      <th></th>\n",
       "      <th></th>\n",
       "      <th></th>\n",
       "      <th></th>\n",
       "      <th></th>\n",
       "      <th></th>\n",
       "      <th></th>\n",
       "      <th></th>\n",
       "      <th></th>\n",
       "      <th></th>\n",
       "      <th></th>\n",
       "      <th></th>\n",
       "      <th></th>\n",
       "    </tr>\n",
       "  </thead>\n",
       "  <tbody>\n",
       "    <tr>\n",
       "      <th>41128</th>\n",
       "      <td>Power Reactor</td>\n",
       "      <td>PALISADES</td>\n",
       "      <td>3.0</td>\n",
       "      <td>MI</td>\n",
       "      <td>COVERT</td>\n",
       "      <td>VANBUREN</td>\n",
       "      <td>1.0</td>\n",
       "      <td>NaN</td>\n",
       "      <td>NaN</td>\n",
       "      <td>EDT</td>\n",
       "      <td>...</td>\n",
       "      <td>0.0</td>\n",
       "      <td>0.0</td>\n",
       "      <td>0.0</td>\n",
       "      <td>Refueling</td>\n",
       "      <td>NaN</td>\n",
       "      <td>NaN</td>\n",
       "      <td>Refueling</td>\n",
       "      <td>NaN</td>\n",
       "      <td>NaN</td>\n",
       "      <td>REACTOR VESSEL HEAD NOZZLE CRACKING</td>\n",
       "    </tr>\n",
       "    <tr>\n",
       "      <th>41377</th>\n",
       "      <td>Power Reactor</td>\n",
       "      <td>PRAIRIE ISLAND</td>\n",
       "      <td>3.0</td>\n",
       "      <td>MN</td>\n",
       "      <td>WELCH</td>\n",
       "      <td>GOODHUE</td>\n",
       "      <td>1.0</td>\n",
       "      <td>NaN</td>\n",
       "      <td>NaN</td>\n",
       "      <td>CST</td>\n",
       "      <td>...</td>\n",
       "      <td>88.0</td>\n",
       "      <td>0.0</td>\n",
       "      <td>0.0</td>\n",
       "      <td>Power Operation</td>\n",
       "      <td>NaN</td>\n",
       "      <td>NaN</td>\n",
       "      <td>Power Operation</td>\n",
       "      <td>NaN</td>\n",
       "      <td>NaN</td>\n",
       "      <td>4160 VOLT RELAYING AND METERING SINGLE FAILURE...</td>\n",
       "    </tr>\n",
       "    <tr>\n",
       "      <th>41755</th>\n",
       "      <td>Power Reactor</td>\n",
       "      <td>SUMMER</td>\n",
       "      <td>2.0</td>\n",
       "      <td>SC</td>\n",
       "      <td>JENKINSVILLE</td>\n",
       "      <td>FAIRFIELD</td>\n",
       "      <td>1.0</td>\n",
       "      <td>NaN</td>\n",
       "      <td>NaN</td>\n",
       "      <td>EDT</td>\n",
       "      <td>...</td>\n",
       "      <td>100.0</td>\n",
       "      <td>0.0</td>\n",
       "      <td>0.0</td>\n",
       "      <td>Power Operation</td>\n",
       "      <td>NaN</td>\n",
       "      <td>NaN</td>\n",
       "      <td>Power Operation</td>\n",
       "      <td>NaN</td>\n",
       "      <td>NaN</td>\n",
       "      <td>TWENTY-EIGHT EARLY WARNING SIRENS TEMPORARILY ...</td>\n",
       "    </tr>\n",
       "  </tbody>\n",
       "</table>\n",
       "<p>3 rows × 45 columns</p>\n",
       "</div>"
      ],
      "text/plain": [
       "                        EventDescription        SiteName  RegionNumber  \\\n",
       "EventNotificationNumber                                                  \n",
       "41128                      Power Reactor       PALISADES           3.0   \n",
       "41377                      Power Reactor  PRAIRIE ISLAND           3.0   \n",
       "41755                      Power Reactor          SUMMER           2.0   \n",
       "\n",
       "                        StateCode      CityName CountyName  UnitInd1  \\\n",
       "EventNotificationNumber                                                \n",
       "41128                          MI        COVERT   VANBUREN       1.0   \n",
       "41377                          MN         WELCH    GOODHUE       1.0   \n",
       "41755                          SC  JENKINSVILLE  FAIRFIELD       1.0   \n",
       "\n",
       "                         UnitInd2  UnitInd3 TimeZone  ... InitPower1  \\\n",
       "EventNotificationNumber                               ...              \n",
       "41128                         NaN       NaN      EDT  ...        0.0   \n",
       "41377                         NaN       NaN      CST  ...       88.0   \n",
       "41755                         NaN       NaN      EDT  ...      100.0   \n",
       "\n",
       "                        InitPower2 InitPower3           Imode1 Imode2 Imode3  \\\n",
       "EventNotificationNumber                                                        \n",
       "41128                          0.0        0.0        Refueling    NaN    NaN   \n",
       "41377                          0.0        0.0  Power Operation    NaN    NaN   \n",
       "41755                          0.0        0.0  Power Operation    NaN    NaN   \n",
       "\n",
       "                                  Fmode1 Fmode2 Fmode3  \\\n",
       "EventNotificationNumber                                  \n",
       "41128                          Refueling    NaN    NaN   \n",
       "41377                    Power Operation    NaN    NaN   \n",
       "41755                    Power Operation    NaN    NaN   \n",
       "\n",
       "                                                                 EventText  \n",
       "EventNotificationNumber                                                     \n",
       "41128                                  REACTOR VESSEL HEAD NOZZLE CRACKING  \n",
       "41377                    4160 VOLT RELAYING AND METERING SINGLE FAILURE...  \n",
       "41755                    TWENTY-EIGHT EARLY WARNING SIRENS TEMPORARILY ...  \n",
       "\n",
       "[3 rows x 45 columns]"
      ]
     },
     "execution_count": 68,
     "metadata": {},
     "output_type": "execute_result"
    }
   ],
   "source": [
    "ens.head(3)"
   ]
  },
  {
   "cell_type": "code",
   "execution_count": 69,
   "metadata": {},
   "outputs": [
    {
     "data": {
      "text/html": [
       "<div>\n",
       "<style scoped>\n",
       "    .dataframe tbody tr th:only-of-type {\n",
       "        vertical-align: middle;\n",
       "    }\n",
       "\n",
       "    .dataframe tbody tr th {\n",
       "        vertical-align: top;\n",
       "    }\n",
       "\n",
       "    .dataframe thead th {\n",
       "        text-align: right;\n",
       "    }\n",
       "</style>\n",
       "<table border=\"1\" class=\"dataframe\">\n",
       "  <thead>\n",
       "    <tr style=\"text-align: right;\">\n",
       "      <th></th>\n",
       "      <th>SiteName</th>\n",
       "      <th>RegionNumber</th>\n",
       "      <th>EventDate</th>\n",
       "      <th>CfrDesc1</th>\n",
       "      <th>CfrDesc2</th>\n",
       "      <th>CfrDesc3</th>\n",
       "      <th>CfrDesc4</th>\n",
       "      <th>ScramType1</th>\n",
       "      <th>ScramType2</th>\n",
       "      <th>ScramType3</th>\n",
       "      <th>EventText</th>\n",
       "    </tr>\n",
       "    <tr>\n",
       "      <th>EventNotificationNumber</th>\n",
       "      <th></th>\n",
       "      <th></th>\n",
       "      <th></th>\n",
       "      <th></th>\n",
       "      <th></th>\n",
       "      <th></th>\n",
       "      <th></th>\n",
       "      <th></th>\n",
       "      <th></th>\n",
       "      <th></th>\n",
       "      <th></th>\n",
       "    </tr>\n",
       "  </thead>\n",
       "  <tbody>\n",
       "    <tr>\n",
       "      <th>41128</th>\n",
       "      <td>PALISADES</td>\n",
       "      <td>3.0</td>\n",
       "      <td>2004-10-16</td>\n",
       "      <td>50.72(b)(3)(ii)(A) - DEGRADED CONDITION</td>\n",
       "      <td>NaN</td>\n",
       "      <td>NaN</td>\n",
       "      <td>NaN</td>\n",
       "      <td>N</td>\n",
       "      <td>N</td>\n",
       "      <td>N</td>\n",
       "      <td>REACTOR VESSEL HEAD NOZZLE CRACKING</td>\n",
       "    </tr>\n",
       "    <tr>\n",
       "      <th>41377</th>\n",
       "      <td>PRAIRIE ISLAND</td>\n",
       "      <td>3.0</td>\n",
       "      <td>2005-02-05</td>\n",
       "      <td>50.72(b)(3)(ii)(B) - UNANALYZED CONDITION</td>\n",
       "      <td>NaN</td>\n",
       "      <td>NaN</td>\n",
       "      <td>NaN</td>\n",
       "      <td>N</td>\n",
       "      <td>N</td>\n",
       "      <td>N</td>\n",
       "      <td>4160 VOLT RELAYING AND METERING SINGLE FAILURE...</td>\n",
       "    </tr>\n",
       "    <tr>\n",
       "      <th>41755</th>\n",
       "      <td>SUMMER</td>\n",
       "      <td>2.0</td>\n",
       "      <td>2005-06-07</td>\n",
       "      <td>50.72(b)(3)(xiii) - LOSS COMM/ASMT/RESPONSE</td>\n",
       "      <td>NaN</td>\n",
       "      <td>NaN</td>\n",
       "      <td>NaN</td>\n",
       "      <td>N</td>\n",
       "      <td>N</td>\n",
       "      <td>N</td>\n",
       "      <td>TWENTY-EIGHT EARLY WARNING SIRENS TEMPORARILY ...</td>\n",
       "    </tr>\n",
       "  </tbody>\n",
       "</table>\n",
       "</div>"
      ],
      "text/plain": [
       "                               SiteName  RegionNumber  EventDate  \\\n",
       "EventNotificationNumber                                            \n",
       "41128                         PALISADES           3.0 2004-10-16   \n",
       "41377                    PRAIRIE ISLAND           3.0 2005-02-05   \n",
       "41755                            SUMMER           2.0 2005-06-07   \n",
       "\n",
       "                                                            CfrDesc1 CfrDesc2  \\\n",
       "EventNotificationNumber                                                         \n",
       "41128                        50.72(b)(3)(ii)(A) - DEGRADED CONDITION      NaN   \n",
       "41377                      50.72(b)(3)(ii)(B) - UNANALYZED CONDITION      NaN   \n",
       "41755                    50.72(b)(3)(xiii) - LOSS COMM/ASMT/RESPONSE      NaN   \n",
       "\n",
       "                        CfrDesc3  CfrDesc4 ScramType1 ScramType2 ScramType3  \\\n",
       "EventNotificationNumber                                                       \n",
       "41128                        NaN       NaN          N          N          N   \n",
       "41377                        NaN       NaN          N          N          N   \n",
       "41755                        NaN       NaN          N          N          N   \n",
       "\n",
       "                                                                 EventText  \n",
       "EventNotificationNumber                                                     \n",
       "41128                                  REACTOR VESSEL HEAD NOZZLE CRACKING  \n",
       "41377                    4160 VOLT RELAYING AND METERING SINGLE FAILURE...  \n",
       "41755                    TWENTY-EIGHT EARLY WARNING SIRENS TEMPORARILY ...  "
      ]
     },
     "execution_count": 69,
     "metadata": {},
     "output_type": "execute_result"
    }
   ],
   "source": [
    "#eliminate columns that aren't useful for this analysisedn\n",
    "ens_clean = ens[[\"SiteName\",\"RegionNumber\",\"EventDate\",\"CfrDesc1\",\n",
    "                \"CfrDesc2\",\"CfrDesc3\",\"CfrDesc4\",\"ScramType1\", \"ScramType2\", \"ScramType3\",\"EventText\"]]\n",
    "ens_clean.head(3)"
   ]
  },
  {
   "cell_type": "code",
   "execution_count": 72,
   "metadata": {},
   "outputs": [
    {
     "data": {
      "text/plain": [
       "(6399, 12)"
      ]
     },
     "execution_count": 72,
     "metadata": {},
     "output_type": "execute_result"
    }
   ],
   "source": [
    "ens_clean.shape"
   ]
  },
  {
   "cell_type": "code",
   "execution_count": 71,
   "metadata": {},
   "outputs": [
    {
     "name": "stderr",
     "output_type": "stream",
     "text": [
      "C:\\Users\\becbo\\Anaconda3\\lib\\site-packages\\ipykernel_launcher.py:3: SettingWithCopyWarning: \n",
      "A value is trying to be set on a copy of a slice from a DataFrame.\n",
      "Try using .loc[row_indexer,col_indexer] = value instead\n",
      "\n",
      "See the caveats in the documentation: https://pandas.pydata.org/pandas-docs/stable/user_guide/indexing.html#returning-a-view-versus-a-copy\n",
      "  This is separate from the ipykernel package so we can avoid doing imports until\n"
     ]
    }
   ],
   "source": [
    "#datasets all need a year column and a site column\n",
    "#another layer would also use a quarter column, but not implemented here yet\n",
    "ens_clean[\"Year\"] = ens_clean[\"EventDate\"].map(lambda x: x.year)"
   ]
  },
  {
   "cell_type": "code",
   "execution_count": 73,
   "metadata": {},
   "outputs": [
    {
     "data": {
      "text/html": [
       "<div>\n",
       "<style scoped>\n",
       "    .dataframe tbody tr th:only-of-type {\n",
       "        vertical-align: middle;\n",
       "    }\n",
       "\n",
       "    .dataframe tbody tr th {\n",
       "        vertical-align: top;\n",
       "    }\n",
       "\n",
       "    .dataframe thead th {\n",
       "        text-align: right;\n",
       "    }\n",
       "</style>\n",
       "<table border=\"1\" class=\"dataframe\">\n",
       "  <thead>\n",
       "    <tr style=\"text-align: right;\">\n",
       "      <th></th>\n",
       "      <th>SiteName</th>\n",
       "      <th>RegionNumber</th>\n",
       "      <th>EventDate</th>\n",
       "      <th>CfrDesc1</th>\n",
       "      <th>CfrDesc2</th>\n",
       "      <th>CfrDesc3</th>\n",
       "      <th>CfrDesc4</th>\n",
       "      <th>ScramType1</th>\n",
       "      <th>ScramType2</th>\n",
       "      <th>ScramType3</th>\n",
       "      <th>EventText</th>\n",
       "      <th>Year</th>\n",
       "    </tr>\n",
       "    <tr>\n",
       "      <th>EventNotificationNumber</th>\n",
       "      <th></th>\n",
       "      <th></th>\n",
       "      <th></th>\n",
       "      <th></th>\n",
       "      <th></th>\n",
       "      <th></th>\n",
       "      <th></th>\n",
       "      <th></th>\n",
       "      <th></th>\n",
       "      <th></th>\n",
       "      <th></th>\n",
       "      <th></th>\n",
       "    </tr>\n",
       "  </thead>\n",
       "  <tbody>\n",
       "    <tr>\n",
       "      <th>41128</th>\n",
       "      <td>PALISADES</td>\n",
       "      <td>3.0</td>\n",
       "      <td>2004-10-16</td>\n",
       "      <td>50.72(b)(3)(ii)(A) - DEGRADED CONDITION</td>\n",
       "      <td>NaN</td>\n",
       "      <td>NaN</td>\n",
       "      <td>NaN</td>\n",
       "      <td>N</td>\n",
       "      <td>N</td>\n",
       "      <td>N</td>\n",
       "      <td>REACTOR VESSEL HEAD NOZZLE CRACKING</td>\n",
       "      <td>2004.0</td>\n",
       "    </tr>\n",
       "    <tr>\n",
       "      <th>41377</th>\n",
       "      <td>PRAIRIE ISLAND</td>\n",
       "      <td>3.0</td>\n",
       "      <td>2005-02-05</td>\n",
       "      <td>50.72(b)(3)(ii)(B) - UNANALYZED CONDITION</td>\n",
       "      <td>NaN</td>\n",
       "      <td>NaN</td>\n",
       "      <td>NaN</td>\n",
       "      <td>N</td>\n",
       "      <td>N</td>\n",
       "      <td>N</td>\n",
       "      <td>4160 VOLT RELAYING AND METERING SINGLE FAILURE...</td>\n",
       "      <td>2005.0</td>\n",
       "    </tr>\n",
       "    <tr>\n",
       "      <th>41755</th>\n",
       "      <td>SUMMER</td>\n",
       "      <td>2.0</td>\n",
       "      <td>2005-06-07</td>\n",
       "      <td>50.72(b)(3)(xiii) - LOSS COMM/ASMT/RESPONSE</td>\n",
       "      <td>NaN</td>\n",
       "      <td>NaN</td>\n",
       "      <td>NaN</td>\n",
       "      <td>N</td>\n",
       "      <td>N</td>\n",
       "      <td>N</td>\n",
       "      <td>TWENTY-EIGHT EARLY WARNING SIRENS TEMPORARILY ...</td>\n",
       "      <td>2005.0</td>\n",
       "    </tr>\n",
       "  </tbody>\n",
       "</table>\n",
       "</div>"
      ],
      "text/plain": [
       "                               SiteName  RegionNumber  EventDate  \\\n",
       "EventNotificationNumber                                            \n",
       "41128                         PALISADES           3.0 2004-10-16   \n",
       "41377                    PRAIRIE ISLAND           3.0 2005-02-05   \n",
       "41755                            SUMMER           2.0 2005-06-07   \n",
       "\n",
       "                                                            CfrDesc1 CfrDesc2  \\\n",
       "EventNotificationNumber                                                         \n",
       "41128                        50.72(b)(3)(ii)(A) - DEGRADED CONDITION      NaN   \n",
       "41377                      50.72(b)(3)(ii)(B) - UNANALYZED CONDITION      NaN   \n",
       "41755                    50.72(b)(3)(xiii) - LOSS COMM/ASMT/RESPONSE      NaN   \n",
       "\n",
       "                        CfrDesc3  CfrDesc4 ScramType1 ScramType2 ScramType3  \\\n",
       "EventNotificationNumber                                                       \n",
       "41128                        NaN       NaN          N          N          N   \n",
       "41377                        NaN       NaN          N          N          N   \n",
       "41755                        NaN       NaN          N          N          N   \n",
       "\n",
       "                                                                 EventText  \\\n",
       "EventNotificationNumber                                                      \n",
       "41128                                  REACTOR VESSEL HEAD NOZZLE CRACKING   \n",
       "41377                    4160 VOLT RELAYING AND METERING SINGLE FAILURE...   \n",
       "41755                    TWENTY-EIGHT EARLY WARNING SIRENS TEMPORARILY ...   \n",
       "\n",
       "                           Year  \n",
       "EventNotificationNumber          \n",
       "41128                    2004.0  \n",
       "41377                    2005.0  \n",
       "41755                    2005.0  "
      ]
     },
     "execution_count": 73,
     "metadata": {},
     "output_type": "execute_result"
    }
   ],
   "source": [
    "ens_clean.head(3)"
   ]
  },
  {
   "cell_type": "code",
   "execution_count": 74,
   "metadata": {},
   "outputs": [
    {
     "data": {
      "text/html": [
       "<div>\n",
       "<style scoped>\n",
       "    .dataframe tbody tr th:only-of-type {\n",
       "        vertical-align: middle;\n",
       "    }\n",
       "\n",
       "    .dataframe tbody tr th {\n",
       "        vertical-align: top;\n",
       "    }\n",
       "\n",
       "    .dataframe thead th {\n",
       "        text-align: right;\n",
       "    }\n",
       "</style>\n",
       "<table border=\"1\" class=\"dataframe\">\n",
       "  <thead>\n",
       "    <tr style=\"text-align: right;\">\n",
       "      <th></th>\n",
       "      <th>DataType</th>\n",
       "    </tr>\n",
       "  </thead>\n",
       "  <tbody>\n",
       "    <tr>\n",
       "      <th>SiteName</th>\n",
       "      <td>object</td>\n",
       "    </tr>\n",
       "    <tr>\n",
       "      <th>RegionNumber</th>\n",
       "      <td>float64</td>\n",
       "    </tr>\n",
       "    <tr>\n",
       "      <th>EventDate</th>\n",
       "      <td>datetime64[ns]</td>\n",
       "    </tr>\n",
       "    <tr>\n",
       "      <th>CfrDesc1</th>\n",
       "      <td>object</td>\n",
       "    </tr>\n",
       "    <tr>\n",
       "      <th>CfrDesc2</th>\n",
       "      <td>object</td>\n",
       "    </tr>\n",
       "    <tr>\n",
       "      <th>CfrDesc3</th>\n",
       "      <td>object</td>\n",
       "    </tr>\n",
       "    <tr>\n",
       "      <th>CfrDesc4</th>\n",
       "      <td>float64</td>\n",
       "    </tr>\n",
       "    <tr>\n",
       "      <th>ScramType1</th>\n",
       "      <td>object</td>\n",
       "    </tr>\n",
       "    <tr>\n",
       "      <th>ScramType2</th>\n",
       "      <td>object</td>\n",
       "    </tr>\n",
       "    <tr>\n",
       "      <th>ScramType3</th>\n",
       "      <td>object</td>\n",
       "    </tr>\n",
       "    <tr>\n",
       "      <th>EventText</th>\n",
       "      <td>object</td>\n",
       "    </tr>\n",
       "    <tr>\n",
       "      <th>Year</th>\n",
       "      <td>float64</td>\n",
       "    </tr>\n",
       "  </tbody>\n",
       "</table>\n",
       "</div>"
      ],
      "text/plain": [
       "                    DataType\n",
       "SiteName              object\n",
       "RegionNumber         float64\n",
       "EventDate     datetime64[ns]\n",
       "CfrDesc1              object\n",
       "CfrDesc2              object\n",
       "CfrDesc3              object\n",
       "CfrDesc4             float64\n",
       "ScramType1            object\n",
       "ScramType2            object\n",
       "ScramType3            object\n",
       "EventText             object\n",
       "Year                 float64"
      ]
     },
     "execution_count": 74,
     "metadata": {},
     "output_type": "execute_result"
    }
   ],
   "source": [
    "pd.DataFrame(ens_clean.dtypes, columns=['DataType'])"
   ]
  },
  {
   "cell_type": "code",
   "execution_count": 75,
   "metadata": {},
   "outputs": [
    {
     "name": "stderr",
     "output_type": "stream",
     "text": [
      "C:\\Users\\becbo\\Anaconda3\\lib\\site-packages\\ipykernel_launcher.py:7: SettingWithCopyWarning: \n",
      "A value is trying to be set on a copy of a slice from a DataFrame.\n",
      "Try using .loc[row_indexer,col_indexer] = value instead\n",
      "\n",
      "See the caveats in the documentation: https://pandas.pydata.org/pandas-docs/stable/user_guide/indexing.html#returning-a-view-versus-a-copy\n",
      "  import sys\n"
     ]
    }
   ],
   "source": [
    "#Need to use uniform site names across all the datasets that will be merged\n",
    "ens_clean[\"SiteName\"] = ens_clean[\"SiteName\"].map({\n",
    "        'FT CALHOUN': 'FORT CALHOUN',\n",
    "        'ARKANSAS NUCLEAR': 'ARKANSAS NUCLEAR ONE',\n",
    "        'SOUTH TEXAS': 'SOUTH TEXAS PROJECT',\n",
    "        'COLUMBIA GENERATING STATION': 'COLUMBIA',\n",
    "        }).fillna(ens_clean[\"SiteName\"])"
   ]
  },
  {
   "cell_type": "code",
   "execution_count": 76,
   "metadata": {},
   "outputs": [
    {
     "data": {
      "text/html": [
       "<div>\n",
       "<style scoped>\n",
       "    .dataframe tbody tr th:only-of-type {\n",
       "        vertical-align: middle;\n",
       "    }\n",
       "\n",
       "    .dataframe tbody tr th {\n",
       "        vertical-align: top;\n",
       "    }\n",
       "\n",
       "    .dataframe thead th {\n",
       "        text-align: right;\n",
       "    }\n",
       "</style>\n",
       "<table border=\"1\" class=\"dataframe\">\n",
       "  <thead>\n",
       "    <tr style=\"text-align: right;\">\n",
       "      <th></th>\n",
       "      <th>SiteName</th>\n",
       "      <th>RegionNumber</th>\n",
       "      <th>EventDate</th>\n",
       "      <th>CfrDesc1</th>\n",
       "      <th>CfrDesc2</th>\n",
       "      <th>CfrDesc3</th>\n",
       "      <th>CfrDesc4</th>\n",
       "      <th>ScramType1</th>\n",
       "      <th>ScramType2</th>\n",
       "      <th>ScramType3</th>\n",
       "      <th>EventText</th>\n",
       "      <th>Year</th>\n",
       "    </tr>\n",
       "    <tr>\n",
       "      <th>EventNotificationNumber</th>\n",
       "      <th></th>\n",
       "      <th></th>\n",
       "      <th></th>\n",
       "      <th></th>\n",
       "      <th></th>\n",
       "      <th></th>\n",
       "      <th></th>\n",
       "      <th></th>\n",
       "      <th></th>\n",
       "      <th></th>\n",
       "      <th></th>\n",
       "      <th></th>\n",
       "    </tr>\n",
       "  </thead>\n",
       "  <tbody>\n",
       "  </tbody>\n",
       "</table>\n",
       "</div>"
      ],
      "text/plain": [
       "Empty DataFrame\n",
       "Columns: [SiteName, RegionNumber, EventDate, CfrDesc1, CfrDesc2, CfrDesc3, CfrDesc4, ScramType1, ScramType2, ScramType3, EventText, Year]\n",
       "Index: []"
      ]
     },
     "execution_count": 76,
     "metadata": {},
     "output_type": "execute_result"
    }
   ],
   "source": [
    "ens_clean[ens_clean[\"SiteName\"] == \"FT CALHOUN\"]"
   ]
  },
  {
   "cell_type": "code",
   "execution_count": 77,
   "metadata": {},
   "outputs": [
    {
     "data": {
      "text/html": [
       "<div>\n",
       "<style scoped>\n",
       "    .dataframe tbody tr th:only-of-type {\n",
       "        vertical-align: middle;\n",
       "    }\n",
       "\n",
       "    .dataframe tbody tr th {\n",
       "        vertical-align: top;\n",
       "    }\n",
       "\n",
       "    .dataframe thead th {\n",
       "        text-align: right;\n",
       "    }\n",
       "</style>\n",
       "<table border=\"1\" class=\"dataframe\">\n",
       "  <thead>\n",
       "    <tr style=\"text-align: right;\">\n",
       "      <th></th>\n",
       "      <th>SiteName</th>\n",
       "      <th>RegionNumber</th>\n",
       "      <th>EventDate</th>\n",
       "      <th>CfrDesc1</th>\n",
       "      <th>CfrDesc2</th>\n",
       "      <th>CfrDesc3</th>\n",
       "      <th>CfrDesc4</th>\n",
       "      <th>ScramType1</th>\n",
       "      <th>ScramType2</th>\n",
       "      <th>ScramType3</th>\n",
       "      <th>EventText</th>\n",
       "      <th>Year</th>\n",
       "    </tr>\n",
       "    <tr>\n",
       "      <th>EventNotificationNumber</th>\n",
       "      <th></th>\n",
       "      <th></th>\n",
       "      <th></th>\n",
       "      <th></th>\n",
       "      <th></th>\n",
       "      <th></th>\n",
       "      <th></th>\n",
       "      <th></th>\n",
       "      <th></th>\n",
       "      <th></th>\n",
       "      <th></th>\n",
       "      <th></th>\n",
       "    </tr>\n",
       "  </thead>\n",
       "  <tbody>\n",
       "    <tr>\n",
       "      <th>41128</th>\n",
       "      <td>PALISADES</td>\n",
       "      <td>3.0</td>\n",
       "      <td>2004-10-16</td>\n",
       "      <td>50.72(b)(3)(ii)(A) - DEGRADED CONDITION</td>\n",
       "      <td>NaN</td>\n",
       "      <td>NaN</td>\n",
       "      <td>NaN</td>\n",
       "      <td>N</td>\n",
       "      <td>N</td>\n",
       "      <td>N</td>\n",
       "      <td>REACTOR VESSEL HEAD NOZZLE CRACKING</td>\n",
       "      <td>2004.0</td>\n",
       "    </tr>\n",
       "    <tr>\n",
       "      <th>41377</th>\n",
       "      <td>PRAIRIE ISLAND</td>\n",
       "      <td>3.0</td>\n",
       "      <td>2005-02-05</td>\n",
       "      <td>50.72(b)(3)(ii)(B) - UNANALYZED CONDITION</td>\n",
       "      <td>NaN</td>\n",
       "      <td>NaN</td>\n",
       "      <td>NaN</td>\n",
       "      <td>N</td>\n",
       "      <td>N</td>\n",
       "      <td>N</td>\n",
       "      <td>4160 VOLT RELAYING AND METERING SINGLE FAILURE...</td>\n",
       "      <td>2005.0</td>\n",
       "    </tr>\n",
       "    <tr>\n",
       "      <th>41755</th>\n",
       "      <td>SUMMER</td>\n",
       "      <td>2.0</td>\n",
       "      <td>2005-06-07</td>\n",
       "      <td>50.72(b)(3)(xiii) - LOSS COMM/ASMT/RESPONSE</td>\n",
       "      <td>NaN</td>\n",
       "      <td>NaN</td>\n",
       "      <td>NaN</td>\n",
       "      <td>N</td>\n",
       "      <td>N</td>\n",
       "      <td>N</td>\n",
       "      <td>TWENTY-EIGHT EARLY WARNING SIRENS TEMPORARILY ...</td>\n",
       "      <td>2005.0</td>\n",
       "    </tr>\n",
       "  </tbody>\n",
       "</table>\n",
       "</div>"
      ],
      "text/plain": [
       "                               SiteName  RegionNumber  EventDate  \\\n",
       "EventNotificationNumber                                            \n",
       "41128                         PALISADES           3.0 2004-10-16   \n",
       "41377                    PRAIRIE ISLAND           3.0 2005-02-05   \n",
       "41755                            SUMMER           2.0 2005-06-07   \n",
       "\n",
       "                                                            CfrDesc1 CfrDesc2  \\\n",
       "EventNotificationNumber                                                         \n",
       "41128                        50.72(b)(3)(ii)(A) - DEGRADED CONDITION      NaN   \n",
       "41377                      50.72(b)(3)(ii)(B) - UNANALYZED CONDITION      NaN   \n",
       "41755                    50.72(b)(3)(xiii) - LOSS COMM/ASMT/RESPONSE      NaN   \n",
       "\n",
       "                        CfrDesc3  CfrDesc4 ScramType1 ScramType2 ScramType3  \\\n",
       "EventNotificationNumber                                                       \n",
       "41128                        NaN       NaN          N          N          N   \n",
       "41377                        NaN       NaN          N          N          N   \n",
       "41755                        NaN       NaN          N          N          N   \n",
       "\n",
       "                                                                 EventText  \\\n",
       "EventNotificationNumber                                                      \n",
       "41128                                  REACTOR VESSEL HEAD NOZZLE CRACKING   \n",
       "41377                    4160 VOLT RELAYING AND METERING SINGLE FAILURE...   \n",
       "41755                    TWENTY-EIGHT EARLY WARNING SIRENS TEMPORARILY ...   \n",
       "\n",
       "                           Year  \n",
       "EventNotificationNumber          \n",
       "41128                    2004.0  \n",
       "41377                    2005.0  \n",
       "41755                    2005.0  "
      ]
     },
     "execution_count": 77,
     "metadata": {},
     "output_type": "execute_result"
    }
   ],
   "source": [
    "ens_clean.head(3)"
   ]
  },
  {
   "cell_type": "code",
   "execution_count": 78,
   "metadata": {},
   "outputs": [
    {
     "data": {
      "text/plain": [
       "array([2004., 2005., 2006., 2003., 2007., 1976., 2008., 2009., 2010.,\n",
       "       2011., 2012.,   nan, 2013., 2103., 2014., 2015., 2016., 2017.,\n",
       "       2018., 2019.])"
      ]
     },
     "execution_count": 78,
     "metadata": {},
     "output_type": "execute_result"
    }
   ],
   "source": [
    "ens_clean[\"Year\"].unique()"
   ]
  },
  {
   "cell_type": "code",
   "execution_count": 79,
   "metadata": {},
   "outputs": [
    {
     "name": "stderr",
     "output_type": "stream",
     "text": [
      "C:\\Users\\becbo\\Anaconda3\\lib\\site-packages\\pandas\\core\\generic.py:6245: SettingWithCopyWarning: \n",
      "A value is trying to be set on a copy of a slice from a DataFrame\n",
      "\n",
      "See the caveats in the documentation: https://pandas.pydata.org/pandas-docs/stable/user_guide/indexing.html#returning-a-view-versus-a-copy\n",
      "  self._update_inplace(new_data)\n"
     ]
    }
   ],
   "source": [
    "ens_clean[\"Year\"].fillna(value = 2013, inplace = True)"
   ]
  },
  {
   "cell_type": "code",
   "execution_count": 80,
   "metadata": {},
   "outputs": [
    {
     "data": {
      "text/html": [
       "<div>\n",
       "<style scoped>\n",
       "    .dataframe tbody tr th:only-of-type {\n",
       "        vertical-align: middle;\n",
       "    }\n",
       "\n",
       "    .dataframe tbody tr th {\n",
       "        vertical-align: top;\n",
       "    }\n",
       "\n",
       "    .dataframe thead th {\n",
       "        text-align: right;\n",
       "    }\n",
       "</style>\n",
       "<table border=\"1\" class=\"dataframe\">\n",
       "  <thead>\n",
       "    <tr style=\"text-align: right;\">\n",
       "      <th></th>\n",
       "      <th>SiteName</th>\n",
       "      <th>RegionNumber</th>\n",
       "      <th>EventDate</th>\n",
       "      <th>CfrDesc1</th>\n",
       "      <th>CfrDesc2</th>\n",
       "      <th>CfrDesc3</th>\n",
       "      <th>CfrDesc4</th>\n",
       "      <th>ScramType1</th>\n",
       "      <th>ScramType2</th>\n",
       "      <th>ScramType3</th>\n",
       "      <th>EventText</th>\n",
       "      <th>Year</th>\n",
       "    </tr>\n",
       "    <tr>\n",
       "      <th>EventNotificationNumber</th>\n",
       "      <th></th>\n",
       "      <th></th>\n",
       "      <th></th>\n",
       "      <th></th>\n",
       "      <th></th>\n",
       "      <th></th>\n",
       "      <th></th>\n",
       "      <th></th>\n",
       "      <th></th>\n",
       "      <th></th>\n",
       "      <th></th>\n",
       "      <th></th>\n",
       "    </tr>\n",
       "  </thead>\n",
       "  <tbody>\n",
       "  </tbody>\n",
       "</table>\n",
       "</div>"
      ],
      "text/plain": [
       "Empty DataFrame\n",
       "Columns: [SiteName, RegionNumber, EventDate, CfrDesc1, CfrDesc2, CfrDesc3, CfrDesc4, ScramType1, ScramType2, ScramType3, EventText, Year]\n",
       "Index: []"
      ]
     },
     "execution_count": 80,
     "metadata": {},
     "output_type": "execute_result"
    }
   ],
   "source": [
    "ens_clean[ens_clean[\"Year\"].isnull()]"
   ]
  },
  {
   "cell_type": "code",
   "execution_count": 81,
   "metadata": {},
   "outputs": [
    {
     "data": {
      "text/html": [
       "<div>\n",
       "<style scoped>\n",
       "    .dataframe tbody tr th:only-of-type {\n",
       "        vertical-align: middle;\n",
       "    }\n",
       "\n",
       "    .dataframe tbody tr th {\n",
       "        vertical-align: top;\n",
       "    }\n",
       "\n",
       "    .dataframe thead th {\n",
       "        text-align: right;\n",
       "    }\n",
       "</style>\n",
       "<table border=\"1\" class=\"dataframe\">\n",
       "  <thead>\n",
       "    <tr style=\"text-align: right;\">\n",
       "      <th></th>\n",
       "      <th>SiteName</th>\n",
       "      <th>RegionNumber</th>\n",
       "      <th>EventDate</th>\n",
       "      <th>CfrDesc1</th>\n",
       "      <th>CfrDesc2</th>\n",
       "      <th>CfrDesc3</th>\n",
       "      <th>CfrDesc4</th>\n",
       "      <th>ScramType1</th>\n",
       "      <th>ScramType2</th>\n",
       "      <th>ScramType3</th>\n",
       "      <th>EventText</th>\n",
       "      <th>Year</th>\n",
       "    </tr>\n",
       "    <tr>\n",
       "      <th>EventNotificationNumber</th>\n",
       "      <th></th>\n",
       "      <th></th>\n",
       "      <th></th>\n",
       "      <th></th>\n",
       "      <th></th>\n",
       "      <th></th>\n",
       "      <th></th>\n",
       "      <th></th>\n",
       "      <th></th>\n",
       "      <th></th>\n",
       "      <th></th>\n",
       "      <th></th>\n",
       "    </tr>\n",
       "  </thead>\n",
       "  <tbody>\n",
       "    <tr>\n",
       "      <th>49565</th>\n",
       "      <td>SUSQUEHANNA</td>\n",
       "      <td>1.0</td>\n",
       "      <td>2103-11-20</td>\n",
       "      <td>50.72(b)(3)(v)(C) - POT UNCNTRL RAD REL</td>\n",
       "      <td>NaN</td>\n",
       "      <td>NaN</td>\n",
       "      <td>NaN</td>\n",
       "      <td>N</td>\n",
       "      <td>N</td>\n",
       "      <td>N</td>\n",
       "      <td>SECONDARY CONTAINMENT FAILS DRAWDOWN SURVEILLA...</td>\n",
       "      <td>2103.0</td>\n",
       "    </tr>\n",
       "  </tbody>\n",
       "</table>\n",
       "</div>"
      ],
      "text/plain": [
       "                            SiteName  RegionNumber  EventDate  \\\n",
       "EventNotificationNumber                                         \n",
       "49565                    SUSQUEHANNA           1.0 2103-11-20   \n",
       "\n",
       "                                                        CfrDesc1 CfrDesc2  \\\n",
       "EventNotificationNumber                                                     \n",
       "49565                    50.72(b)(3)(v)(C) - POT UNCNTRL RAD REL      NaN   \n",
       "\n",
       "                        CfrDesc3  CfrDesc4 ScramType1 ScramType2 ScramType3  \\\n",
       "EventNotificationNumber                                                       \n",
       "49565                        NaN       NaN          N          N          N   \n",
       "\n",
       "                                                                 EventText  \\\n",
       "EventNotificationNumber                                                      \n",
       "49565                    SECONDARY CONTAINMENT FAILS DRAWDOWN SURVEILLA...   \n",
       "\n",
       "                           Year  \n",
       "EventNotificationNumber          \n",
       "49565                    2103.0  "
      ]
     },
     "execution_count": 81,
     "metadata": {},
     "output_type": "execute_result"
    }
   ],
   "source": [
    "ens_clean[ens_clean[\"Year\"] == 2103]"
   ]
  },
  {
   "cell_type": "code",
   "execution_count": 82,
   "metadata": {},
   "outputs": [],
   "source": [
    "ens_clean.at[49565,\"Year\"] = 2013"
   ]
  },
  {
   "cell_type": "code",
   "execution_count": 83,
   "metadata": {},
   "outputs": [],
   "source": [
    "ens_clean = ens_clean[(ens_clean.Year != 1976) & (ens_clean.Year != 2003) & (ens_clean.Year != 2004) & (ens_clean.Year != 2005)]"
   ]
  },
  {
   "cell_type": "code",
   "execution_count": 84,
   "metadata": {},
   "outputs": [
    {
     "data": {
      "text/plain": [
       "array([2006., 2007., 2008., 2009., 2010., 2011., 2012., 2013., 2014.,\n",
       "       2015., 2016., 2017., 2018., 2019.])"
      ]
     },
     "execution_count": 84,
     "metadata": {},
     "output_type": "execute_result"
    }
   ],
   "source": [
    "ens_clean[\"Year\"].unique()"
   ]
  },
  {
   "cell_type": "code",
   "execution_count": 85,
   "metadata": {},
   "outputs": [],
   "source": [
    "ens_clean[\"Year\"] = ens_clean[\"Year\"].apply(np.int64)"
   ]
  },
  {
   "cell_type": "code",
   "execution_count": 86,
   "metadata": {},
   "outputs": [
    {
     "data": {
      "text/plain": [
       "EventNotificationNumber\n",
       "42241    2006\n",
       "42242    2006\n",
       "42243    2006\n",
       "42245    2006\n",
       "42246    2006\n",
       "Name: Year, dtype: int64"
      ]
     },
     "execution_count": 86,
     "metadata": {},
     "output_type": "execute_result"
    }
   ],
   "source": [
    "ens_clean[\"Year\"].head()"
   ]
  },
  {
   "cell_type": "code",
   "execution_count": 87,
   "metadata": {},
   "outputs": [
    {
     "data": {
      "text/plain": [
       "array([ 3.,  4.,  1.,  2.,  0., nan])"
      ]
     },
     "execution_count": 87,
     "metadata": {},
     "output_type": "execute_result"
    }
   ],
   "source": [
    "ens_clean[\"RegionNumber\"].unique()"
   ]
  },
  {
   "cell_type": "code",
   "execution_count": 88,
   "metadata": {},
   "outputs": [
    {
     "data": {
      "text/html": [
       "<div>\n",
       "<style scoped>\n",
       "    .dataframe tbody tr th:only-of-type {\n",
       "        vertical-align: middle;\n",
       "    }\n",
       "\n",
       "    .dataframe tbody tr th {\n",
       "        vertical-align: top;\n",
       "    }\n",
       "\n",
       "    .dataframe thead th {\n",
       "        text-align: right;\n",
       "    }\n",
       "</style>\n",
       "<table border=\"1\" class=\"dataframe\">\n",
       "  <thead>\n",
       "    <tr style=\"text-align: right;\">\n",
       "      <th></th>\n",
       "      <th>SiteName</th>\n",
       "      <th>RegionNumber</th>\n",
       "      <th>EventDate</th>\n",
       "      <th>CfrDesc1</th>\n",
       "      <th>CfrDesc2</th>\n",
       "      <th>CfrDesc3</th>\n",
       "      <th>CfrDesc4</th>\n",
       "      <th>ScramType1</th>\n",
       "      <th>ScramType2</th>\n",
       "      <th>ScramType3</th>\n",
       "      <th>EventText</th>\n",
       "      <th>Year</th>\n",
       "    </tr>\n",
       "    <tr>\n",
       "      <th>EventNotificationNumber</th>\n",
       "      <th></th>\n",
       "      <th></th>\n",
       "      <th></th>\n",
       "      <th></th>\n",
       "      <th></th>\n",
       "      <th></th>\n",
       "      <th></th>\n",
       "      <th></th>\n",
       "      <th></th>\n",
       "      <th></th>\n",
       "      <th></th>\n",
       "      <th></th>\n",
       "    </tr>\n",
       "  </thead>\n",
       "  <tbody>\n",
       "    <tr>\n",
       "      <th>ions are repaired. The expanded scope inspection activity is continuing</th>\n",
       "      <td>NaN</td>\n",
       "      <td>NaN</td>\n",
       "      <td>NaT</td>\n",
       "      <td>NaN</td>\n",
       "      <td>NaN</td>\n",
       "      <td>NaN</td>\n",
       "      <td>NaN</td>\n",
       "      <td>NaN</td>\n",
       "      <td>NaN</td>\n",
       "      <td>NaN</td>\n",
       "      <td>NaN</td>\n",
       "      <td>2013</td>\n",
       "    </tr>\n",
       "  </tbody>\n",
       "</table>\n",
       "</div>"
      ],
      "text/plain": [
       "                                                   SiteName  RegionNumber  \\\n",
       "EventNotificationNumber                                                     \n",
       "ions are repaired. The expanded scope inspectio...      NaN           NaN   \n",
       "\n",
       "                                                   EventDate CfrDesc1  \\\n",
       "EventNotificationNumber                                                 \n",
       "ions are repaired. The expanded scope inspectio...       NaT      NaN   \n",
       "\n",
       "                                                   CfrDesc2 CfrDesc3  \\\n",
       "EventNotificationNumber                                                \n",
       "ions are repaired. The expanded scope inspectio...      NaN      NaN   \n",
       "\n",
       "                                                    CfrDesc4 ScramType1  \\\n",
       "EventNotificationNumber                                                   \n",
       "ions are repaired. The expanded scope inspectio...       NaN        NaN   \n",
       "\n",
       "                                                   ScramType2 ScramType3  \\\n",
       "EventNotificationNumber                                                    \n",
       "ions are repaired. The expanded scope inspectio...        NaN        NaN   \n",
       "\n",
       "                                                   EventText  Year  \n",
       "EventNotificationNumber                                             \n",
       "ions are repaired. The expanded scope inspectio...       NaN  2013  "
      ]
     },
     "execution_count": 88,
     "metadata": {},
     "output_type": "execute_result"
    }
   ],
   "source": [
    "ens_clean[ens_clean[\"RegionNumber\"].isnull()]"
   ]
  },
  {
   "cell_type": "code",
   "execution_count": 89,
   "metadata": {},
   "outputs": [],
   "source": [
    "ens_clean = ens_clean[(ens_clean.RegionNumber != 0)]"
   ]
  },
  {
   "cell_type": "code",
   "execution_count": 92,
   "metadata": {},
   "outputs": [],
   "source": [
    "ens_clean.dropna(subset=['RegionNumber'], inplace = True)"
   ]
  },
  {
   "cell_type": "code",
   "execution_count": 93,
   "metadata": {},
   "outputs": [
    {
     "data": {
      "text/plain": [
       "(6383, 12)"
      ]
     },
     "execution_count": 93,
     "metadata": {},
     "output_type": "execute_result"
    }
   ],
   "source": [
    "ens_clean.shape"
   ]
  },
  {
   "cell_type": "code",
   "execution_count": 94,
   "metadata": {},
   "outputs": [],
   "source": [
    "ens_clean[\"RegionNumber\"] = ens_clean[\"RegionNumber\"].apply(np.int64)"
   ]
  },
  {
   "cell_type": "code",
   "execution_count": 95,
   "metadata": {},
   "outputs": [
    {
     "data": {
      "text/plain": [
       "EventNotificationNumber\n",
       "42241    3\n",
       "42242    4\n",
       "42243    4\n",
       "Name: RegionNumber, dtype: int64"
      ]
     },
     "execution_count": 95,
     "metadata": {},
     "output_type": "execute_result"
    }
   ],
   "source": [
    "ens_clean[\"RegionNumber\"].head(3)"
   ]
  },
  {
   "cell_type": "code",
   "execution_count": 103,
   "metadata": {},
   "outputs": [
    {
     "data": {
      "text/plain": [
       "array([0, 1], dtype=int64)"
      ]
     },
     "execution_count": 103,
     "metadata": {},
     "output_type": "execute_result"
    }
   ],
   "source": [
    "ens_clean[\"ScramType1\"].unique()"
   ]
  },
  {
   "cell_type": "code",
   "execution_count": 99,
   "metadata": {},
   "outputs": [],
   "source": [
    "ens_clean[\"ScramType1\"].replace([\"N\"],0, inplace = True)"
   ]
  },
  {
   "cell_type": "code",
   "execution_count": 101,
   "metadata": {},
   "outputs": [],
   "source": [
    "ens_clean[\"ScramType2\"].replace([\"N\"],0, inplace = True)\n",
    "ens_clean[\"ScramType3\"].replace([\"N\"],0, inplace = True)"
   ]
  },
  {
   "cell_type": "code",
   "execution_count": 102,
   "metadata": {},
   "outputs": [],
   "source": [
    "ens_clean['ScramType1'].replace(['A/R', 'M/R', 'A', 'M'], 1, inplace = True)"
   ]
  },
  {
   "cell_type": "code",
   "execution_count": 104,
   "metadata": {},
   "outputs": [],
   "source": [
    "ens_clean['ScramType2'].replace(['A/R', 'M/R', 'A', 'M'], 1, inplace = True)\n",
    "ens_clean['ScramType3'].replace(['A/R', 'M/R', 'A', 'M'], 1, inplace = True)"
   ]
  },
  {
   "cell_type": "code",
   "execution_count": 105,
   "metadata": {},
   "outputs": [
    {
     "data": {
      "text/plain": [
       "array([0, 1], dtype=int64)"
      ]
     },
     "execution_count": 105,
     "metadata": {},
     "output_type": "execute_result"
    }
   ],
   "source": [
    "ens_clean[\"ScramType2\"].unique()"
   ]
  },
  {
   "cell_type": "code",
   "execution_count": 106,
   "metadata": {},
   "outputs": [
    {
     "data": {
      "text/plain": [
       "EventNotificationNumber\n",
       "42241    0\n",
       "42242    0\n",
       "42243    0\n",
       "Name: ScramType3, dtype: int64"
      ]
     },
     "execution_count": 106,
     "metadata": {},
     "output_type": "execute_result"
    }
   ],
   "source": [
    "ens_clean[\"ScramType3\"].head(3)"
   ]
  },
  {
   "cell_type": "code",
   "execution_count": 107,
   "metadata": {},
   "outputs": [],
   "source": [
    "ens_clean[\"Scrams\"] = ens_clean.ScramType1 + ens_clean.ScramType2 + ens_clean.ScramType3"
   ]
  },
  {
   "cell_type": "code",
   "execution_count": 108,
   "metadata": {},
   "outputs": [
    {
     "data": {
      "text/html": [
       "<div>\n",
       "<style scoped>\n",
       "    .dataframe tbody tr th:only-of-type {\n",
       "        vertical-align: middle;\n",
       "    }\n",
       "\n",
       "    .dataframe tbody tr th {\n",
       "        vertical-align: top;\n",
       "    }\n",
       "\n",
       "    .dataframe thead th {\n",
       "        text-align: right;\n",
       "    }\n",
       "</style>\n",
       "<table border=\"1\" class=\"dataframe\">\n",
       "  <thead>\n",
       "    <tr style=\"text-align: right;\">\n",
       "      <th></th>\n",
       "      <th>SiteName</th>\n",
       "      <th>RegionNumber</th>\n",
       "      <th>EventDate</th>\n",
       "      <th>CfrDesc1</th>\n",
       "      <th>CfrDesc2</th>\n",
       "      <th>CfrDesc3</th>\n",
       "      <th>CfrDesc4</th>\n",
       "      <th>ScramType1</th>\n",
       "      <th>ScramType2</th>\n",
       "      <th>ScramType3</th>\n",
       "      <th>EventText</th>\n",
       "      <th>Year</th>\n",
       "      <th>Scrams</th>\n",
       "    </tr>\n",
       "    <tr>\n",
       "      <th>EventNotificationNumber</th>\n",
       "      <th></th>\n",
       "      <th></th>\n",
       "      <th></th>\n",
       "      <th></th>\n",
       "      <th></th>\n",
       "      <th></th>\n",
       "      <th></th>\n",
       "      <th></th>\n",
       "      <th></th>\n",
       "      <th></th>\n",
       "      <th></th>\n",
       "      <th></th>\n",
       "      <th></th>\n",
       "    </tr>\n",
       "  </thead>\n",
       "  <tbody>\n",
       "    <tr>\n",
       "      <th>42241</th>\n",
       "      <td>DUANE ARNOLD</td>\n",
       "      <td>3</td>\n",
       "      <td>2006-01-04</td>\n",
       "      <td>50.72(b)(3)(xiii) - LOSS COMM/ASMT/RESPONSE</td>\n",
       "      <td>NaN</td>\n",
       "      <td>NaN</td>\n",
       "      <td>NaN</td>\n",
       "      <td>0</td>\n",
       "      <td>0</td>\n",
       "      <td>0</td>\n",
       "      <td>PARTIAL LOSS OF EMERGENCY SIRENS</td>\n",
       "      <td>2006</td>\n",
       "      <td>0</td>\n",
       "    </tr>\n",
       "    <tr>\n",
       "      <th>42242</th>\n",
       "      <td>CALLAWAY</td>\n",
       "      <td>4</td>\n",
       "      <td>2006-01-04</td>\n",
       "      <td>50.72(b)(3)(ii)(B) - UNANALYZED CONDITION</td>\n",
       "      <td>NaN</td>\n",
       "      <td>NaN</td>\n",
       "      <td>NaN</td>\n",
       "      <td>0</td>\n",
       "      <td>0</td>\n",
       "      <td>0</td>\n",
       "      <td>UNANALYZED CONDITION RELATED TO EMERGENCY DIES...</td>\n",
       "      <td>2006</td>\n",
       "      <td>0</td>\n",
       "    </tr>\n",
       "    <tr>\n",
       "      <th>42243</th>\n",
       "      <td>RIVER BEND</td>\n",
       "      <td>4</td>\n",
       "      <td>2006-01-05</td>\n",
       "      <td>50.72(b)(3)(ii)(B) - UNANALYZED CONDITION</td>\n",
       "      <td>NaN</td>\n",
       "      <td>NaN</td>\n",
       "      <td>NaN</td>\n",
       "      <td>0</td>\n",
       "      <td>0</td>\n",
       "      <td>0</td>\n",
       "      <td>UNANALYZED CONDITION INVOLVING RCIC OPERATION ...</td>\n",
       "      <td>2006</td>\n",
       "      <td>0</td>\n",
       "    </tr>\n",
       "  </tbody>\n",
       "</table>\n",
       "</div>"
      ],
      "text/plain": [
       "                             SiteName  RegionNumber  EventDate  \\\n",
       "EventNotificationNumber                                          \n",
       "42241                    DUANE ARNOLD             3 2006-01-04   \n",
       "42242                        CALLAWAY             4 2006-01-04   \n",
       "42243                      RIVER BEND             4 2006-01-05   \n",
       "\n",
       "                                                            CfrDesc1 CfrDesc2  \\\n",
       "EventNotificationNumber                                                         \n",
       "42241                    50.72(b)(3)(xiii) - LOSS COMM/ASMT/RESPONSE      NaN   \n",
       "42242                      50.72(b)(3)(ii)(B) - UNANALYZED CONDITION      NaN   \n",
       "42243                      50.72(b)(3)(ii)(B) - UNANALYZED CONDITION      NaN   \n",
       "\n",
       "                        CfrDesc3  CfrDesc4  ScramType1  ScramType2  \\\n",
       "EventNotificationNumber                                              \n",
       "42241                        NaN       NaN           0           0   \n",
       "42242                        NaN       NaN           0           0   \n",
       "42243                        NaN       NaN           0           0   \n",
       "\n",
       "                         ScramType3  \\\n",
       "EventNotificationNumber               \n",
       "42241                             0   \n",
       "42242                             0   \n",
       "42243                             0   \n",
       "\n",
       "                                                                 EventText  \\\n",
       "EventNotificationNumber                                                      \n",
       "42241                                     PARTIAL LOSS OF EMERGENCY SIRENS   \n",
       "42242                    UNANALYZED CONDITION RELATED TO EMERGENCY DIES...   \n",
       "42243                    UNANALYZED CONDITION INVOLVING RCIC OPERATION ...   \n",
       "\n",
       "                         Year  Scrams  \n",
       "EventNotificationNumber                \n",
       "42241                    2006       0  \n",
       "42242                    2006       0  \n",
       "42243                    2006       0  "
      ]
     },
     "execution_count": 108,
     "metadata": {},
     "output_type": "execute_result"
    }
   ],
   "source": [
    "ens_clean.head(3)"
   ]
  },
  {
   "cell_type": "code",
   "execution_count": 109,
   "metadata": {},
   "outputs": [
    {
     "data": {
      "text/plain": [
       "(6383, 13)"
      ]
     },
     "execution_count": 109,
     "metadata": {},
     "output_type": "execute_result"
    }
   ],
   "source": [
    "ens_clean.shape"
   ]
  },
  {
   "cell_type": "code",
   "execution_count": 111,
   "metadata": {},
   "outputs": [],
   "source": [
    "ens_final = ens_clean[[\"SiteName\",\"RegionNumber\",\"EventDate\",\"Year\",\"Scrams\"]]"
   ]
  },
  {
   "cell_type": "code",
   "execution_count": 112,
   "metadata": {},
   "outputs": [
    {
     "data": {
      "text/html": [
       "<div>\n",
       "<style scoped>\n",
       "    .dataframe tbody tr th:only-of-type {\n",
       "        vertical-align: middle;\n",
       "    }\n",
       "\n",
       "    .dataframe tbody tr th {\n",
       "        vertical-align: top;\n",
       "    }\n",
       "\n",
       "    .dataframe thead th {\n",
       "        text-align: right;\n",
       "    }\n",
       "</style>\n",
       "<table border=\"1\" class=\"dataframe\">\n",
       "  <thead>\n",
       "    <tr style=\"text-align: right;\">\n",
       "      <th></th>\n",
       "      <th>SiteName</th>\n",
       "      <th>RegionNumber</th>\n",
       "      <th>EventDate</th>\n",
       "      <th>Year</th>\n",
       "      <th>Scrams</th>\n",
       "    </tr>\n",
       "    <tr>\n",
       "      <th>EventNotificationNumber</th>\n",
       "      <th></th>\n",
       "      <th></th>\n",
       "      <th></th>\n",
       "      <th></th>\n",
       "      <th></th>\n",
       "    </tr>\n",
       "  </thead>\n",
       "  <tbody>\n",
       "    <tr>\n",
       "      <th>42241</th>\n",
       "      <td>DUANE ARNOLD</td>\n",
       "      <td>3</td>\n",
       "      <td>2006-01-04</td>\n",
       "      <td>2006</td>\n",
       "      <td>0</td>\n",
       "    </tr>\n",
       "    <tr>\n",
       "      <th>42242</th>\n",
       "      <td>CALLAWAY</td>\n",
       "      <td>4</td>\n",
       "      <td>2006-01-04</td>\n",
       "      <td>2006</td>\n",
       "      <td>0</td>\n",
       "    </tr>\n",
       "    <tr>\n",
       "      <th>42243</th>\n",
       "      <td>RIVER BEND</td>\n",
       "      <td>4</td>\n",
       "      <td>2006-01-05</td>\n",
       "      <td>2006</td>\n",
       "      <td>0</td>\n",
       "    </tr>\n",
       "  </tbody>\n",
       "</table>\n",
       "</div>"
      ],
      "text/plain": [
       "                             SiteName  RegionNumber  EventDate  Year  Scrams\n",
       "EventNotificationNumber                                                     \n",
       "42241                    DUANE ARNOLD             3 2006-01-04  2006       0\n",
       "42242                        CALLAWAY             4 2006-01-04  2006       0\n",
       "42243                      RIVER BEND             4 2006-01-05  2006       0"
      ]
     },
     "execution_count": 112,
     "metadata": {},
     "output_type": "execute_result"
    }
   ],
   "source": [
    "ens_final.head(3)"
   ]
  },
  {
   "cell_type": "code",
   "execution_count": 113,
   "metadata": {},
   "outputs": [
    {
     "data": {
      "text/plain": [
       "(6383, 5)"
      ]
     },
     "execution_count": 113,
     "metadata": {},
     "output_type": "execute_result"
    }
   ],
   "source": [
    "ens_final.shape"
   ]
  },
  {
   "cell_type": "code",
   "execution_count": 123,
   "metadata": {},
   "outputs": [
    {
     "data": {
      "text/plain": [
       "EventNotificationNumber\n",
       "42241    0\n",
       "42242    0\n",
       "42243    0\n",
       "Name: Scrams, dtype: int64"
      ]
     },
     "execution_count": 123,
     "metadata": {},
     "output_type": "execute_result"
    }
   ],
   "source": [
    "ens_final[\"Scrams\"].head(3)"
   ]
  },
  {
   "cell_type": "code",
   "execution_count": 114,
   "metadata": {},
   "outputs": [
    {
     "data": {
      "text/plain": [
       "array(['DUANE ARNOLD', 'CALLAWAY', 'RIVER BEND', 'MILLSTONE', 'FERMI',\n",
       "       'PALISADES', 'GRAND GULF', 'PRAIRIE ISLAND', 'CATAWBA',\n",
       "       'SAN ONOFRE', 'BRUNSWICK', 'CLINTON', 'QUAD CITIES', 'HATCH',\n",
       "       'INDIAN POINT', 'FARLEY', 'PERRY', 'HADDAM NECK', 'DAVIS BESSE',\n",
       "       'SAINT LUCIE', 'COOPER', 'SUSQUEHANNA', 'OYSTER CREEK', 'DRESDEN',\n",
       "       'MONTICELLO', 'VOGTLE', 'OCONEE', 'SOUTH TEXAS PROJECT',\n",
       "       'WOLF CREEK', 'HOPE CREEK', 'BRAIDWOOD', 'SALEM', 'CRYSTAL RIVER',\n",
       "       'FORT CALHOUN', 'BYRON', 'PALO VERDE', 'NINE MILE POINT',\n",
       "       'BROWNS FERRY', 'SEABROOK', 'TURKEY POINT', 'LASALLE',\n",
       "       'THREE MILE ISLAND', 'PILGRIM', 'POINT BEACH', 'SUMMER',\n",
       "       'NORTH ANNA', 'SEQUOYAH', 'MCGUIRE', 'COLUMBIA', 'DIABLO CANYON',\n",
       "       'BEAVER VALLEY', 'PEACH BOTTOM', 'CALVERT CLIFFS', 'FITZPATRICK',\n",
       "       'KEWAUNEE', 'COOK', 'LIMERICK', 'GINNA', 'VERMONT YANKEE',\n",
       "       'WATTS BAR', 'HARRIS', 'WATERFORD', 'SURRY',\n",
       "       'ARKANSAS NUCLEAR ONE', 'LACROSSE', 'ROBINSON', 'COMANCHE PEAK',\n",
       "       'RANCHO SECO', 'ZION', 'BELLEFONTE', 'HUMBOLDT BAY'], dtype=object)"
      ]
     },
     "execution_count": 114,
     "metadata": {},
     "output_type": "execute_result"
    }
   ],
   "source": [
    "ens_final[\"SiteName\"].unique()"
   ]
  },
  {
   "cell_type": "code",
   "execution_count": 119,
   "metadata": {},
   "outputs": [],
   "source": [
    "ens_final = ens_final[(ens_final.SiteName != \"LACROSSE\") & (ens_final.SiteName != \"RANCHO SECO\") & (ens_final.SiteName != \n",
    "                       \"ZION\") & (ens_final.SiteName != \"BELLEFONTE\") & (ens_final.SiteName != \"HUMBOLDT BAY\") & \n",
    "                      (ens_final.SiteName != \"HADDAM NECK\")]"
   ]
  },
  {
   "cell_type": "code",
   "execution_count": 120,
   "metadata": {},
   "outputs": [
    {
     "data": {
      "text/plain": [
       "(6362, 5)"
      ]
     },
     "execution_count": 120,
     "metadata": {},
     "output_type": "execute_result"
    }
   ],
   "source": [
    "ens_final.shape"
   ]
  },
  {
   "cell_type": "code",
   "execution_count": 121,
   "metadata": {},
   "outputs": [
    {
     "data": {
      "text/plain": [
       "65"
      ]
     },
     "execution_count": 121,
     "metadata": {},
     "output_type": "execute_result"
    }
   ],
   "source": [
    "ens_final[\"SiteName\"].nunique()"
   ]
  },
  {
   "cell_type": "code",
   "execution_count": 140,
   "metadata": {},
   "outputs": [],
   "source": [
    "first_scrams = ens_final.groupby(by=['SiteName', 'Year']).agg(ENCount = pd.NamedAgg(column = \"RegionNumber\", aggfunc =\"count\"),\n",
    "                                                              ScramCount = pd.NamedAgg(column = 'Scrams', aggfunc = sum)).reset_index()"
   ]
  },
  {
   "cell_type": "code",
   "execution_count": 141,
   "metadata": {},
   "outputs": [
    {
     "data": {
      "text/html": [
       "<div>\n",
       "<style scoped>\n",
       "    .dataframe tbody tr th:only-of-type {\n",
       "        vertical-align: middle;\n",
       "    }\n",
       "\n",
       "    .dataframe tbody tr th {\n",
       "        vertical-align: top;\n",
       "    }\n",
       "\n",
       "    .dataframe thead th {\n",
       "        text-align: right;\n",
       "    }\n",
       "</style>\n",
       "<table border=\"1\" class=\"dataframe\">\n",
       "  <thead>\n",
       "    <tr style=\"text-align: right;\">\n",
       "      <th></th>\n",
       "      <th>SiteName</th>\n",
       "      <th>Year</th>\n",
       "      <th>ENCount</th>\n",
       "      <th>ScramCount</th>\n",
       "    </tr>\n",
       "  </thead>\n",
       "  <tbody>\n",
       "    <tr>\n",
       "      <th>0</th>\n",
       "      <td>ARKANSAS NUCLEAR ONE</td>\n",
       "      <td>2006</td>\n",
       "      <td>2</td>\n",
       "      <td>0</td>\n",
       "    </tr>\n",
       "    <tr>\n",
       "      <th>1</th>\n",
       "      <td>ARKANSAS NUCLEAR ONE</td>\n",
       "      <td>2007</td>\n",
       "      <td>2</td>\n",
       "      <td>1</td>\n",
       "    </tr>\n",
       "    <tr>\n",
       "      <th>2</th>\n",
       "      <td>ARKANSAS NUCLEAR ONE</td>\n",
       "      <td>2008</td>\n",
       "      <td>5</td>\n",
       "      <td>2</td>\n",
       "    </tr>\n",
       "    <tr>\n",
       "      <th>3</th>\n",
       "      <td>ARKANSAS NUCLEAR ONE</td>\n",
       "      <td>2009</td>\n",
       "      <td>12</td>\n",
       "      <td>5</td>\n",
       "    </tr>\n",
       "    <tr>\n",
       "      <th>4</th>\n",
       "      <td>ARKANSAS NUCLEAR ONE</td>\n",
       "      <td>2010</td>\n",
       "      <td>4</td>\n",
       "      <td>2</td>\n",
       "    </tr>\n",
       "  </tbody>\n",
       "</table>\n",
       "</div>"
      ],
      "text/plain": [
       "               SiteName  Year  ENCount  ScramCount\n",
       "0  ARKANSAS NUCLEAR ONE  2006        2           0\n",
       "1  ARKANSAS NUCLEAR ONE  2007        2           1\n",
       "2  ARKANSAS NUCLEAR ONE  2008        5           2\n",
       "3  ARKANSAS NUCLEAR ONE  2009       12           5\n",
       "4  ARKANSAS NUCLEAR ONE  2010        4           2"
      ]
     },
     "execution_count": 141,
     "metadata": {},
     "output_type": "execute_result"
    }
   ],
   "source": [
    "first_scrams.head()"
   ]
  },
  {
   "cell_type": "code",
   "execution_count": 142,
   "metadata": {},
   "outputs": [
    {
     "data": {
      "text/plain": [
       "(886, 4)"
      ]
     },
     "execution_count": 142,
     "metadata": {},
     "output_type": "execute_result"
    }
   ],
   "source": [
    "first_scrams.shape"
   ]
  },
  {
   "cell_type": "code",
   "execution_count": 156,
   "metadata": {},
   "outputs": [
    {
     "data": {
      "text/plain": [
       "SUSQUEHANNA       14\n",
       "DAVIS BESSE       14\n",
       "NORTH ANNA        13\n",
       "SAN ONOFRE        13\n",
       "SURRY             13\n",
       "TURKEY POINT      13\n",
       "POINT BEACH       13\n",
       "CATAWBA           13\n",
       "HARRIS            13\n",
       "WATERFORD         13\n",
       "FORT CALHOUN      13\n",
       "SEABROOK          13\n",
       "WATTS BAR         13\n",
       "GINNA             13\n",
       "VERMONT YANKEE    11\n",
       "CRYSTAL RIVER     10\n",
       "KEWAUNEE           9\n",
       "Name: SiteName, dtype: int64"
      ]
     },
     "execution_count": 156,
     "metadata": {},
     "output_type": "execute_result"
    }
   ],
   "source": [
    "first_scrams[\"SiteName\"].value_counts().tail(17)"
   ]
  },
  {
   "cell_type": "code",
   "execution_count": 179,
   "metadata": {},
   "outputs": [
    {
     "data": {
      "text/html": [
       "<div>\n",
       "<style scoped>\n",
       "    .dataframe tbody tr th:only-of-type {\n",
       "        vertical-align: middle;\n",
       "    }\n",
       "\n",
       "    .dataframe tbody tr th {\n",
       "        vertical-align: top;\n",
       "    }\n",
       "\n",
       "    .dataframe thead th {\n",
       "        text-align: right;\n",
       "    }\n",
       "</style>\n",
       "<table border=\"1\" class=\"dataframe\">\n",
       "  <thead>\n",
       "    <tr style=\"text-align: right;\">\n",
       "      <th></th>\n",
       "      <th>SiteName</th>\n",
       "      <th>Year</th>\n",
       "      <th>ENCount</th>\n",
       "      <th>ScramCount</th>\n",
       "    </tr>\n",
       "  </thead>\n",
       "  <tbody>\n",
       "    <tr>\n",
       "      <th>821</th>\n",
       "      <td>VERMONT YANKEE</td>\n",
       "      <td>2006</td>\n",
       "      <td>5</td>\n",
       "      <td>0</td>\n",
       "    </tr>\n",
       "    <tr>\n",
       "      <th>822</th>\n",
       "      <td>VERMONT YANKEE</td>\n",
       "      <td>2007</td>\n",
       "      <td>7</td>\n",
       "      <td>1</td>\n",
       "    </tr>\n",
       "    <tr>\n",
       "      <th>823</th>\n",
       "      <td>VERMONT YANKEE</td>\n",
       "      <td>2008</td>\n",
       "      <td>5</td>\n",
       "      <td>0</td>\n",
       "    </tr>\n",
       "    <tr>\n",
       "      <th>824</th>\n",
       "      <td>VERMONT YANKEE</td>\n",
       "      <td>2009</td>\n",
       "      <td>2</td>\n",
       "      <td>0</td>\n",
       "    </tr>\n",
       "    <tr>\n",
       "      <th>825</th>\n",
       "      <td>VERMONT YANKEE</td>\n",
       "      <td>2010</td>\n",
       "      <td>8</td>\n",
       "      <td>1</td>\n",
       "    </tr>\n",
       "    <tr>\n",
       "      <th>826</th>\n",
       "      <td>VERMONT YANKEE</td>\n",
       "      <td>2011</td>\n",
       "      <td>8</td>\n",
       "      <td>0</td>\n",
       "    </tr>\n",
       "    <tr>\n",
       "      <th>827</th>\n",
       "      <td>VERMONT YANKEE</td>\n",
       "      <td>2012</td>\n",
       "      <td>1</td>\n",
       "      <td>0</td>\n",
       "    </tr>\n",
       "    <tr>\n",
       "      <th>828</th>\n",
       "      <td>VERMONT YANKEE</td>\n",
       "      <td>2013</td>\n",
       "      <td>5</td>\n",
       "      <td>0</td>\n",
       "    </tr>\n",
       "    <tr>\n",
       "      <th>829</th>\n",
       "      <td>VERMONT YANKEE</td>\n",
       "      <td>2014</td>\n",
       "      <td>2</td>\n",
       "      <td>0</td>\n",
       "    </tr>\n",
       "    <tr>\n",
       "      <th>830</th>\n",
       "      <td>VERMONT YANKEE</td>\n",
       "      <td>2016</td>\n",
       "      <td>1</td>\n",
       "      <td>0</td>\n",
       "    </tr>\n",
       "    <tr>\n",
       "      <th>831</th>\n",
       "      <td>VERMONT YANKEE</td>\n",
       "      <td>2017</td>\n",
       "      <td>1</td>\n",
       "      <td>0</td>\n",
       "    </tr>\n",
       "  </tbody>\n",
       "</table>\n",
       "</div>"
      ],
      "text/plain": [
       "           SiteName  Year  ENCount  ScramCount\n",
       "821  VERMONT YANKEE  2006        5           0\n",
       "822  VERMONT YANKEE  2007        7           1\n",
       "823  VERMONT YANKEE  2008        5           0\n",
       "824  VERMONT YANKEE  2009        2           0\n",
       "825  VERMONT YANKEE  2010        8           1\n",
       "826  VERMONT YANKEE  2011        8           0\n",
       "827  VERMONT YANKEE  2012        1           0\n",
       "828  VERMONT YANKEE  2013        5           0\n",
       "829  VERMONT YANKEE  2014        2           0\n",
       "830  VERMONT YANKEE  2016        1           0\n",
       "831  VERMONT YANKEE  2017        1           0"
      ]
     },
     "execution_count": 179,
     "metadata": {},
     "output_type": "execute_result"
    }
   ],
   "source": [
    "first_scrams[first_scrams[\"SiteName\"] == \"VERMONT YANKEE\"]"
   ]
  },
  {
   "cell_type": "code",
   "execution_count": 180,
   "metadata": {},
   "outputs": [],
   "source": [
    "first_scrams.drop([830,831,406,707,708,709,710,711,203,204,314,315,531], inplace = True)"
   ]
  },
  {
   "cell_type": "code",
   "execution_count": 181,
   "metadata": {},
   "outputs": [
    {
     "data": {
      "text/plain": [
       "DAVIS BESSE       14\n",
       "OYSTER CREEK      13\n",
       "NORTH ANNA        13\n",
       "SURRY             13\n",
       "TURKEY POINT      13\n",
       "CATAWBA           13\n",
       "WATTS BAR         13\n",
       "HARRIS            13\n",
       "WATERFORD         13\n",
       "SEABROOK          13\n",
       "GINNA             13\n",
       "POINT BEACH       13\n",
       "FORT CALHOUN      11\n",
       "VERMONT YANKEE     9\n",
       "CRYSTAL RIVER      8\n",
       "SAN ONOFRE         8\n",
       "KEWAUNEE           8\n",
       "Name: SiteName, dtype: int64"
      ]
     },
     "execution_count": 181,
     "metadata": {},
     "output_type": "execute_result"
    }
   ],
   "source": [
    "first_scrams[\"SiteName\"].value_counts().tail(17)"
   ]
  },
  {
   "cell_type": "code",
   "execution_count": 182,
   "metadata": {},
   "outputs": [],
   "source": [
    "no_ens = pd.DataFrame([[\"NORTH ANNA\", 2017, 0, 0], [\"SURRY\", 2007, 0, 0], [\"TURKEY POINT\", 2018, 0,0],\n",
    "                       [\"POINT BEACH\", 2019, 0,0], [\"CATAWBA\", 2017, 0, 0], [\"HARRIS\", 2017, 0, 0], [\"WATERFORD\", 2007, 0, 0],\n",
    "                       [\"SEABROOK\", 2013, 0, 0], [\"WATTS BAR\", 2007, 0, 0], [\"GINNA\", 2019, 0, 0]], \n",
    "                      columns=['SiteName', 'Year', \"ENCount\", \"ScramCount\"])"
   ]
  },
  {
   "cell_type": "code",
   "execution_count": 183,
   "metadata": {},
   "outputs": [
    {
     "data": {
      "text/html": [
       "<div>\n",
       "<style scoped>\n",
       "    .dataframe tbody tr th:only-of-type {\n",
       "        vertical-align: middle;\n",
       "    }\n",
       "\n",
       "    .dataframe tbody tr th {\n",
       "        vertical-align: top;\n",
       "    }\n",
       "\n",
       "    .dataframe thead th {\n",
       "        text-align: right;\n",
       "    }\n",
       "</style>\n",
       "<table border=\"1\" class=\"dataframe\">\n",
       "  <thead>\n",
       "    <tr style=\"text-align: right;\">\n",
       "      <th></th>\n",
       "      <th>SiteName</th>\n",
       "      <th>Year</th>\n",
       "      <th>ENCount</th>\n",
       "      <th>ScramCount</th>\n",
       "    </tr>\n",
       "  </thead>\n",
       "  <tbody>\n",
       "    <tr>\n",
       "      <th>0</th>\n",
       "      <td>NORTH ANNA</td>\n",
       "      <td>2017</td>\n",
       "      <td>0</td>\n",
       "      <td>0</td>\n",
       "    </tr>\n",
       "    <tr>\n",
       "      <th>1</th>\n",
       "      <td>SURRY</td>\n",
       "      <td>2007</td>\n",
       "      <td>0</td>\n",
       "      <td>0</td>\n",
       "    </tr>\n",
       "    <tr>\n",
       "      <th>2</th>\n",
       "      <td>TURKEY POINT</td>\n",
       "      <td>2018</td>\n",
       "      <td>0</td>\n",
       "      <td>0</td>\n",
       "    </tr>\n",
       "    <tr>\n",
       "      <th>3</th>\n",
       "      <td>POINT BEACH</td>\n",
       "      <td>2019</td>\n",
       "      <td>0</td>\n",
       "      <td>0</td>\n",
       "    </tr>\n",
       "    <tr>\n",
       "      <th>4</th>\n",
       "      <td>CATAWBA</td>\n",
       "      <td>2017</td>\n",
       "      <td>0</td>\n",
       "      <td>0</td>\n",
       "    </tr>\n",
       "  </tbody>\n",
       "</table>\n",
       "</div>"
      ],
      "text/plain": [
       "       SiteName  Year  ENCount  ScramCount\n",
       "0    NORTH ANNA  2017        0           0\n",
       "1         SURRY  2007        0           0\n",
       "2  TURKEY POINT  2018        0           0\n",
       "3   POINT BEACH  2019        0           0\n",
       "4       CATAWBA  2017        0           0"
      ]
     },
     "execution_count": 183,
     "metadata": {},
     "output_type": "execute_result"
    }
   ],
   "source": [
    "no_ens.head()"
   ]
  },
  {
   "cell_type": "code",
   "execution_count": 192,
   "metadata": {},
   "outputs": [],
   "source": [
    "first_scrams = first_scrams.append(no_ens, ignore_index = True)"
   ]
  },
  {
   "cell_type": "code",
   "execution_count": 193,
   "metadata": {},
   "outputs": [
    {
     "data": {
      "text/plain": [
       "(883, 4)"
      ]
     },
     "execution_count": 193,
     "metadata": {},
     "output_type": "execute_result"
    }
   ],
   "source": [
    "first_scrams.shape"
   ]
  },
  {
   "cell_type": "code",
   "execution_count": 194,
   "metadata": {},
   "outputs": [
    {
     "data": {
      "text/plain": [
       "(883, 4)"
      ]
     },
     "execution_count": 194,
     "metadata": {},
     "output_type": "execute_result"
    }
   ],
   "source": [
    "df = first_scrams.sort_values(by =['SiteName', 'Year'])\n",
    "df.shape"
   ]
  },
  {
   "cell_type": "code",
   "execution_count": 196,
   "metadata": {},
   "outputs": [
    {
     "data": {
      "text/html": [
       "<div>\n",
       "<style scoped>\n",
       "    .dataframe tbody tr th:only-of-type {\n",
       "        vertical-align: middle;\n",
       "    }\n",
       "\n",
       "    .dataframe tbody tr th {\n",
       "        vertical-align: top;\n",
       "    }\n",
       "\n",
       "    .dataframe thead th {\n",
       "        text-align: right;\n",
       "    }\n",
       "</style>\n",
       "<table border=\"1\" class=\"dataframe\">\n",
       "  <thead>\n",
       "    <tr style=\"text-align: right;\">\n",
       "      <th></th>\n",
       "      <th>SiteName</th>\n",
       "      <th>Year</th>\n",
       "      <th>ENCount</th>\n",
       "      <th>ScramCount</th>\n",
       "    </tr>\n",
       "  </thead>\n",
       "  <tbody>\n",
       "    <tr>\n",
       "      <th>868</th>\n",
       "      <td>WOLF CREEK</td>\n",
       "      <td>2015</td>\n",
       "      <td>8</td>\n",
       "      <td>2</td>\n",
       "    </tr>\n",
       "    <tr>\n",
       "      <th>869</th>\n",
       "      <td>WOLF CREEK</td>\n",
       "      <td>2016</td>\n",
       "      <td>5</td>\n",
       "      <td>0</td>\n",
       "    </tr>\n",
       "    <tr>\n",
       "      <th>870</th>\n",
       "      <td>WOLF CREEK</td>\n",
       "      <td>2017</td>\n",
       "      <td>2</td>\n",
       "      <td>0</td>\n",
       "    </tr>\n",
       "    <tr>\n",
       "      <th>871</th>\n",
       "      <td>WOLF CREEK</td>\n",
       "      <td>2018</td>\n",
       "      <td>4</td>\n",
       "      <td>0</td>\n",
       "    </tr>\n",
       "    <tr>\n",
       "      <th>872</th>\n",
       "      <td>WOLF CREEK</td>\n",
       "      <td>2019</td>\n",
       "      <td>3</td>\n",
       "      <td>0</td>\n",
       "    </tr>\n",
       "  </tbody>\n",
       "</table>\n",
       "</div>"
      ],
      "text/plain": [
       "       SiteName  Year  ENCount  ScramCount\n",
       "868  WOLF CREEK  2015        8           2\n",
       "869  WOLF CREEK  2016        5           0\n",
       "870  WOLF CREEK  2017        2           0\n",
       "871  WOLF CREEK  2018        4           0\n",
       "872  WOLF CREEK  2019        3           0"
      ]
     },
     "execution_count": 196,
     "metadata": {},
     "output_type": "execute_result"
    }
   ],
   "source": [
    "df.tail()"
   ]
  },
  {
   "cell_type": "code",
   "execution_count": 197,
   "metadata": {},
   "outputs": [],
   "source": [
    "df.to_excel('data.xlsx')"
   ]
  },
  {
   "cell_type": "code",
   "execution_count": null,
   "metadata": {},
   "outputs": [],
   "source": []
  }
 ],
 "metadata": {
  "kernelspec": {
   "display_name": "Python 3",
   "language": "python",
   "name": "python3"
  },
  "language_info": {
   "codemirror_mode": {
    "name": "ipython",
    "version": 3
   },
   "file_extension": ".py",
   "mimetype": "text/x-python",
   "name": "python",
   "nbconvert_exporter": "python",
   "pygments_lexer": "ipython3",
   "version": "3.7.0"
  }
 },
 "nbformat": 4,
 "nbformat_minor": 2
}
