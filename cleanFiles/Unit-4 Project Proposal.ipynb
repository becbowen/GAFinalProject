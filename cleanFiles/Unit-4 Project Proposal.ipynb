{
 "cells": [
  {
   "cell_type": "markdown",
   "metadata": {},
   "source": [
    "**Problem Statement**\n",
    "\n",
    "Given a series of parameters related to power plant operations, oversight, and assessment (unplanned shutdowns, inspection violations, number of programmatic deficiencies, incident reports), is it possible to identify which parameters might be indicators of future declines in safety performance?\n",
    "\n",
    "**Background**\n",
    "\n",
    "Nuclear power plants operate under a license from the Nuclear Regulatory Commission.  In order to ensure that plant performance is adequate to give confidence in continued safe operation, a regulatory oversight program provides for frequent inspections to identify very low level deficiencies before more serious concerns develop.  These deficiencies are also reviewed to determine if there were any breakdowns in broader programmatic areas that contributed to the specific deficiency.  Overall safety performance is assessed on a quarterly basis to determine if more inspection resources should be devoted to any given plant based on the number and seriousness of violations identified during the previous year.  In addition, each plant is required to submit reports when unplanned events occur such as an unexpected shutdown, system test failure, or actuation of a backup safety system.  \n",
    "\n",
    "**Hypothesis**\n",
    "\n",
    "There is some combination of publicly-available data collected by the NRC that correlates with future performance declines.\n",
    "\n",
    "**Goal**\n",
    "\n",
    "A reliable predictive indicator can allow early communication of concerns to give plants the chance to take action prior to regulatory intervention.  Failing that, it could funnel additional inspection and oversight resources to the indicated plant to address developing problems before they result in a high-risk event.  A successful model would be able to distinguish most of the plants which have had issues in the past.\n",
    "\n",
    "**Risks**\n",
    "\n",
    "*False Positives:*\n",
    "\n",
    "The NRC has a finite number of inspection resources available for the oversight of 96 operating units. Devoting too many inspection hours to a well-performing plant costs the ratepayer money in extra regulatory fees and saps oversight resources from plants that may need additional oversight.  \n",
    "\n",
    "*False Negatives:*\n",
    "\n",
    "Failing to recognize problems at a low level can lead to a situation where uncorrected issues accumulate, resulting in a catastrophic failure that can lead to an extended or permanent shutdown, impacting electricity production and grid reliability,  or a reactor accident impacting the health and safety of plant workers and the surrounding community.   \n",
    "False positives are preferable to false negatives, but the appetite for taking definitive regulatory action will be limited if the false-positive rate is too high.\n",
    "\n",
    "*Challenge - Sampling Bias:*\n",
    "\n",
    "There are significantly fewer examples of plants with the lowest assessment results than plants with high assessment ratings.  There are more examples of plants showing slightly degraded performance in the assessment process, but it is likely that the correlation between any indicators and the slightly degraded performance would not be as strong.  \n",
    "\n",
    "**Data Availability**\n",
    "\n",
    "Structured data by plant and year collected from publicly available sources is available to model the problem. \n"
   ]
  },
  {
   "cell_type": "code",
   "execution_count": null,
   "metadata": {},
   "outputs": [],
   "source": []
  }
 ],
 "metadata": {
  "kernelspec": {
   "display_name": "Python 3",
   "language": "python",
   "name": "python3"
  },
  "language_info": {
   "codemirror_mode": {
    "name": "ipython",
    "version": 3
   },
   "file_extension": ".py",
   "mimetype": "text/x-python",
   "name": "python",
   "nbconvert_exporter": "python",
   "pygments_lexer": "ipython3",
   "version": "3.7.3"
  }
 },
 "nbformat": 4,
 "nbformat_minor": 4
}
