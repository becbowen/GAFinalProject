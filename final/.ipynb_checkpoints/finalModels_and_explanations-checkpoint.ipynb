{
 "cells": [
  {
   "cell_type": "markdown",
   "metadata": {},
   "source": [
    "# Problem Statement"
   ]
  },
  {
   "cell_type": "markdown",
   "metadata": {},
   "source": [
    "Given a series of parameters related to power plant operations, oversight, and assessment:\n",
    "\n",
    "    Unplanned shutdowns - \"Scrams\" \n",
    "    Inspection violations - \"Findings\"\n",
    "    Programmatic deficiencies related to human performance - \"HU\" or problem identification and resolution - \"PIR\" \n",
    "    Different types of event reports - \"ENs\" or \"SSFF\"\n",
    "\n",
    "Overall performance each year for each plant is assigned a value from 1 to 5, where 1 means there are no concerns and 5 means there are significant concerns. \n",
    "\n",
    "Can we make a model that will accurately predict overall performance given the inputs provided?"
   ]
  },
  {
   "cell_type": "code",
   "execution_count": 362,
   "metadata": {},
   "outputs": [],
   "source": [
    "import pandas as pd\n",
    "import numpy as np\n",
    "import seaborn as sns\n",
    "import matplotlib.pyplot as plt\n",
    "\n",
    "%matplotlib inline"
   ]
  },
  {
   "cell_type": "markdown",
   "metadata": {},
   "source": [
    "## Cursory Data Re-Examination"
   ]
  },
  {
   "cell_type": "code",
   "execution_count": 363,
   "metadata": {},
   "outputs": [
    {
     "data": {
      "text/html": [
       "<div>\n",
       "<style scoped>\n",
       "    .dataframe tbody tr th:only-of-type {\n",
       "        vertical-align: middle;\n",
       "    }\n",
       "\n",
       "    .dataframe tbody tr th {\n",
       "        vertical-align: top;\n",
       "    }\n",
       "\n",
       "    .dataframe thead th {\n",
       "        text-align: right;\n",
       "    }\n",
       "</style>\n",
       "<table border=\"1\" class=\"dataframe\">\n",
       "  <thead>\n",
       "    <tr style=\"text-align: right;\">\n",
       "      <th></th>\n",
       "      <th>Site</th>\n",
       "      <th>Year</th>\n",
       "      <th>ENCount</th>\n",
       "      <th>ScramCount</th>\n",
       "      <th>Column #</th>\n",
       "      <th>TotalFindings</th>\n",
       "      <th>HU</th>\n",
       "      <th>PIR</th>\n",
       "      <th>SSFF</th>\n",
       "    </tr>\n",
       "  </thead>\n",
       "  <tbody>\n",
       "    <tr>\n",
       "      <th>878</th>\n",
       "      <td>WOLF CREEK</td>\n",
       "      <td>2015</td>\n",
       "      <td>8</td>\n",
       "      <td>2</td>\n",
       "      <td>1</td>\n",
       "      <td>10</td>\n",
       "      <td>9</td>\n",
       "      <td>0</td>\n",
       "      <td>2</td>\n",
       "    </tr>\n",
       "    <tr>\n",
       "      <th>879</th>\n",
       "      <td>WOLF CREEK</td>\n",
       "      <td>2016</td>\n",
       "      <td>5</td>\n",
       "      <td>0</td>\n",
       "      <td>1</td>\n",
       "      <td>11</td>\n",
       "      <td>11</td>\n",
       "      <td>9</td>\n",
       "      <td>1</td>\n",
       "    </tr>\n",
       "    <tr>\n",
       "      <th>880</th>\n",
       "      <td>WOLF CREEK</td>\n",
       "      <td>2017</td>\n",
       "      <td>2</td>\n",
       "      <td>0</td>\n",
       "      <td>2</td>\n",
       "      <td>12</td>\n",
       "      <td>8</td>\n",
       "      <td>4</td>\n",
       "      <td>2</td>\n",
       "    </tr>\n",
       "    <tr>\n",
       "      <th>881</th>\n",
       "      <td>WOLF CREEK</td>\n",
       "      <td>2018</td>\n",
       "      <td>4</td>\n",
       "      <td>0</td>\n",
       "      <td>2</td>\n",
       "      <td>7</td>\n",
       "      <td>8</td>\n",
       "      <td>5</td>\n",
       "      <td>0</td>\n",
       "    </tr>\n",
       "    <tr>\n",
       "      <th>882</th>\n",
       "      <td>WOLF CREEK</td>\n",
       "      <td>2019</td>\n",
       "      <td>3</td>\n",
       "      <td>0</td>\n",
       "      <td>1</td>\n",
       "      <td>0</td>\n",
       "      <td>2</td>\n",
       "      <td>0</td>\n",
       "      <td>1</td>\n",
       "    </tr>\n",
       "  </tbody>\n",
       "</table>\n",
       "</div>"
      ],
      "text/plain": [
       "           Site  Year  ENCount  ScramCount  Column #  TotalFindings  HU  PIR  \\\n",
       "878  WOLF CREEK  2015        8           2         1             10   9    0   \n",
       "879  WOLF CREEK  2016        5           0         1             11  11    9   \n",
       "880  WOLF CREEK  2017        2           0         2             12   8    4   \n",
       "881  WOLF CREEK  2018        4           0         2              7   8    5   \n",
       "882  WOLF CREEK  2019        3           0         1              0   2    0   \n",
       "\n",
       "     SSFF  \n",
       "878     2  \n",
       "879     1  \n",
       "880     2  \n",
       "881     0  \n",
       "882     1  "
      ]
     },
     "execution_count": 363,
     "metadata": {},
     "output_type": "execute_result"
    }
   ],
   "source": [
    "#import the clean data file and verify it has the expected information\n",
    "df = pd.read_excel(\"EnsAmFindingsCcasSsffs.xlsx\", index_col = 0)\n",
    "df.tail()"
   ]
  },
  {
   "cell_type": "code",
   "execution_count": 364,
   "metadata": {},
   "outputs": [
    {
     "data": {
      "text/html": [
       "<div>\n",
       "<style scoped>\n",
       "    .dataframe tbody tr th:only-of-type {\n",
       "        vertical-align: middle;\n",
       "    }\n",
       "\n",
       "    .dataframe tbody tr th {\n",
       "        vertical-align: top;\n",
       "    }\n",
       "\n",
       "    .dataframe thead th {\n",
       "        text-align: right;\n",
       "    }\n",
       "</style>\n",
       "<table border=\"1\" class=\"dataframe\">\n",
       "  <thead>\n",
       "    <tr style=\"text-align: right;\">\n",
       "      <th></th>\n",
       "      <th>Year</th>\n",
       "      <th>ENCount</th>\n",
       "      <th>ScramCount</th>\n",
       "      <th>TotalFindings</th>\n",
       "      <th>HU</th>\n",
       "      <th>PIR</th>\n",
       "      <th>SSFF</th>\n",
       "    </tr>\n",
       "    <tr>\n",
       "      <th>Column #</th>\n",
       "      <th></th>\n",
       "      <th></th>\n",
       "      <th></th>\n",
       "      <th></th>\n",
       "      <th></th>\n",
       "      <th></th>\n",
       "      <th></th>\n",
       "    </tr>\n",
       "  </thead>\n",
       "  <tbody>\n",
       "    <tr>\n",
       "      <th>1</th>\n",
       "      <td>2012.768566</td>\n",
       "      <td>6.336788</td>\n",
       "      <td>0.808290</td>\n",
       "      <td>9.642487</td>\n",
       "      <td>5.853195</td>\n",
       "      <td>2.284974</td>\n",
       "      <td>1.222798</td>\n",
       "    </tr>\n",
       "    <tr>\n",
       "      <th>2</th>\n",
       "      <td>2011.798283</td>\n",
       "      <td>8.360515</td>\n",
       "      <td>1.240343</td>\n",
       "      <td>12.467811</td>\n",
       "      <td>7.686695</td>\n",
       "      <td>3.167382</td>\n",
       "      <td>1.592275</td>\n",
       "    </tr>\n",
       "    <tr>\n",
       "      <th>3</th>\n",
       "      <td>2010.437500</td>\n",
       "      <td>9.250000</td>\n",
       "      <td>1.520833</td>\n",
       "      <td>14.666667</td>\n",
       "      <td>8.145833</td>\n",
       "      <td>4.562500</td>\n",
       "      <td>2.083333</td>\n",
       "    </tr>\n",
       "    <tr>\n",
       "      <th>4</th>\n",
       "      <td>2011.947368</td>\n",
       "      <td>10.157895</td>\n",
       "      <td>2.052632</td>\n",
       "      <td>21.052632</td>\n",
       "      <td>12.842105</td>\n",
       "      <td>7.000000</td>\n",
       "      <td>2.263158</td>\n",
       "    </tr>\n",
       "    <tr>\n",
       "      <th>5</th>\n",
       "      <td>2012.500000</td>\n",
       "      <td>20.500000</td>\n",
       "      <td>0.750000</td>\n",
       "      <td>39.750000</td>\n",
       "      <td>21.750000</td>\n",
       "      <td>16.750000</td>\n",
       "      <td>7.500000</td>\n",
       "    </tr>\n",
       "  </tbody>\n",
       "</table>\n",
       "</div>"
      ],
      "text/plain": [
       "                 Year    ENCount  ScramCount  TotalFindings         HU  \\\n",
       "Column #                                                                 \n",
       "1         2012.768566   6.336788    0.808290       9.642487   5.853195   \n",
       "2         2011.798283   8.360515    1.240343      12.467811   7.686695   \n",
       "3         2010.437500   9.250000    1.520833      14.666667   8.145833   \n",
       "4         2011.947368  10.157895    2.052632      21.052632  12.842105   \n",
       "5         2012.500000  20.500000    0.750000      39.750000  21.750000   \n",
       "\n",
       "                PIR      SSFF  \n",
       "Column #                       \n",
       "1          2.284974  1.222798  \n",
       "2          3.167382  1.592275  \n",
       "3          4.562500  2.083333  \n",
       "4          7.000000  2.263158  \n",
       "5         16.750000  7.500000  "
      ]
     },
     "execution_count": 364,
     "metadata": {},
     "output_type": "execute_result"
    }
   ],
   "source": [
    "df.groupby(by = \"Column #\", axis = 0).mean()"
   ]
  },
  {
   "cell_type": "markdown",
   "metadata": {},
   "source": [
    "The mean value for each of the parameters increases as column # increases, which implies there is some relationship between the data and the Column #."
   ]
  },
  {
   "cell_type": "code",
   "execution_count": 365,
   "metadata": {},
   "outputs": [
    {
     "data": {
      "text/html": [
       "<div>\n",
       "<style scoped>\n",
       "    .dataframe tbody tr th:only-of-type {\n",
       "        vertical-align: middle;\n",
       "    }\n",
       "\n",
       "    .dataframe tbody tr th {\n",
       "        vertical-align: top;\n",
       "    }\n",
       "\n",
       "    .dataframe thead th {\n",
       "        text-align: right;\n",
       "    }\n",
       "</style>\n",
       "<table border=\"1\" class=\"dataframe\">\n",
       "  <thead>\n",
       "    <tr style=\"text-align: right;\">\n",
       "      <th></th>\n",
       "      <th>Site</th>\n",
       "      <th>Year</th>\n",
       "      <th>ENCount</th>\n",
       "      <th>ScramCount</th>\n",
       "      <th>Column #</th>\n",
       "      <th>TotalFindings</th>\n",
       "      <th>HU</th>\n",
       "      <th>PIR</th>\n",
       "      <th>SSFF</th>\n",
       "      <th>AM_Movement</th>\n",
       "      <th>AM_sig</th>\n",
       "    </tr>\n",
       "  </thead>\n",
       "  <tbody>\n",
       "    <tr>\n",
       "      <th>0</th>\n",
       "      <td>ARKANSAS NUCLEAR ONE</td>\n",
       "      <td>2006</td>\n",
       "      <td>2</td>\n",
       "      <td>0</td>\n",
       "      <td>1</td>\n",
       "      <td>11</td>\n",
       "      <td>6</td>\n",
       "      <td>2</td>\n",
       "      <td>0</td>\n",
       "      <td>0</td>\n",
       "      <td>1</td>\n",
       "    </tr>\n",
       "    <tr>\n",
       "      <th>1</th>\n",
       "      <td>ARKANSAS NUCLEAR ONE</td>\n",
       "      <td>2007</td>\n",
       "      <td>2</td>\n",
       "      <td>1</td>\n",
       "      <td>1</td>\n",
       "      <td>26</td>\n",
       "      <td>15</td>\n",
       "      <td>6</td>\n",
       "      <td>0</td>\n",
       "      <td>0</td>\n",
       "      <td>1</td>\n",
       "    </tr>\n",
       "    <tr>\n",
       "      <th>2</th>\n",
       "      <td>ARKANSAS NUCLEAR ONE</td>\n",
       "      <td>2008</td>\n",
       "      <td>5</td>\n",
       "      <td>2</td>\n",
       "      <td>1</td>\n",
       "      <td>21</td>\n",
       "      <td>14</td>\n",
       "      <td>2</td>\n",
       "      <td>0</td>\n",
       "      <td>0</td>\n",
       "      <td>1</td>\n",
       "    </tr>\n",
       "    <tr>\n",
       "      <th>3</th>\n",
       "      <td>ARKANSAS NUCLEAR ONE</td>\n",
       "      <td>2009</td>\n",
       "      <td>12</td>\n",
       "      <td>5</td>\n",
       "      <td>2</td>\n",
       "      <td>21</td>\n",
       "      <td>15</td>\n",
       "      <td>7</td>\n",
       "      <td>1</td>\n",
       "      <td>1</td>\n",
       "      <td>2</td>\n",
       "    </tr>\n",
       "    <tr>\n",
       "      <th>4</th>\n",
       "      <td>ARKANSAS NUCLEAR ONE</td>\n",
       "      <td>2010</td>\n",
       "      <td>4</td>\n",
       "      <td>2</td>\n",
       "      <td>1</td>\n",
       "      <td>24</td>\n",
       "      <td>14</td>\n",
       "      <td>5</td>\n",
       "      <td>0</td>\n",
       "      <td>0</td>\n",
       "      <td>1</td>\n",
       "    </tr>\n",
       "    <tr>\n",
       "      <th>5</th>\n",
       "      <td>ARKANSAS NUCLEAR ONE</td>\n",
       "      <td>2011</td>\n",
       "      <td>3</td>\n",
       "      <td>0</td>\n",
       "      <td>1</td>\n",
       "      <td>19</td>\n",
       "      <td>11</td>\n",
       "      <td>3</td>\n",
       "      <td>0</td>\n",
       "      <td>0</td>\n",
       "      <td>1</td>\n",
       "    </tr>\n",
       "    <tr>\n",
       "      <th>6</th>\n",
       "      <td>ARKANSAS NUCLEAR ONE</td>\n",
       "      <td>2012</td>\n",
       "      <td>4</td>\n",
       "      <td>1</td>\n",
       "      <td>1</td>\n",
       "      <td>17</td>\n",
       "      <td>10</td>\n",
       "      <td>0</td>\n",
       "      <td>0</td>\n",
       "      <td>0</td>\n",
       "      <td>1</td>\n",
       "    </tr>\n",
       "    <tr>\n",
       "      <th>7</th>\n",
       "      <td>ARKANSAS NUCLEAR ONE</td>\n",
       "      <td>2013</td>\n",
       "      <td>3</td>\n",
       "      <td>0</td>\n",
       "      <td>1</td>\n",
       "      <td>12</td>\n",
       "      <td>5</td>\n",
       "      <td>1</td>\n",
       "      <td>3</td>\n",
       "      <td>0</td>\n",
       "      <td>1</td>\n",
       "    </tr>\n",
       "    <tr>\n",
       "      <th>8</th>\n",
       "      <td>ARKANSAS NUCLEAR ONE</td>\n",
       "      <td>2014</td>\n",
       "      <td>7</td>\n",
       "      <td>2</td>\n",
       "      <td>4</td>\n",
       "      <td>17</td>\n",
       "      <td>19</td>\n",
       "      <td>5</td>\n",
       "      <td>1</td>\n",
       "      <td>1</td>\n",
       "      <td>3</td>\n",
       "    </tr>\n",
       "  </tbody>\n",
       "</table>\n",
       "</div>"
      ],
      "text/plain": [
       "                   Site  Year  ENCount  ScramCount  Column #  TotalFindings  \\\n",
       "0  ARKANSAS NUCLEAR ONE  2006        2           0         1             11   \n",
       "1  ARKANSAS NUCLEAR ONE  2007        2           1         1             26   \n",
       "2  ARKANSAS NUCLEAR ONE  2008        5           2         1             21   \n",
       "3  ARKANSAS NUCLEAR ONE  2009       12           5         2             21   \n",
       "4  ARKANSAS NUCLEAR ONE  2010        4           2         1             24   \n",
       "5  ARKANSAS NUCLEAR ONE  2011        3           0         1             19   \n",
       "6  ARKANSAS NUCLEAR ONE  2012        4           1         1             17   \n",
       "7  ARKANSAS NUCLEAR ONE  2013        3           0         1             12   \n",
       "8  ARKANSAS NUCLEAR ONE  2014        7           2         4             17   \n",
       "\n",
       "   HU  PIR  SSFF  AM_Movement  AM_sig  \n",
       "0   6    2     0            0       1  \n",
       "1  15    6     0            0       1  \n",
       "2  14    2     0            0       1  \n",
       "3  15    7     1            1       2  \n",
       "4  14    5     0            0       1  \n",
       "5  11    3     0            0       1  \n",
       "6  10    0     0            0       1  \n",
       "7   5    1     3            0       1  \n",
       "8  19    5     1            1       3  "
      ]
     },
     "execution_count": 365,
     "metadata": {},
     "output_type": "execute_result"
    }
   ],
   "source": [
    "#add an additional possible target variable derived from \"Column #\" - AM_Movement = 0 if Column # =1, otherwise AM_Movement =1\n",
    "#define a third potential target variable that is 1 for Column # = 1, 2 for column # = 2, or 3 for Column # >2\n",
    "df[\"AM_Movement\"] = df[\"Column #\"].apply(lambda x: 0 if x == 1 else 1)\n",
    "df[\"AM_sig\"] = df[\"Column #\"].apply(lambda x: 3 if x > 2 else x)\n",
    "df.head(9)"
   ]
  },
  {
   "cell_type": "markdown",
   "metadata": {},
   "source": [
    "Because the \"Column #\" target variable is so unbalanced, we're adding a couple extra potential target variables based off of \"Column #\" to try and get a better balance in the data."
   ]
  },
  {
   "cell_type": "code",
   "execution_count": 174,
   "metadata": {},
   "outputs": [
    {
     "data": {
      "image/png": "[encoded data removed]",
      "text/plain": [
       "<Figure size 432x288 with 4 Axes>"
      ]
     },
     "metadata": {
      "needs_background": "light"
     },
     "output_type": "display_data"
    }
   ],
   "source": [
    "df.boxplot(by = \"Column #\", column = [\"ENCount\",\"TotalFindings\", \"HU\"]);"
   ]
  },
  {
   "cell_type": "code",
   "execution_count": 366,
   "metadata": {},
   "outputs": [
    {
     "data": {
      "image/png": "[encoded data removed]",
      "text/plain": [
       "<Figure size 432x288 with 4 Axes>"
      ]
     },
     "metadata": {
      "needs_background": "light"
     },
     "output_type": "display_data"
    }
   ],
   "source": [
    "df.boxplot(by = \"AM_Movement\", column = [\"ENCount\",\"TotalFindings\", \"HU\"]);"
   ]
  },
  {
   "cell_type": "code",
   "execution_count": 176,
   "metadata": {},
   "outputs": [
    {
     "data": {
      "image/png": "[encoded data removed]",
      "text/plain": [
       "<Figure size 432x288 with 4 Axes>"
      ]
     },
     "metadata": {
      "needs_background": "light"
     },
     "output_type": "display_data"
    }
   ],
   "source": [
    "df.boxplot(by = \"AM_sig\", column = [\"ENCount\",\"TotalFindings\", \"HU\"]);"
   ]
  },
  {
   "cell_type": "code",
   "execution_count": 367,
   "metadata": {},
   "outputs": [
    {
     "data": {
      "image/png": "[encoded data removed]",
      "text/plain": [
       "<Figure size 432x288 with 2 Axes>"
      ]
     },
     "metadata": {
      "needs_background": "light"
     },
     "output_type": "display_data"
    }
   ],
   "source": [
    "df.plot(kind = \"scatter\", x = \"TotalFindings\", y = \"ENCount\", c = \"AM_sig\", colormap = \"brg\");"
   ]
  },
  {
   "cell_type": "markdown",
   "metadata": {},
   "source": [
    "# K Nearest Neighbors Classification"
   ]
  },
  {
   "cell_type": "markdown",
   "metadata": {},
   "source": [
    "***KNN for Target Variable with Five Classes***"
   ]
  },
  {
   "cell_type": "markdown",
   "metadata": {},
   "source": [
    "For the first model, we'll use train_test_split to fit a knn model to the data using the five values in Column # as the five classes for the target variable.  We'll evaluate the model iterating from 1-50 nearest neighbors, then plot the resulting scores to see which value provides the best score when applied to the test data."
   ]
  },
  {
   "cell_type": "code",
   "execution_count": 368,
   "metadata": {},
   "outputs": [],
   "source": [
    "from sklearn.neighbors import KNeighborsClassifier\n",
    "from sklearn import model_selection\n",
    "from sklearn import metrics"
   ]
  },
  {
   "cell_type": "code",
   "execution_count": 369,
   "metadata": {},
   "outputs": [],
   "source": [
    "#start with y = Column #\n",
    "feature_cols = [\"ENCount\",\"ScramCount\",\"TotalFindings\",\"SSFF\",\"HU\",\"PIR\"]\n",
    "X = df[feature_cols]\n",
    "y = df[\"Column #\"]"
   ]
  },
  {
   "cell_type": "code",
   "execution_count": 374,
   "metadata": {},
   "outputs": [],
   "source": [
    "X_train, X_test, y_train, y_test = train_test_split(X,y)\n",
    "score1 = []\n",
    "for i in range(1,50):\n",
    "    knn1 = KNeighborsClassifier(n_neighbors = i)\n",
    "    knn1.fit(X_train, y_train)\n",
    "    y_pred_class = knn1.predict(X_test)\n",
    "    scorefit = metrics.accuracy_score(y_test, y_pred_class)\n",
    "    score1.append([i,scorefit])"
   ]
  },
  {
   "cell_type": "code",
   "execution_count": 375,
   "metadata": {},
   "outputs": [
    {
     "name": "stdout",
     "output_type": "stream",
     "text": [
      "34\n",
      "0.7058823529411765\n"
     ]
    },
    {
     "data": {
      "image/png": "[encoded data removed]",
      "text/plain": [
       "<Figure size 432x288 with 1 Axes>"
      ]
     },
     "metadata": {
      "needs_background": "light"
     },
     "output_type": "display_data"
    }
   ],
   "source": [
    "df_scores1 = pd.DataFrame(score1, columns = [\"i\",\"scorefit\"])\n",
    "print(df_scores1[\"scorefit\"].argmax())\n",
    "print(df_scores1[\"scorefit\"].max())\n",
    "df_scores1.plot.line(x = \"i\", y = \"scorefit\");"
   ]
  },
  {
   "cell_type": "markdown",
   "metadata": {},
   "source": [
    "Next we'll determine what our score would have been in the \"null\" case, which for this scenario would be assuming the answer is always the most frequent class (column 1), and compare that to the scores obtained by the model."
   ]
  },
  {
   "cell_type": "code",
   "execution_count": 376,
   "metadata": {},
   "outputs": [
    {
     "name": "stdout",
     "output_type": "stream",
     "text": [
      "1    150\n",
      "2     51\n",
      "3     15\n",
      "4      4\n",
      "5      1\n",
      "Name: Column #, dtype: int64\n"
     ]
    },
    {
     "data": {
      "text/plain": [
       "1"
      ]
     },
     "execution_count": 376,
     "metadata": {},
     "output_type": "execute_result"
    }
   ],
   "source": [
    "#compare against the null accuracy\n",
    "most_freq_class = y_test.value_counts().index[0]\n",
    "print(y_test.value_counts())\n",
    "most_freq_class"
   ]
  },
  {
   "cell_type": "code",
   "execution_count": 377,
   "metadata": {},
   "outputs": [
    {
     "data": {
      "text/plain": [
       "0.6787330316742082"
      ]
     },
     "execution_count": 377,
     "metadata": {},
     "output_type": "execute_result"
    }
   ],
   "source": [
    "y_test.value_counts()[most_freq_class]/len(y_test)"
   ]
  },
  {
   "cell_type": "markdown",
   "metadata": {},
   "source": [
    "Over several runs, the maximum score generally occurs with a k between 20-40 and that particular value outperforms the null accuracy, but not by much.  The model overall does not appear to be a reliable predictor of column number.\n",
    "\n",
    "One consideration - the parameters have not been scaled.  There is not a huge variation, but in general TotalFindings tends to be an order of magnitude higher than ScramCount.  "
   ]
  },
  {
   "cell_type": "markdown",
   "metadata": {},
   "source": [
    "***KNN with Scaled Data for Target Variable with Five Classes***"
   ]
  },
  {
   "cell_type": "markdown",
   "metadata": {},
   "source": [
    "This scenario will also apply a KNN classifier using a target variable with five classes, but this time we'll scale the features to hopefully better harness the strengths of the KNN classifier."
   ]
  },
  {
   "cell_type": "code",
   "execution_count": 378,
   "metadata": {},
   "outputs": [],
   "source": [
    "X_train, X_test, y_train, y_test = train_test_split(X,y)"
   ]
  },
  {
   "cell_type": "code",
   "execution_count": 379,
   "metadata": {},
   "outputs": [],
   "source": [
    "from sklearn.preprocessing import StandardScaler"
   ]
  },
  {
   "cell_type": "code",
   "execution_count": 380,
   "metadata": {},
   "outputs": [],
   "source": [
    "scaler = StandardScaler()\n",
    "X_train = scaler.fit_transform(X_train)\n",
    "X_test = scaler.transform(X_test)"
   ]
  },
  {
   "cell_type": "code",
   "execution_count": 381,
   "metadata": {},
   "outputs": [],
   "source": [
    "score2 = []\n",
    "for i in range(1,50):\n",
    "    knn2 = KNeighborsClassifier(n_neighbors = i)\n",
    "    knn2.fit(X_train, y_train)\n",
    "    y_pred_class = knn2.predict(X_test)\n",
    "    scorefit = metrics.accuracy_score(y_test, y_pred_class)\n",
    "    score2.append([i,scorefit])"
   ]
  },
  {
   "cell_type": "code",
   "execution_count": 382,
   "metadata": {},
   "outputs": [
    {
     "name": "stdout",
     "output_type": "stream",
     "text": [
      "9\n",
      "0.6832579185520362\n"
     ]
    },
    {
     "data": {
      "image/png": "[encoded data removed]",
      "text/plain": [
       "<Figure size 432x288 with 1 Axes>"
      ]
     },
     "metadata": {
      "needs_background": "light"
     },
     "output_type": "display_data"
    }
   ],
   "source": [
    "df_scores2 = pd.DataFrame(score2, columns = [\"i\",\"scorefit\"])\n",
    "print(df_scores2[\"scorefit\"].argmax())\n",
    "print(df_scores2[\"scorefit\"].max())\n",
    "df_scores2.plot.line(x = \"i\", y = \"scorefit\");"
   ]
  },
  {
   "cell_type": "code",
   "execution_count": 383,
   "metadata": {},
   "outputs": [
    {
     "name": "stdout",
     "output_type": "stream",
     "text": [
      "1    144\n",
      "2     59\n",
      "3     13\n",
      "4      5\n",
      "Name: Column #, dtype: int64\n"
     ]
    },
    {
     "data": {
      "text/plain": [
       "0.6515837104072398"
      ]
     },
     "execution_count": 383,
     "metadata": {},
     "output_type": "execute_result"
    }
   ],
   "source": [
    "#compare against the null accuracy\n",
    "most_freq_class = y_test.value_counts().index[0]\n",
    "print(y_test.value_counts())\n",
    "y_test.value_counts()[most_freq_class]/len(y_test)"
   ]
  },
  {
   "cell_type": "markdown",
   "metadata": {},
   "source": [
    "The performance appears to be marginally improved, but not enough to be consistently more reliable than the null accuracy."
   ]
  },
  {
   "cell_type": "markdown",
   "metadata": {},
   "source": [
    "***KNN with Scaled Data for Target Variable with Three Classes***"
   ]
  },
  {
   "cell_type": "markdown",
   "metadata": {},
   "source": [
    "Because there are so few labels in column 4 and 5, there really isn't enough data to distinguish between predictive performance and random outliers.  One possibility would be to group columns 3, 4, and 5 together as one classification, for a total of 3 classifications: column 1, column 2, and column 3+.  This is given in the AM_sig column of df."
   ]
  },
  {
   "cell_type": "code",
   "execution_count": 386,
   "metadata": {},
   "outputs": [
    {
     "name": "stdout",
     "output_type": "stream",
     "text": [
      "23\n",
      "0.6787330316742082\n"
     ]
    },
    {
     "data": {
      "image/png": "[encoded data removed]",
      "text/plain": [
       "<Figure size 432x288 with 1 Axes>"
      ]
     },
     "metadata": {
      "needs_background": "light"
     },
     "output_type": "display_data"
    }
   ],
   "source": [
    "#start with y = AM_sig\n",
    "#continue to used scaled data\n",
    "feature_cols = [\"ENCount\",\"ScramCount\",\"TotalFindings\",\"SSFF\",\"HU\",\"PIR\"]\n",
    "X = df[feature_cols]\n",
    "y = df[\"AM_sig\"]\n",
    "X_train, X_test, y_train, y_test = train_test_split(X,y)\n",
    "\n",
    "scaler = StandardScaler()\n",
    "X_train = scaler.fit_transform(X_train)\n",
    "X_test = scaler.transform(X_test)\n",
    "\n",
    "score3 = []\n",
    "for i in range(1,50):\n",
    "    knn3 = KNeighborsClassifier(n_neighbors = i)\n",
    "    knn3.fit(X_train, y_train)\n",
    "    y_pred_class = knn3.predict(X_test)\n",
    "    scorefit = metrics.accuracy_score(y_test, y_pred_class)\n",
    "    score3.append([i,scorefit])\n",
    "    \n",
    "df_scores3 = pd.DataFrame(score3, columns = [\"i\",\"scorefit\"])\n",
    "print(df_scores3[\"scorefit\"].argmax())\n",
    "print(df_scores3[\"scorefit\"].max())\n",
    "df_scores3.plot.line(x = \"i\", y = \"scorefit\");"
   ]
  },
  {
   "cell_type": "code",
   "execution_count": 387,
   "metadata": {},
   "outputs": [
    {
     "name": "stdout",
     "output_type": "stream",
     "text": [
      "1    145\n",
      "2     62\n",
      "3     14\n",
      "Name: AM_sig, dtype: int64\n"
     ]
    },
    {
     "data": {
      "text/plain": [
       "0.6561085972850679"
      ]
     },
     "execution_count": 387,
     "metadata": {},
     "output_type": "execute_result"
    }
   ],
   "source": [
    "#compare against the null accuracy\n",
    "most_freq_class = y_test.value_counts().index[0]\n",
    "print(y_test.value_counts())\n",
    "y_test.value_counts()[most_freq_class]/len(y_test)"
   ]
  },
  {
   "cell_type": "markdown",
   "metadata": {},
   "source": [
    "***KNN with Cross-Validation for Target Variable with Three Classes***"
   ]
  },
  {
   "cell_type": "markdown",
   "metadata": {},
   "source": [
    "For the scenarios above, we were running the model several times to eyeball the result to get a feeling for how the score would vary depending on how the data was split.  Using k-fold cross validation, we can get a better feeling for where the model score would usually fall."
   ]
  },
  {
   "cell_type": "code",
   "execution_count": 388,
   "metadata": {},
   "outputs": [
    {
     "name": "stdout",
     "output_type": "stream",
     "text": [
      "35\n",
      "0.6693181818181818\n"
     ]
    },
    {
     "data": {
      "image/png": "[encoded data removed]",
      "text/plain": [
       "<Figure size 432x288 with 1 Axes>"
      ]
     },
     "metadata": {
      "needs_background": "light"
     },
     "output_type": "display_data"
    }
   ],
   "source": [
    "#run k-fold cross-validation to get a better feel for the average performance of the model\n",
    "\n",
    "kf = model_selection.KFold(n_splits = 10, shuffle = True)\n",
    "\n",
    "feature_cols = [\"ENCount\",\"ScramCount\",\"TotalFindings\",\"SSFF\",\"HU\",\"PIR\"]\n",
    "X = df[feature_cols]\n",
    "y = df[\"AM_sig\"]\n",
    "\n",
    "score4 = []\n",
    "\n",
    "for i in range(1,50):\n",
    "    acc = []\n",
    "    n = 0\n",
    "    for train_index, test_index in kf.split(X,y):\n",
    "        knn4 = KNeighborsClassifier(n_neighbors = i)\n",
    "        knn4.fit(X.iloc[train_index],y.iloc[train_index])\n",
    "        \n",
    "        acc.append(metrics.accuracy_score(y.iloc[test_index], knn4.predict(X.iloc[test_index])))\n",
    "        \n",
    "        n+=1\n",
    "    scorefit = np.mean(acc)\n",
    "    score4.append([i,scorefit])\n",
    "\n",
    "df_scores4 = pd.DataFrame(score4, columns = [\"i\",\"scorefit\"])\n",
    "print(df_scores4[\"scorefit\"].argmax())\n",
    "print(df_scores4[\"scorefit\"].max())\n",
    "df_scores4.plot.line(x = \"i\", y = \"scorefit\");"
   ]
  },
  {
   "cell_type": "markdown",
   "metadata": {},
   "source": [
    "Even combining the highest three columns into one class hasn't produced a result that is reliably even marginally better than the null accuracy.  "
   ]
  },
  {
   "cell_type": "markdown",
   "metadata": {},
   "source": [
    "***KNN with Cross-Validation for Target Variable with Two Classes***"
   ]
  },
  {
   "cell_type": "markdown",
   "metadata": {},
   "source": [
    "The number of rows for each of the classes above are still highly unbalanced.  The next model will group the data into just two classes - Column # = 1 and Column # >1.  This is given by a 0 or a 1 in the AM_Movement column. "
   ]
  },
  {
   "cell_type": "code",
   "execution_count": 389,
   "metadata": {},
   "outputs": [
    {
     "name": "stdout",
     "output_type": "stream",
     "text": [
      "40\n",
      "0.6931307456588356\n"
     ]
    },
    {
     "data": {
      "image/png": "[encoded data removed]",
      "text/plain": [
       "<Figure size 432x288 with 1 Axes>"
      ]
     },
     "metadata": {
      "needs_background": "light"
     },
     "output_type": "display_data"
    }
   ],
   "source": [
    "#Use \"AM_Movement\" column as the target variable and perform k-folds cross-validation on a knn model for k in range(1,50)\n",
    "kf = model_selection.KFold(n_splits = 10, shuffle = True)\n",
    "\n",
    "feature_cols = [\"ENCount\",\"ScramCount\",\"TotalFindings\",\"SSFF\",\"HU\",\"PIR\"]\n",
    "X = df[feature_cols]\n",
    "y = df[\"AM_Movement\"]\n",
    "\n",
    "score5 = []\n",
    "\n",
    "for i in range(1,50):\n",
    "    acc = []\n",
    "    n = 0\n",
    "    for train_index, test_index in kf.split(X,y):\n",
    "        knn5 = KNeighborsClassifier(n_neighbors = i)\n",
    "        knn5.fit(X.iloc[train_index],y.iloc[train_index])\n",
    "        \n",
    "        acc.append(metrics.accuracy_score(y.iloc[test_index], knn5.predict(X.iloc[test_index])))\n",
    "        \n",
    "        n+=1\n",
    "    scorefit = np.mean(acc)\n",
    "    score5.append([i,scorefit])\n",
    "\n",
    "df_scores5 = pd.DataFrame(score5, columns = [\"i\",\"scorefit\"])\n",
    "print(df_scores5[\"scorefit\"].argmax())\n",
    "print(df_scores5[\"scorefit\"].max())\n",
    "df_scores5.plot.line(x = \"i\", y = \"scorefit\");"
   ]
  },
  {
   "cell_type": "markdown",
   "metadata": {},
   "source": [
    "This appears to be slightly better than when there were 3 or 5 classes.  The KNN model is highly susceptible to outliers though.  There are known outliers in the data for reasons that are unrelated to overall performance (column #); one option for future exploration could be to level the outlier points to more appropriate values and see if that improves the performance.  "
   ]
  },
  {
   "cell_type": "markdown",
   "metadata": {},
   "source": [
    "# Logistic Regression"
   ]
  },
  {
   "cell_type": "markdown",
   "metadata": {},
   "source": [
    "Instead, using just the two classes given by using AM_Movement as the target variable, we'll try applying a logistic regression model, which might be better suited to a dataset with these types of outliers. "
   ]
  },
  {
   "cell_type": "code",
   "execution_count": 390,
   "metadata": {},
   "outputs": [],
   "source": [
    "from sklearn.linear_model import LogisticRegression"
   ]
  },
  {
   "cell_type": "code",
   "execution_count": 391,
   "metadata": {},
   "outputs": [
    {
     "name": "stdout",
     "output_type": "stream",
     "text": [
      "0.7043539325842697\n"
     ]
    }
   ],
   "source": [
    "kf = model_selection.KFold(n_splits = 10, shuffle = True)\n",
    "\n",
    "feature_cols = [\"ENCount\",\"ScramCount\",\"TotalFindings\",\"SSFF\",\"HU\",\"PIR\"]\n",
    "X = df[feature_cols]\n",
    "y = df[\"AM_Movement\"]\n",
    "\n",
    "acc = []\n",
    "\n",
    "n = 0\n",
    "for train_index, test_index in kf.split(X,y):\n",
    "    logreg = LogisticRegression()\n",
    "    logreg.fit(X.iloc[train_index],y.iloc[train_index])\n",
    "        \n",
    "    acc.append(logreg.score(X.iloc[test_index], y.iloc[test_index]))\n",
    "        \n",
    "    n+=1\n",
    "scorefit = np.mean(acc)\n",
    "\n",
    "print(scorefit)\n"
   ]
  },
  {
   "cell_type": "code",
   "execution_count": 392,
   "metadata": {},
   "outputs": [
    {
     "data": {
      "text/plain": [
       "0.6557191392978483"
      ]
     },
     "execution_count": 392,
     "metadata": {},
     "output_type": "execute_result"
    }
   ],
   "source": [
    "#compare with the null accuracy (proportion of the majority class label)\n",
    "1-y.mean()"
   ]
  },
  {
   "cell_type": "markdown",
   "metadata": {},
   "source": [
    "The logistic regression model appears to reliably predict the target variable better than just assuming the majority class label, matching the best performance of a knn-model that would be difficult to meaningfully apply to new data."
   ]
  },
  {
   "cell_type": "markdown",
   "metadata": {},
   "source": [
    "Compute a confusion matrix to get a feel for false positives (plants with predicted AM movement that did not move) vs. false negatives (plants not predicted to have AM movement that did in fact move)."
   ]
  },
  {
   "cell_type": "code",
   "execution_count": 395,
   "metadata": {},
   "outputs": [
    {
     "name": "stdout",
     "output_type": "stream",
     "text": [
      "The baseline accuracy is 0.6525679758308157\n",
      "The accuracy of the model on the test set is 0.7194570135746606\n"
     ]
    },
    {
     "data": {
      "text/plain": [
       "(135, 12, 50, 24)"
      ]
     },
     "execution_count": 395,
     "metadata": {},
     "output_type": "execute_result"
    }
   ],
   "source": [
    "X_train, X_test, y_train, y_test = train_test_split(X,y)\n",
    "logreg2 = LogisticRegression()\n",
    "logreg2.fit(X_train, y_train)\n",
    "\n",
    "print(f\"The baseline accuracy is {1-y_train.mean()}\")\n",
    "\n",
    "print(f\"The accuracy of the model on the test set is {np.mean(y_test == logreg2.predict(X_test))}\")\n",
    "\n",
    "logreg2_pred_proba = logreg2.predict_proba(X_test)[:,1]\n",
    "\n",
    "tn, fp, fn, tp = metrics.confusion_matrix(y_true = y_test, y_pred = logreg2_pred_proba > .5).ravel()\n",
    "(tn, fp, fn, tp)"
   ]
  },
  {
   "cell_type": "markdown",
   "metadata": {},
   "source": [
    "The model has more false negatives than false positives, which is probably preferable given the business scenario.  However, the false negative rate runs almost 2-3 times the true postitive rate, indicating limited usefulness.  The next scenario will try to improve the outcome by limiting the feature columns to HU, which appears from a scatter plot to have a better fit for the logistic regression function."
   ]
  },
  {
   "cell_type": "markdown",
   "metadata": {},
   "source": [
    "***Logistic Regression with One Feature Column***"
   ]
  },
  {
   "cell_type": "code",
   "execution_count": 396,
   "metadata": {},
   "outputs": [
    {
     "data": {
      "image/png": "[encoded data removed]",
      "text/plain": [
       "<Figure size 432x288 with 1 Axes>"
      ]
     },
     "metadata": {
      "needs_background": "light"
     },
     "output_type": "display_data"
    }
   ],
   "source": [
    "plt.scatter( df.HU, df.AM_Movement);"
   ]
  },
  {
   "cell_type": "code",
   "execution_count": 399,
   "metadata": {},
   "outputs": [
    {
     "name": "stdout",
     "output_type": "stream",
     "text": [
      "The baseline accuracy is 0.6601208459214502\n",
      "The accuracy of the model on the test set is 0.6289592760180995\n"
     ]
    },
    {
     "data": {
      "text/plain": [
       "(127, 15, 67, 12)"
      ]
     },
     "execution_count": 399,
     "metadata": {},
     "output_type": "execute_result"
    }
   ],
   "source": [
    "feature_cols = [\"HU\"]\n",
    "X = df[feature_cols]\n",
    "y = df[\"AM_Movement\"]\n",
    "\n",
    "X_train, X_test, y_train, y_test = train_test_split(X,y)\n",
    "logreg3 = LogisticRegression()\n",
    "logreg3.fit(X_train, y_train)\n",
    "\n",
    "print(f\"The baseline accuracy is {1-y_train.mean()}\")\n",
    "\n",
    "print(f\"The accuracy of the model on the test set is {np.mean(y_test == logreg3.predict(X_test))}\")\n",
    "\n",
    "logreg3_pred_proba = logreg3.predict_proba(X_test)[:,1]\n",
    "\n",
    "tn, fp, fn, tp = metrics.confusion_matrix(y_true = y_test, y_pred = logreg3_pred_proba > .5).ravel()\n",
    "(tn, fp, fn, tp)"
   ]
  },
  {
   "cell_type": "markdown",
   "metadata": {},
   "source": [
    "Even though the HU feature best maps to a logistic regression distribution, the model performed much better when the other columns were also considered. With only HU, it consistently does not even match the accuracy of the majority case \"null\" model.\n",
    "\n",
    "Given the high dependence among HU, TotalFindings, and PIR, would the model work better if it only considered one of these features?"
   ]
  },
  {
   "cell_type": "markdown",
   "metadata": {},
   "source": [
    "***Logistic Regression with Four Feature Columns***"
   ]
  },
  {
   "cell_type": "code",
   "execution_count": 405,
   "metadata": {},
   "outputs": [
    {
     "name": "stdout",
     "output_type": "stream",
     "text": [
      "The baseline accuracy is 0.6555891238670695\n",
      "The accuracy of the model on the test set is 0.6832579185520362\n"
     ]
    },
    {
     "data": {
      "text/plain": [
       "(127, 18, 52, 24)"
      ]
     },
     "execution_count": 405,
     "metadata": {},
     "output_type": "execute_result"
    }
   ],
   "source": [
    "feature_cols = [\"ENCount\", \"ScramCount\", \"TotalFindings\", \"SSFF\"]\n",
    "X = df[feature_cols]\n",
    "y = df[\"AM_Movement\"]\n",
    "\n",
    "X_train, X_test, y_train, y_test = train_test_split(X,y)\n",
    "logreg4 = LogisticRegression()\n",
    "logreg4.fit(X_train, y_train)\n",
    "\n",
    "print(f\"The baseline accuracy is {1-y_train.mean()}\")\n",
    "\n",
    "print(f\"The accuracy of the model on the test set is {np.mean(y_test == logreg4.predict(X_test))}\")\n",
    "\n",
    "logreg4_pred_proba = logreg4.predict_proba(X_test)[:,1]\n",
    "\n",
    "tn, fp, fn, tp = metrics.confusion_matrix(y_true = y_test, y_pred = logreg4_pred_proba > .5).ravel()\n",
    "(tn, fp, fn, tp)"
   ]
  },
  {
   "cell_type": "markdown",
   "metadata": {},
   "source": [
    "This is an improvement over just using HU. To get a better idea of its effectiveness compared to the model using all the feature columns, we'll run a cross-validation with 10 splits on the model with 4 feature columns."
   ]
  },
  {
   "cell_type": "code",
   "execution_count": 406,
   "metadata": {},
   "outputs": [
    {
     "name": "stdout",
     "output_type": "stream",
     "text": [
      "0.7067415730337079\n"
     ]
    }
   ],
   "source": [
    "kf = model_selection.KFold(n_splits = 10, shuffle = True)\n",
    "\n",
    "feature_cols = [\"ENCount\",\"ScramCount\",\"TotalFindings\",\"SSFF\"]\n",
    "X = df[feature_cols]\n",
    "y = df[\"AM_Movement\"]\n",
    "\n",
    "acc = []\n",
    "\n",
    "n = 0\n",
    "for train_index, test_index in kf.split(X,y):\n",
    "    logreg5 = LogisticRegression()\n",
    "    logreg5.fit(X.iloc[train_index],y.iloc[train_index])\n",
    "        \n",
    "    acc.append(logreg5.score(X.iloc[test_index], y.iloc[test_index]))\n",
    "        \n",
    "    n+=1\n",
    "scorefit = np.mean(acc)\n",
    "\n",
    "print(scorefit)"
   ]
  },
  {
   "cell_type": "markdown",
   "metadata": {},
   "source": [
    "The score for using four feature columns is roughly the same as the score using six; it does not appear that any information was lost by dropping the HU and PIR columns."
   ]
  },
  {
   "cell_type": "markdown",
   "metadata": {},
   "source": [
    "# Random Forest"
   ]
  },
  {
   "cell_type": "markdown",
   "metadata": {},
   "source": [
    "A Random Forest model may allow us to both more easily correct for the unbalanced distribution of the target variable and get an idea for which features are most important in the classification.  A future exploration might then use this to better address known outliers."
   ]
  },
  {
   "cell_type": "code",
   "execution_count": 407,
   "metadata": {},
   "outputs": [],
   "source": [
    "from sklearn.ensemble import RandomForestClassifier\n",
    "from sklearn.model_selection import cross_val_score\n",
    "from sklearn.metrics import classification_report"
   ]
  },
  {
   "cell_type": "code",
   "execution_count": 408,
   "metadata": {},
   "outputs": [],
   "source": [
    "feature_cols = [\"ENCount\", \"ScramCount\", \"TotalFindings\", \"HU\", \"PIR\", \"SSFF\"]\n",
    "X = df[feature_cols]\n",
    "y = df[\"AM_Movement\"]\n",
    "\n",
    "X_train, X_test, y_train, y_test = train_test_split(X,y)\n"
   ]
  },
  {
   "cell_type": "code",
   "execution_count": 409,
   "metadata": {},
   "outputs": [
    {
     "data": {
      "text/plain": [
       "0    432\n",
       "1    230\n",
       "Name: AM_Movement, dtype: int64"
      ]
     },
     "execution_count": 409,
     "metadata": {},
     "output_type": "execute_result"
    }
   ],
   "source": [
    "#handle the unbalanced distribution for the target variable\n",
    "y_train.value_counts()"
   ]
  },
  {
   "cell_type": "code",
   "execution_count": 410,
   "metadata": {},
   "outputs": [],
   "source": [
    "imbalance = y_train.value_counts().loc[0]/y_train.value_counts().loc[1]\n",
    "weight = int(round(imbalance))\n",
    "\n",
    "class_wgt = {1:weight, 0:1}"
   ]
  },
  {
   "cell_type": "code",
   "execution_count": 411,
   "metadata": {},
   "outputs": [
    {
     "data": {
      "text/plain": [
       "RandomForestClassifier(bootstrap=True, class_weight={1: 2, 0: 1},\n",
       "            criterion='gini', max_depth=None, max_features=5,\n",
       "            max_leaf_nodes=None, min_impurity_decrease=0.0,\n",
       "            min_impurity_split=None, min_samples_leaf=1,\n",
       "            min_samples_split=2, min_weight_fraction_leaf=0.0,\n",
       "            n_estimators=150, n_jobs=1, oob_score=True, random_state=1,\n",
       "            verbose=0, warm_start=False)"
      ]
     },
     "execution_count": 411,
     "metadata": {},
     "output_type": "execute_result"
    }
   ],
   "source": [
    "rf = RandomForestClassifier(n_estimators = 150, max_features = 5, oob_score = True, random_state = 1, class_weight = class_wgt)\n",
    "\n",
    "rf.fit(X_train, y_train)"
   ]
  },
  {
   "cell_type": "code",
   "execution_count": 412,
   "metadata": {},
   "outputs": [
    {
     "data": {
      "text/html": [
       "<div>\n",
       "<style scoped>\n",
       "    .dataframe tbody tr th:only-of-type {\n",
       "        vertical-align: middle;\n",
       "    }\n",
       "\n",
       "    .dataframe tbody tr th {\n",
       "        vertical-align: top;\n",
       "    }\n",
       "\n",
       "    .dataframe thead th {\n",
       "        text-align: right;\n",
       "    }\n",
       "</style>\n",
       "<table border=\"1\" class=\"dataframe\">\n",
       "  <thead>\n",
       "    <tr style=\"text-align: right;\">\n",
       "      <th></th>\n",
       "      <th>feature</th>\n",
       "      <th>importance</th>\n",
       "    </tr>\n",
       "  </thead>\n",
       "  <tbody>\n",
       "    <tr>\n",
       "      <th>0</th>\n",
       "      <td>ENCount</td>\n",
       "      <td>0.234677</td>\n",
       "    </tr>\n",
       "    <tr>\n",
       "      <th>2</th>\n",
       "      <td>TotalFindings</td>\n",
       "      <td>0.233757</td>\n",
       "    </tr>\n",
       "    <tr>\n",
       "      <th>3</th>\n",
       "      <td>HU</td>\n",
       "      <td>0.189854</td>\n",
       "    </tr>\n",
       "    <tr>\n",
       "      <th>4</th>\n",
       "      <td>PIR</td>\n",
       "      <td>0.134309</td>\n",
       "    </tr>\n",
       "    <tr>\n",
       "      <th>5</th>\n",
       "      <td>SSFF</td>\n",
       "      <td>0.111677</td>\n",
       "    </tr>\n",
       "    <tr>\n",
       "      <th>1</th>\n",
       "      <td>ScramCount</td>\n",
       "      <td>0.095726</td>\n",
       "    </tr>\n",
       "  </tbody>\n",
       "</table>\n",
       "</div>"
      ],
      "text/plain": [
       "         feature  importance\n",
       "0        ENCount    0.234677\n",
       "2  TotalFindings    0.233757\n",
       "3             HU    0.189854\n",
       "4            PIR    0.134309\n",
       "5           SSFF    0.111677\n",
       "1     ScramCount    0.095726"
      ]
     },
     "execution_count": 412,
     "metadata": {},
     "output_type": "execute_result"
    }
   ],
   "source": [
    "pd.DataFrame({\"feature\": X_train.columns.values, \n",
    "              \"importance\": rf.feature_importances_}).sort_values(by =\"importance\", ascending = False)"
   ]
  },
  {
   "cell_type": "code",
   "execution_count": 413,
   "metadata": {},
   "outputs": [
    {
     "name": "stdout",
     "output_type": "stream",
     "text": [
      "OOB accuracy score =  0.676737160120846\n",
      "Training data accuracy =  0.9969788519637462\n",
      "Testing data accuracy =  0.6470588235294118\n"
     ]
    }
   ],
   "source": [
    "print(\"OOB accuracy score = \" , rf.oob_score_)\n",
    "print(\"Training data accuracy = \" , rf.score(X_train, y_train))\n",
    "print(\"Testing data accuracy = \" , rf.score(X_test, y_test))"
   ]
  },
  {
   "cell_type": "markdown",
   "metadata": {},
   "source": [
    "This model clearly suffers from over-fitting. Examine what happens from first reducing max_features, and then reducing the number of features considered."
   ]
  },
  {
   "cell_type": "markdown",
   "metadata": {},
   "source": [
    "***Random Forest: Reduce max_features to Three***"
   ]
  },
  {
   "cell_type": "code",
   "execution_count": 414,
   "metadata": {},
   "outputs": [
    {
     "name": "stdout",
     "output_type": "stream",
     "text": [
      "OOB accuracy score =  0.6601208459214502\n",
      "Training data accuracy =  0.9969788519637462\n",
      "Testing data accuracy =  0.6470588235294118\n"
     ]
    },
    {
     "data": {
      "text/html": [
       "<div>\n",
       "<style scoped>\n",
       "    .dataframe tbody tr th:only-of-type {\n",
       "        vertical-align: middle;\n",
       "    }\n",
       "\n",
       "    .dataframe tbody tr th {\n",
       "        vertical-align: top;\n",
       "    }\n",
       "\n",
       "    .dataframe thead th {\n",
       "        text-align: right;\n",
       "    }\n",
       "</style>\n",
       "<table border=\"1\" class=\"dataframe\">\n",
       "  <thead>\n",
       "    <tr style=\"text-align: right;\">\n",
       "      <th></th>\n",
       "      <th>feature</th>\n",
       "      <th>importance</th>\n",
       "    </tr>\n",
       "  </thead>\n",
       "  <tbody>\n",
       "    <tr>\n",
       "      <th>2</th>\n",
       "      <td>TotalFindings</td>\n",
       "      <td>0.247191</td>\n",
       "    </tr>\n",
       "    <tr>\n",
       "      <th>0</th>\n",
       "      <td>ENCount</td>\n",
       "      <td>0.203558</td>\n",
       "    </tr>\n",
       "    <tr>\n",
       "      <th>3</th>\n",
       "      <td>HU</td>\n",
       "      <td>0.189992</td>\n",
       "    </tr>\n",
       "    <tr>\n",
       "      <th>4</th>\n",
       "      <td>PIR</td>\n",
       "      <td>0.142948</td>\n",
       "    </tr>\n",
       "    <tr>\n",
       "      <th>5</th>\n",
       "      <td>SSFF</td>\n",
       "      <td>0.124290</td>\n",
       "    </tr>\n",
       "    <tr>\n",
       "      <th>1</th>\n",
       "      <td>ScramCount</td>\n",
       "      <td>0.092022</td>\n",
       "    </tr>\n",
       "  </tbody>\n",
       "</table>\n",
       "</div>"
      ],
      "text/plain": [
       "         feature  importance\n",
       "2  TotalFindings    0.247191\n",
       "0        ENCount    0.203558\n",
       "3             HU    0.189992\n",
       "4            PIR    0.142948\n",
       "5           SSFF    0.124290\n",
       "1     ScramCount    0.092022"
      ]
     },
     "execution_count": 414,
     "metadata": {},
     "output_type": "execute_result"
    }
   ],
   "source": [
    "feature_cols = [\"ENCount\", \"ScramCount\", \"TotalFindings\", \"HU\", \"PIR\", \"SSFF\"]\n",
    "X = df[feature_cols]\n",
    "y = df[\"AM_Movement\"]\n",
    "\n",
    "X_train, X_test, y_train, y_test = train_test_split(X,y)\n",
    "\n",
    "imbalance = y_train.value_counts().loc[0]/y_train.value_counts().loc[1]\n",
    "weight = int(round(imbalance))\n",
    "\n",
    "class_wgt = {1:weight, 0:1}\n",
    "\n",
    "rf2 = RandomForestClassifier(n_estimators = 150, max_features = 3, oob_score = True, random_state = 1, class_weight = class_wgt)\n",
    "\n",
    "rf2.fit(X_train, y_train)\n",
    "\n",
    "print(\"OOB accuracy score = \" , rf2.oob_score_)\n",
    "print(\"Training data accuracy = \" , rf2.score(X_train, y_train))\n",
    "print(\"Testing data accuracy = \" , rf2.score(X_test, y_test))\n",
    "\n",
    "pd.DataFrame({\"feature\": X_train.columns.values, \n",
    "              \"importance\": rf2.feature_importances_}).sort_values(by =\"importance\", ascending = False)"
   ]
  },
  {
   "cell_type": "markdown",
   "metadata": {},
   "source": [
    "Reducing max_features didn't address the over-fitting issue.  Let's see what happens when we limit the features considered to just the top three.   "
   ]
  },
  {
   "cell_type": "markdown",
   "metadata": {},
   "source": [
    "***Random Forest with Three Feature Columns**"
   ]
  },
  {
   "cell_type": "code",
   "execution_count": 415,
   "metadata": {},
   "outputs": [
    {
     "name": "stdout",
     "output_type": "stream",
     "text": [
      "OOB accuracy score =  0.5845921450151057\n",
      "Training data accuracy =  0.945619335347432\n",
      "Testing data accuracy =  0.6018099547511312\n"
     ]
    },
    {
     "data": {
      "text/html": [
       "<div>\n",
       "<style scoped>\n",
       "    .dataframe tbody tr th:only-of-type {\n",
       "        vertical-align: middle;\n",
       "    }\n",
       "\n",
       "    .dataframe tbody tr th {\n",
       "        vertical-align: top;\n",
       "    }\n",
       "\n",
       "    .dataframe thead th {\n",
       "        text-align: right;\n",
       "    }\n",
       "</style>\n",
       "<table border=\"1\" class=\"dataframe\">\n",
       "  <thead>\n",
       "    <tr style=\"text-align: right;\">\n",
       "      <th></th>\n",
       "      <th>feature</th>\n",
       "      <th>importance</th>\n",
       "    </tr>\n",
       "  </thead>\n",
       "  <tbody>\n",
       "    <tr>\n",
       "      <th>1</th>\n",
       "      <td>TotalFindings</td>\n",
       "      <td>0.356741</td>\n",
       "    </tr>\n",
       "    <tr>\n",
       "      <th>0</th>\n",
       "      <td>ENCount</td>\n",
       "      <td>0.327969</td>\n",
       "    </tr>\n",
       "    <tr>\n",
       "      <th>2</th>\n",
       "      <td>HU</td>\n",
       "      <td>0.315290</td>\n",
       "    </tr>\n",
       "  </tbody>\n",
       "</table>\n",
       "</div>"
      ],
      "text/plain": [
       "         feature  importance\n",
       "1  TotalFindings    0.356741\n",
       "0        ENCount    0.327969\n",
       "2             HU    0.315290"
      ]
     },
     "execution_count": 415,
     "metadata": {},
     "output_type": "execute_result"
    }
   ],
   "source": [
    "feature_cols = [\"ENCount\", \"TotalFindings\", \"HU\"]\n",
    "X = df[feature_cols]\n",
    "y = df[\"AM_Movement\"]\n",
    "\n",
    "X_train, X_test, y_train, y_test = train_test_split(X,y)\n",
    "\n",
    "imbalance = y_train.value_counts().loc[0]/y_train.value_counts().loc[1]\n",
    "weight = int(round(imbalance))\n",
    "\n",
    "class_wgt = {1:weight, 0:1}\n",
    "\n",
    "rf3 = RandomForestClassifier(n_estimators = 150, max_features = 3, oob_score = True, random_state = 1, class_weight = class_wgt)\n",
    "\n",
    "rf3.fit(X_train, y_train)\n",
    "\n",
    "print(\"OOB accuracy score = \" , rf3.oob_score_)\n",
    "print(\"Training data accuracy = \" , rf3.score(X_train, y_train))\n",
    "print(\"Testing data accuracy = \" , rf3.score(X_test, y_test))\n",
    "\n",
    "pd.DataFrame({\"feature\": X_train.columns.values, \n",
    "              \"importance\": rf3.feature_importances_}).sort_values(by =\"importance\", ascending = False)"
   ]
  },
  {
   "cell_type": "markdown",
   "metadata": {},
   "source": [
    "This reduced the over-fitting issue, but at the expense of reducing the overall accuracy.  The final look will examine whether it's possible to better tune the hyperparameters."
   ]
  },
  {
   "cell_type": "markdown",
   "metadata": {},
   "source": [
    "***Random Forest: Tune Hyperparameters***"
   ]
  },
  {
   "cell_type": "code",
   "execution_count": 416,
   "metadata": {},
   "outputs": [],
   "source": [
    "from sklearn.model_selection import RandomizedSearchCV"
   ]
  },
  {
   "cell_type": "code",
   "execution_count": 417,
   "metadata": {},
   "outputs": [
    {
     "name": "stdout",
     "output_type": "stream",
     "text": [
      "Fitting 2 folds for each of 50 candidates, totalling 100 fits\n"
     ]
    },
    {
     "name": "stderr",
     "output_type": "stream",
     "text": [
      "[Parallel(n_jobs=-1)]: Done   5 tasks      | elapsed:    7.0s\n",
      "[Parallel(n_jobs=-1)]: Done  10 tasks      | elapsed:    7.2s\n",
      "[Parallel(n_jobs=-1)]: Done  17 tasks      | elapsed:    7.5s\n",
      "[Parallel(n_jobs=-1)]: Done  24 tasks      | elapsed:    8.0s\n",
      "[Parallel(n_jobs=-1)]: Done  33 tasks      | elapsed:    8.6s\n",
      "[Parallel(n_jobs=-1)]: Done  42 tasks      | elapsed:    9.3s\n",
      "[Parallel(n_jobs=-1)]: Done  53 tasks      | elapsed:   10.4s\n",
      "[Parallel(n_jobs=-1)]: Done  64 tasks      | elapsed:   12.3s\n",
      "[Parallel(n_jobs=-1)]: Done  77 tasks      | elapsed:   14.8s\n",
      "[Parallel(n_jobs=-1)]: Done  90 tasks      | elapsed:   15.8s\n",
      "[Parallel(n_jobs=-1)]: Done 100 out of 100 | elapsed:   16.6s finished\n"
     ]
    },
    {
     "data": {
      "text/plain": [
       "{'n_estimators': 200,\n",
       " 'min_samples_split': 5,\n",
       " 'min_samples_leaf': 4,\n",
       " 'max_features': 'sqrt',\n",
       " 'max_depth': 3,\n",
       " 'bootstrap': True}"
      ]
     },
     "execution_count": 417,
     "metadata": {},
     "output_type": "execute_result"
    }
   ],
   "source": [
    "feature_cols = [\"ENCount\", \"ScramCount\", \"TotalFindings\", \"HU\", \"PIR\", \"SSFF\"]\n",
    "X = df[feature_cols]\n",
    "y = df[\"AM_Movement\"]\n",
    "\n",
    "X_train, X_test, y_train, y_test = train_test_split(X,y)\n",
    "\n",
    "n_estimators = [int(x) for x in np.linspace(start = 10, stop = 200, num = 5)]\n",
    "max_features = [\"auto\", \"sqrt\"]\n",
    "max_depth = [int(x) for x in np.linspace(3,20, num = 5)]\n",
    "min_samples_split = [2,5,10]\n",
    "min_samples_leaf = [1,2,4]\n",
    "bootstrap = [True, False]\n",
    "\n",
    "random_grid = {\"n_estimators\":n_estimators,\n",
    "              \"max_features\":max_features,\n",
    "              \"max_depth\":max_depth,\n",
    "              \"min_samples_split\":min_samples_split,\n",
    "              \"min_samples_leaf\":min_samples_leaf,\n",
    "              \"bootstrap\":bootstrap}\n",
    "\n",
    "rf4 = RandomForestClassifier()\n",
    "\n",
    "rf4_random = RandomizedSearchCV(estimator = rf4, n_jobs = -1, \n",
    "                              param_distributions = random_grid,\n",
    "                              n_iter = 50, cv = 2, verbose = 10, scoring = \"accuracy\")\n",
    "\n",
    "rf4_random.fit(X_train, y_train)\n",
    "\n",
    "rf4_random.best_params_"
   ]
  },
  {
   "cell_type": "code",
   "execution_count": 418,
   "metadata": {},
   "outputs": [
    {
     "name": "stdout",
     "output_type": "stream",
     "text": [
      "Accuracy Score = 0.64\n"
     ]
    }
   ],
   "source": [
    "imbalance = y_train.value_counts().loc[0]/y_train.value_counts().loc[1]\n",
    "weight = int(round(imbalance))\n",
    "\n",
    "class_wgt = {1:weight, 0:1}\n",
    "\n",
    "rf5 = RandomForestClassifier(**rf4_random.best_params_, class_weight = class_wgt)\n",
    "\n",
    "rf5.fit(X_train, y_train)\n",
    "y_pred = rf5.predict(X_test)\n",
    "\n",
    "print(\"Accuracy Score = %.2f\" %metrics.accuracy_score(y_test, y_pred))"
   ]
  },
  {
   "cell_type": "markdown",
   "metadata": {},
   "source": [
    "The random forest does not appear to be a great model for this data."
   ]
  },
  {
   "cell_type": "markdown",
   "metadata": {},
   "source": [
    "# Conclusion"
   ]
  },
  {
   "cell_type": "markdown",
   "metadata": {},
   "source": [
    "The feature columns with the data provided do not seem to provide the information necessary to reliably predict plant performance as determined by \"Column #,\" at least at the fundamental level used in the application of three different classification models here. \n",
    "\n",
    "*Possible Considerations Going Forward*\n",
    "\n",
    "There are known outliers in the data where the inputs are known to be unrelated to current overall performance.  Using business-case-specific knowledge, some of these outliers could be replaced with more representative values.\n",
    "\n",
    "Applying a cluster model may reveal that the classifications assigned by the program are inadequate - perhaps 6 or 8 classifications,particularly if they picked out differences in performance among the Column 1 plants - would improve performance among some of the models used above.\n",
    "\n",
    "In a similar vein, there are gradations within the feature columns - some ENs or Scrams or Findings are more reflective of potential developing problems than others.  If the feature columns were further broken out to capture this data, it might help better distinguish plants with poorer performance.  This would require significant interface with those knowledgeable with the underlying issues captured by the data.\n",
    "\n",
    "There are underlying trends influencing all of the data over time that are not necessarily reflective of overall performance.  Subtracting out the times-series trend contribution would allow for better apples-to-apples comparison across time of each of the parameters and could improve model performance.  \n"
   ]
  },
  {
   "cell_type": "code",
   "execution_count": null,
   "metadata": {},
   "outputs": [],
   "source": []
  }
 ],
 "metadata": {
  "kernelspec": {
   "display_name": "Python 3",
   "language": "python",
   "name": "python3"
  },
  "language_info": {
   "codemirror_mode": {
    "name": "ipython",
    "version": 3
   },
   "file_extension": ".py",
   "mimetype": "text/x-python",
   "name": "python",
   "nbconvert_exporter": "python",
   "pygments_lexer": "ipython3",
   "version": "3.7.0"
  }
 },
 "nbformat": 4,
 "nbformat_minor": 2
}
