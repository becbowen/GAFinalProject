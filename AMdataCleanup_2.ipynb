{
 "cells": [
  {
   "cell_type": "code",
   "execution_count": 85,
   "metadata": {},
   "outputs": [],
   "source": [
    "import pandas as pd\n",
    "import numpy as np\n",
    "import seaborn as sns\n",
    "import matplotlib.pyplot as plt\n",
    "\n",
    "%matplotlib inline"
   ]
  },
  {
   "cell_type": "code",
   "execution_count": 86,
   "metadata": {},
   "outputs": [],
   "source": [
    "#read in action matrix data\n",
    "am = pd.read_excel(\"AM_2006_2019.xlsx\")"
   ]
  },
  {
   "cell_type": "code",
   "execution_count": 87,
   "metadata": {},
   "outputs": [
    {
     "data": {
      "text/html": [
       "<div>\n",
       "<style scoped>\n",
       "    .dataframe tbody tr th:only-of-type {\n",
       "        vertical-align: middle;\n",
       "    }\n",
       "\n",
       "    .dataframe tbody tr th {\n",
       "        vertical-align: top;\n",
       "    }\n",
       "\n",
       "    .dataframe thead th {\n",
       "        text-align: right;\n",
       "    }\n",
       "</style>\n",
       "<table border=\"1\" class=\"dataframe\">\n",
       "  <thead>\n",
       "    <tr style=\"text-align: right;\">\n",
       "      <th></th>\n",
       "      <th>Unit</th>\n",
       "      <th>Column</th>\n",
       "      <th>Notes</th>\n",
       "      <th>Quarter</th>\n",
       "      <th>Year</th>\n",
       "      <th>Quarter.1</th>\n",
       "      <th>Region</th>\n",
       "      <th>Column #</th>\n",
       "    </tr>\n",
       "  </thead>\n",
       "  <tbody>\n",
       "    <tr>\n",
       "      <th>0</th>\n",
       "      <td>Arkansas Nuclear 1</td>\n",
       "      <td>Licensee Response Column</td>\n",
       "      <td>Baseline Inspection</td>\n",
       "      <td>2006Q1</td>\n",
       "      <td>2006</td>\n",
       "      <td>Q1</td>\n",
       "      <td>Region 4</td>\n",
       "      <td>1</td>\n",
       "    </tr>\n",
       "    <tr>\n",
       "      <th>1</th>\n",
       "      <td>Arkansas Nuclear 1</td>\n",
       "      <td>Licensee Response Column</td>\n",
       "      <td>Baseline Inspection</td>\n",
       "      <td>2006Q2</td>\n",
       "      <td>2006</td>\n",
       "      <td>Q2</td>\n",
       "      <td>Region 4</td>\n",
       "      <td>1</td>\n",
       "    </tr>\n",
       "    <tr>\n",
       "      <th>2</th>\n",
       "      <td>Arkansas Nuclear 1</td>\n",
       "      <td>Licensee Response Column</td>\n",
       "      <td>Baseline Inspection</td>\n",
       "      <td>2006Q3</td>\n",
       "      <td>2006</td>\n",
       "      <td>Q3</td>\n",
       "      <td>Region 4</td>\n",
       "      <td>1</td>\n",
       "    </tr>\n",
       "    <tr>\n",
       "      <th>3</th>\n",
       "      <td>Arkansas Nuclear 1</td>\n",
       "      <td>Licensee Response Column</td>\n",
       "      <td>Baseline Inspection</td>\n",
       "      <td>2006Q4</td>\n",
       "      <td>2006</td>\n",
       "      <td>Q4</td>\n",
       "      <td>Region 4</td>\n",
       "      <td>1</td>\n",
       "    </tr>\n",
       "    <tr>\n",
       "      <th>4</th>\n",
       "      <td>Arkansas Nuclear 1</td>\n",
       "      <td>Licensee Response Column</td>\n",
       "      <td>Baseline Inspection</td>\n",
       "      <td>2007Q1</td>\n",
       "      <td>2007</td>\n",
       "      <td>Q1</td>\n",
       "      <td>Region 4</td>\n",
       "      <td>1</td>\n",
       "    </tr>\n",
       "  </tbody>\n",
       "</table>\n",
       "</div>"
      ],
      "text/plain": [
       "                 Unit                    Column                Notes Quarter  \\\n",
       "0  Arkansas Nuclear 1  Licensee Response Column  Baseline Inspection  2006Q1   \n",
       "1  Arkansas Nuclear 1  Licensee Response Column  Baseline Inspection  2006Q2   \n",
       "2  Arkansas Nuclear 1  Licensee Response Column  Baseline Inspection  2006Q3   \n",
       "3  Arkansas Nuclear 1  Licensee Response Column  Baseline Inspection  2006Q4   \n",
       "4  Arkansas Nuclear 1  Licensee Response Column  Baseline Inspection  2007Q1   \n",
       "\n",
       "   Year Quarter.1    Region  Column #  \n",
       "0  2006        Q1  Region 4         1  \n",
       "1  2006        Q2  Region 4         1  \n",
       "2  2006        Q3  Region 4         1  \n",
       "3  2006        Q4  Region 4         1  \n",
       "4  2007        Q1  Region 4         1  "
      ]
     },
     "execution_count": 87,
     "metadata": {},
     "output_type": "execute_result"
    }
   ],
   "source": [
    "am.head()"
   ]
  },
  {
   "cell_type": "code",
   "execution_count": 88,
   "metadata": {},
   "outputs": [],
   "source": [
    "#simplify AM data to necessary columns\n",
    "am = am[[\"Unit\",\"Quarter\",\"Year\",\"Column #\"]]"
   ]
  },
  {
   "cell_type": "code",
   "execution_count": 89,
   "metadata": {},
   "outputs": [
    {
     "data": {
      "text/html": [
       "<div>\n",
       "<style scoped>\n",
       "    .dataframe tbody tr th:only-of-type {\n",
       "        vertical-align: middle;\n",
       "    }\n",
       "\n",
       "    .dataframe tbody tr th {\n",
       "        vertical-align: top;\n",
       "    }\n",
       "\n",
       "    .dataframe thead th {\n",
       "        text-align: right;\n",
       "    }\n",
       "</style>\n",
       "<table border=\"1\" class=\"dataframe\">\n",
       "  <thead>\n",
       "    <tr style=\"text-align: right;\">\n",
       "      <th></th>\n",
       "      <th>Unit</th>\n",
       "      <th>Quarter</th>\n",
       "      <th>Year</th>\n",
       "      <th>Column #</th>\n",
       "    </tr>\n",
       "  </thead>\n",
       "  <tbody>\n",
       "    <tr>\n",
       "      <th>0</th>\n",
       "      <td>Arkansas Nuclear 1</td>\n",
       "      <td>2006Q1</td>\n",
       "      <td>2006</td>\n",
       "      <td>1</td>\n",
       "    </tr>\n",
       "    <tr>\n",
       "      <th>1</th>\n",
       "      <td>Arkansas Nuclear 1</td>\n",
       "      <td>2006Q2</td>\n",
       "      <td>2006</td>\n",
       "      <td>1</td>\n",
       "    </tr>\n",
       "    <tr>\n",
       "      <th>2</th>\n",
       "      <td>Arkansas Nuclear 1</td>\n",
       "      <td>2006Q3</td>\n",
       "      <td>2006</td>\n",
       "      <td>1</td>\n",
       "    </tr>\n",
       "    <tr>\n",
       "      <th>3</th>\n",
       "      <td>Arkansas Nuclear 1</td>\n",
       "      <td>2006Q4</td>\n",
       "      <td>2006</td>\n",
       "      <td>1</td>\n",
       "    </tr>\n",
       "    <tr>\n",
       "      <th>4</th>\n",
       "      <td>Arkansas Nuclear 1</td>\n",
       "      <td>2007Q1</td>\n",
       "      <td>2007</td>\n",
       "      <td>1</td>\n",
       "    </tr>\n",
       "  </tbody>\n",
       "</table>\n",
       "</div>"
      ],
      "text/plain": [
       "                 Unit Quarter  Year  Column #\n",
       "0  Arkansas Nuclear 1  2006Q1  2006         1\n",
       "1  Arkansas Nuclear 1  2006Q2  2006         1\n",
       "2  Arkansas Nuclear 1  2006Q3  2006         1\n",
       "3  Arkansas Nuclear 1  2006Q4  2006         1\n",
       "4  Arkansas Nuclear 1  2007Q1  2007         1"
      ]
     },
     "execution_count": 89,
     "metadata": {},
     "output_type": "execute_result"
    }
   ],
   "source": [
    "am.head()"
   ]
  },
  {
   "cell_type": "code",
   "execution_count": 90,
   "metadata": {},
   "outputs": [],
   "source": [
    "#read in spreadsheet matching units to standardized site names\n",
    "convert = pd.read_excel(\"plantsToSites.xlsx\")"
   ]
  },
  {
   "cell_type": "code",
   "execution_count": 91,
   "metadata": {},
   "outputs": [
    {
     "data": {
      "text/html": [
       "<div>\n",
       "<style scoped>\n",
       "    .dataframe tbody tr th:only-of-type {\n",
       "        vertical-align: middle;\n",
       "    }\n",
       "\n",
       "    .dataframe tbody tr th {\n",
       "        vertical-align: top;\n",
       "    }\n",
       "\n",
       "    .dataframe thead th {\n",
       "        text-align: right;\n",
       "    }\n",
       "</style>\n",
       "<table border=\"1\" class=\"dataframe\">\n",
       "  <thead>\n",
       "    <tr style=\"text-align: right;\">\n",
       "      <th></th>\n",
       "      <th>Plant</th>\n",
       "      <th>Site</th>\n",
       "    </tr>\n",
       "  </thead>\n",
       "  <tbody>\n",
       "    <tr>\n",
       "      <th>0</th>\n",
       "      <td>Arkansas Nuclear 1</td>\n",
       "      <td>ARKANSAS NUCLEAR ONE</td>\n",
       "    </tr>\n",
       "    <tr>\n",
       "      <th>1</th>\n",
       "      <td>Arkansas Nuclear 2</td>\n",
       "      <td>ARKANSAS NUCLEAR ONE</td>\n",
       "    </tr>\n",
       "    <tr>\n",
       "      <th>2</th>\n",
       "      <td>Beaver Valley 1</td>\n",
       "      <td>BEAVER VALLEY</td>\n",
       "    </tr>\n",
       "    <tr>\n",
       "      <th>3</th>\n",
       "      <td>Beaver Valley 2</td>\n",
       "      <td>BEAVER VALLEY</td>\n",
       "    </tr>\n",
       "    <tr>\n",
       "      <th>4</th>\n",
       "      <td>Braidwood 1</td>\n",
       "      <td>BRAIDWOOD</td>\n",
       "    </tr>\n",
       "  </tbody>\n",
       "</table>\n",
       "</div>"
      ],
      "text/plain": [
       "                Plant                  Site\n",
       "0  Arkansas Nuclear 1  ARKANSAS NUCLEAR ONE\n",
       "1  Arkansas Nuclear 2  ARKANSAS NUCLEAR ONE\n",
       "2     Beaver Valley 1         BEAVER VALLEY\n",
       "3     Beaver Valley 2         BEAVER VALLEY\n",
       "4         Braidwood 1             BRAIDWOOD"
      ]
     },
     "execution_count": 91,
     "metadata": {},
     "output_type": "execute_result"
    }
   ],
   "source": [
    "convert.head()"
   ]
  },
  {
   "cell_type": "code",
   "execution_count": 92,
   "metadata": {},
   "outputs": [],
   "source": [
    "#make this a dictionary \n",
    "site_dict = convert.set_index('Plant')['Site'].to_dict()"
   ]
  },
  {
   "cell_type": "code",
   "execution_count": 93,
   "metadata": {},
   "outputs": [],
   "source": [
    "#apply the unit-site conversion dictionary site_dict to the am_dataframe to get a column by site\n",
    "am['Site']= am['Unit'].map(site_dict)"
   ]
  },
  {
   "cell_type": "code",
   "execution_count": 94,
   "metadata": {},
   "outputs": [
    {
     "data": {
      "text/html": [
       "<div>\n",
       "<style scoped>\n",
       "    .dataframe tbody tr th:only-of-type {\n",
       "        vertical-align: middle;\n",
       "    }\n",
       "\n",
       "    .dataframe tbody tr th {\n",
       "        vertical-align: top;\n",
       "    }\n",
       "\n",
       "    .dataframe thead th {\n",
       "        text-align: right;\n",
       "    }\n",
       "</style>\n",
       "<table border=\"1\" class=\"dataframe\">\n",
       "  <thead>\n",
       "    <tr style=\"text-align: right;\">\n",
       "      <th></th>\n",
       "      <th>Unit</th>\n",
       "      <th>Quarter</th>\n",
       "      <th>Year</th>\n",
       "      <th>Column #</th>\n",
       "      <th>Site</th>\n",
       "    </tr>\n",
       "  </thead>\n",
       "  <tbody>\n",
       "    <tr>\n",
       "      <th>0</th>\n",
       "      <td>Arkansas Nuclear 1</td>\n",
       "      <td>2006Q1</td>\n",
       "      <td>2006</td>\n",
       "      <td>1</td>\n",
       "      <td>ARKANSAS NUCLEAR ONE</td>\n",
       "    </tr>\n",
       "    <tr>\n",
       "      <th>1</th>\n",
       "      <td>Arkansas Nuclear 1</td>\n",
       "      <td>2006Q2</td>\n",
       "      <td>2006</td>\n",
       "      <td>1</td>\n",
       "      <td>ARKANSAS NUCLEAR ONE</td>\n",
       "    </tr>\n",
       "    <tr>\n",
       "      <th>2</th>\n",
       "      <td>Arkansas Nuclear 1</td>\n",
       "      <td>2006Q3</td>\n",
       "      <td>2006</td>\n",
       "      <td>1</td>\n",
       "      <td>ARKANSAS NUCLEAR ONE</td>\n",
       "    </tr>\n",
       "    <tr>\n",
       "      <th>3</th>\n",
       "      <td>Arkansas Nuclear 1</td>\n",
       "      <td>2006Q4</td>\n",
       "      <td>2006</td>\n",
       "      <td>1</td>\n",
       "      <td>ARKANSAS NUCLEAR ONE</td>\n",
       "    </tr>\n",
       "    <tr>\n",
       "      <th>4</th>\n",
       "      <td>Arkansas Nuclear 1</td>\n",
       "      <td>2007Q1</td>\n",
       "      <td>2007</td>\n",
       "      <td>1</td>\n",
       "      <td>ARKANSAS NUCLEAR ONE</td>\n",
       "    </tr>\n",
       "  </tbody>\n",
       "</table>\n",
       "</div>"
      ],
      "text/plain": [
       "                 Unit Quarter  Year  Column #                  Site\n",
       "0  Arkansas Nuclear 1  2006Q1  2006         1  ARKANSAS NUCLEAR ONE\n",
       "1  Arkansas Nuclear 1  2006Q2  2006         1  ARKANSAS NUCLEAR ONE\n",
       "2  Arkansas Nuclear 1  2006Q3  2006         1  ARKANSAS NUCLEAR ONE\n",
       "3  Arkansas Nuclear 1  2006Q4  2006         1  ARKANSAS NUCLEAR ONE\n",
       "4  Arkansas Nuclear 1  2007Q1  2007         1  ARKANSAS NUCLEAR ONE"
      ]
     },
     "execution_count": 94,
     "metadata": {},
     "output_type": "execute_result"
    }
   ],
   "source": [
    "am.head()"
   ]
  },
  {
   "cell_type": "code",
   "execution_count": 95,
   "metadata": {},
   "outputs": [],
   "source": [
    "#simplify the dataframe to be by site and eliminate unit\n",
    "am = am[[\"Site\", \"Quarter\", \"Year\", \"Column #\"]]"
   ]
  },
  {
   "cell_type": "code",
   "execution_count": 96,
   "metadata": {},
   "outputs": [
    {
     "data": {
      "text/html": [
       "<div>\n",
       "<style scoped>\n",
       "    .dataframe tbody tr th:only-of-type {\n",
       "        vertical-align: middle;\n",
       "    }\n",
       "\n",
       "    .dataframe tbody tr th {\n",
       "        vertical-align: top;\n",
       "    }\n",
       "\n",
       "    .dataframe thead th {\n",
       "        text-align: right;\n",
       "    }\n",
       "</style>\n",
       "<table border=\"1\" class=\"dataframe\">\n",
       "  <thead>\n",
       "    <tr style=\"text-align: right;\">\n",
       "      <th></th>\n",
       "      <th>Site</th>\n",
       "      <th>Quarter</th>\n",
       "      <th>Year</th>\n",
       "      <th>Column #</th>\n",
       "    </tr>\n",
       "  </thead>\n",
       "  <tbody>\n",
       "    <tr>\n",
       "      <th>0</th>\n",
       "      <td>ARKANSAS NUCLEAR ONE</td>\n",
       "      <td>2006Q1</td>\n",
       "      <td>2006</td>\n",
       "      <td>1</td>\n",
       "    </tr>\n",
       "    <tr>\n",
       "      <th>1</th>\n",
       "      <td>ARKANSAS NUCLEAR ONE</td>\n",
       "      <td>2006Q2</td>\n",
       "      <td>2006</td>\n",
       "      <td>1</td>\n",
       "    </tr>\n",
       "    <tr>\n",
       "      <th>2</th>\n",
       "      <td>ARKANSAS NUCLEAR ONE</td>\n",
       "      <td>2006Q3</td>\n",
       "      <td>2006</td>\n",
       "      <td>1</td>\n",
       "    </tr>\n",
       "    <tr>\n",
       "      <th>3</th>\n",
       "      <td>ARKANSAS NUCLEAR ONE</td>\n",
       "      <td>2006Q4</td>\n",
       "      <td>2006</td>\n",
       "      <td>1</td>\n",
       "    </tr>\n",
       "    <tr>\n",
       "      <th>4</th>\n",
       "      <td>ARKANSAS NUCLEAR ONE</td>\n",
       "      <td>2007Q1</td>\n",
       "      <td>2007</td>\n",
       "      <td>1</td>\n",
       "    </tr>\n",
       "  </tbody>\n",
       "</table>\n",
       "</div>"
      ],
      "text/plain": [
       "                   Site Quarter  Year  Column #\n",
       "0  ARKANSAS NUCLEAR ONE  2006Q1  2006         1\n",
       "1  ARKANSAS NUCLEAR ONE  2006Q2  2006         1\n",
       "2  ARKANSAS NUCLEAR ONE  2006Q3  2006         1\n",
       "3  ARKANSAS NUCLEAR ONE  2006Q4  2006         1\n",
       "4  ARKANSAS NUCLEAR ONE  2007Q1  2007         1"
      ]
     },
     "execution_count": 96,
     "metadata": {},
     "output_type": "execute_result"
    }
   ],
   "source": [
    "am.head()"
   ]
  },
  {
   "cell_type": "code",
   "execution_count": 97,
   "metadata": {},
   "outputs": [],
   "source": [
    "#find the maximum action matrix column at a site in a given year\n",
    "am_final = am.groupby(by=['Site', 'Year']).max()[[\"Column #\"]].reset_index()"
   ]
  },
  {
   "cell_type": "code",
   "execution_count": 98,
   "metadata": {},
   "outputs": [
    {
     "data": {
      "text/html": [
       "<div>\n",
       "<style scoped>\n",
       "    .dataframe tbody tr th:only-of-type {\n",
       "        vertical-align: middle;\n",
       "    }\n",
       "\n",
       "    .dataframe tbody tr th {\n",
       "        vertical-align: top;\n",
       "    }\n",
       "\n",
       "    .dataframe thead th {\n",
       "        text-align: right;\n",
       "    }\n",
       "</style>\n",
       "<table border=\"1\" class=\"dataframe\">\n",
       "  <thead>\n",
       "    <tr style=\"text-align: right;\">\n",
       "      <th></th>\n",
       "      <th>Site</th>\n",
       "      <th>Year</th>\n",
       "      <th>Column #</th>\n",
       "    </tr>\n",
       "  </thead>\n",
       "  <tbody>\n",
       "    <tr>\n",
       "      <th>0</th>\n",
       "      <td>ARKANSAS NUCLEAR ONE</td>\n",
       "      <td>2006</td>\n",
       "      <td>1</td>\n",
       "    </tr>\n",
       "    <tr>\n",
       "      <th>1</th>\n",
       "      <td>ARKANSAS NUCLEAR ONE</td>\n",
       "      <td>2007</td>\n",
       "      <td>1</td>\n",
       "    </tr>\n",
       "    <tr>\n",
       "      <th>2</th>\n",
       "      <td>ARKANSAS NUCLEAR ONE</td>\n",
       "      <td>2008</td>\n",
       "      <td>1</td>\n",
       "    </tr>\n",
       "    <tr>\n",
       "      <th>3</th>\n",
       "      <td>ARKANSAS NUCLEAR ONE</td>\n",
       "      <td>2009</td>\n",
       "      <td>2</td>\n",
       "    </tr>\n",
       "    <tr>\n",
       "      <th>4</th>\n",
       "      <td>ARKANSAS NUCLEAR ONE</td>\n",
       "      <td>2010</td>\n",
       "      <td>1</td>\n",
       "    </tr>\n",
       "  </tbody>\n",
       "</table>\n",
       "</div>"
      ],
      "text/plain": [
       "                   Site  Year  Column #\n",
       "0  ARKANSAS NUCLEAR ONE  2006         1\n",
       "1  ARKANSAS NUCLEAR ONE  2007         1\n",
       "2  ARKANSAS NUCLEAR ONE  2008         1\n",
       "3  ARKANSAS NUCLEAR ONE  2009         2\n",
       "4  ARKANSAS NUCLEAR ONE  2010         1"
      ]
     },
     "execution_count": 98,
     "metadata": {},
     "output_type": "execute_result"
    }
   ],
   "source": [
    "am_final.head()"
   ]
  },
  {
   "cell_type": "code",
   "execution_count": 104,
   "metadata": {},
   "outputs": [
    {
     "data": {
      "text/plain": [
       "(883, 3)"
      ]
     },
     "execution_count": 104,
     "metadata": {},
     "output_type": "execute_result"
    }
   ],
   "source": [
    "#verify same number of rows as in data\n",
    "am_final.shape"
   ]
  },
  {
   "cell_type": "code",
   "execution_count": 107,
   "metadata": {},
   "outputs": [],
   "source": [
    "df1 = am_final.sort_values(by =['Site', 'Year'])"
   ]
  },
  {
   "cell_type": "code",
   "execution_count": 108,
   "metadata": {},
   "outputs": [],
   "source": [
    "df1.to_excel('am_data.xlsx')"
   ]
  },
  {
   "cell_type": "code",
   "execution_count": 109,
   "metadata": {},
   "outputs": [
    {
     "data": {
      "text/plain": [
       "(883, 3)"
      ]
     },
     "execution_count": 109,
     "metadata": {},
     "output_type": "execute_result"
    }
   ],
   "source": [
    "df1.shape"
   ]
  },
  {
   "cell_type": "code",
   "execution_count": 110,
   "metadata": {},
   "outputs": [],
   "source": [
    "#open the data.xlsx file and append the action matrix column # \n",
    "data = pd.read_excel(\"data.xlsx\")"
   ]
  },
  {
   "cell_type": "code",
   "execution_count": 112,
   "metadata": {},
   "outputs": [
    {
     "data": {
      "text/html": [
       "<div>\n",
       "<style scoped>\n",
       "    .dataframe tbody tr th:only-of-type {\n",
       "        vertical-align: middle;\n",
       "    }\n",
       "\n",
       "    .dataframe tbody tr th {\n",
       "        vertical-align: top;\n",
       "    }\n",
       "\n",
       "    .dataframe thead th {\n",
       "        text-align: right;\n",
       "    }\n",
       "</style>\n",
       "<table border=\"1\" class=\"dataframe\">\n",
       "  <thead>\n",
       "    <tr style=\"text-align: right;\">\n",
       "      <th></th>\n",
       "      <th>Unnamed: 0</th>\n",
       "      <th>SiteName</th>\n",
       "      <th>Year</th>\n",
       "      <th>ENCount</th>\n",
       "      <th>ScramCount</th>\n",
       "    </tr>\n",
       "  </thead>\n",
       "  <tbody>\n",
       "    <tr>\n",
       "      <th>0</th>\n",
       "      <td>0</td>\n",
       "      <td>ARKANSAS NUCLEAR ONE</td>\n",
       "      <td>2006</td>\n",
       "      <td>2</td>\n",
       "      <td>0</td>\n",
       "    </tr>\n",
       "    <tr>\n",
       "      <th>1</th>\n",
       "      <td>1</td>\n",
       "      <td>ARKANSAS NUCLEAR ONE</td>\n",
       "      <td>2007</td>\n",
       "      <td>2</td>\n",
       "      <td>1</td>\n",
       "    </tr>\n",
       "  </tbody>\n",
       "</table>\n",
       "</div>"
      ],
      "text/plain": [
       "   Unnamed: 0              SiteName  Year  ENCount  ScramCount\n",
       "0           0  ARKANSAS NUCLEAR ONE  2006        2           0\n",
       "1           1  ARKANSAS NUCLEAR ONE  2007        2           1"
      ]
     },
     "execution_count": 112,
     "metadata": {},
     "output_type": "execute_result"
    }
   ],
   "source": [
    "data.head(2)"
   ]
  },
  {
   "cell_type": "code",
   "execution_count": 113,
   "metadata": {},
   "outputs": [
    {
     "data": {
      "text/html": [
       "<div>\n",
       "<style scoped>\n",
       "    .dataframe tbody tr th:only-of-type {\n",
       "        vertical-align: middle;\n",
       "    }\n",
       "\n",
       "    .dataframe tbody tr th {\n",
       "        vertical-align: top;\n",
       "    }\n",
       "\n",
       "    .dataframe thead th {\n",
       "        text-align: right;\n",
       "    }\n",
       "</style>\n",
       "<table border=\"1\" class=\"dataframe\">\n",
       "  <thead>\n",
       "    <tr style=\"text-align: right;\">\n",
       "      <th></th>\n",
       "      <th>SiteName</th>\n",
       "      <th>Year</th>\n",
       "      <th>ENCount</th>\n",
       "      <th>ScramCount</th>\n",
       "    </tr>\n",
       "  </thead>\n",
       "  <tbody>\n",
       "    <tr>\n",
       "      <th>0</th>\n",
       "      <td>ARKANSAS NUCLEAR ONE</td>\n",
       "      <td>2006</td>\n",
       "      <td>2</td>\n",
       "      <td>0</td>\n",
       "    </tr>\n",
       "    <tr>\n",
       "      <th>1</th>\n",
       "      <td>ARKANSAS NUCLEAR ONE</td>\n",
       "      <td>2007</td>\n",
       "      <td>2</td>\n",
       "      <td>1</td>\n",
       "    </tr>\n",
       "  </tbody>\n",
       "</table>\n",
       "</div>"
      ],
      "text/plain": [
       "               SiteName  Year  ENCount  ScramCount\n",
       "0  ARKANSAS NUCLEAR ONE  2006        2           0\n",
       "1  ARKANSAS NUCLEAR ONE  2007        2           1"
      ]
     },
     "execution_count": 113,
     "metadata": {},
     "output_type": "execute_result"
    }
   ],
   "source": [
    "#eliminate unnecessary index column from data\n",
    "data = data[[\"SiteName\", \"Year\", \"ENCount\", \"ScramCount\"]]\n",
    "data.head(2)"
   ]
  },
  {
   "cell_type": "code",
   "execution_count": 120,
   "metadata": {},
   "outputs": [],
   "source": [
    "new_data = pd.merge(data, am_final, how='left', left_index=True, right_index=True, suffixes=(\"\", '_am'))"
   ]
  },
  {
   "cell_type": "code",
   "execution_count": 121,
   "metadata": {},
   "outputs": [
    {
     "data": {
      "text/html": [
       "<div>\n",
       "<style scoped>\n",
       "    .dataframe tbody tr th:only-of-type {\n",
       "        vertical-align: middle;\n",
       "    }\n",
       "\n",
       "    .dataframe tbody tr th {\n",
       "        vertical-align: top;\n",
       "    }\n",
       "\n",
       "    .dataframe thead th {\n",
       "        text-align: right;\n",
       "    }\n",
       "</style>\n",
       "<table border=\"1\" class=\"dataframe\">\n",
       "  <thead>\n",
       "    <tr style=\"text-align: right;\">\n",
       "      <th></th>\n",
       "      <th>SiteName</th>\n",
       "      <th>Year</th>\n",
       "      <th>ENCount</th>\n",
       "      <th>ScramCount</th>\n",
       "      <th>Site</th>\n",
       "      <th>Year_am</th>\n",
       "      <th>Column #</th>\n",
       "    </tr>\n",
       "  </thead>\n",
       "  <tbody>\n",
       "    <tr>\n",
       "      <th>0</th>\n",
       "      <td>ARKANSAS NUCLEAR ONE</td>\n",
       "      <td>2006</td>\n",
       "      <td>2</td>\n",
       "      <td>0</td>\n",
       "      <td>ARKANSAS NUCLEAR ONE</td>\n",
       "      <td>2006</td>\n",
       "      <td>1</td>\n",
       "    </tr>\n",
       "    <tr>\n",
       "      <th>1</th>\n",
       "      <td>ARKANSAS NUCLEAR ONE</td>\n",
       "      <td>2007</td>\n",
       "      <td>2</td>\n",
       "      <td>1</td>\n",
       "      <td>ARKANSAS NUCLEAR ONE</td>\n",
       "      <td>2007</td>\n",
       "      <td>1</td>\n",
       "    </tr>\n",
       "    <tr>\n",
       "      <th>2</th>\n",
       "      <td>ARKANSAS NUCLEAR ONE</td>\n",
       "      <td>2008</td>\n",
       "      <td>5</td>\n",
       "      <td>2</td>\n",
       "      <td>ARKANSAS NUCLEAR ONE</td>\n",
       "      <td>2008</td>\n",
       "      <td>1</td>\n",
       "    </tr>\n",
       "    <tr>\n",
       "      <th>3</th>\n",
       "      <td>ARKANSAS NUCLEAR ONE</td>\n",
       "      <td>2009</td>\n",
       "      <td>12</td>\n",
       "      <td>5</td>\n",
       "      <td>ARKANSAS NUCLEAR ONE</td>\n",
       "      <td>2009</td>\n",
       "      <td>2</td>\n",
       "    </tr>\n",
       "    <tr>\n",
       "      <th>4</th>\n",
       "      <td>ARKANSAS NUCLEAR ONE</td>\n",
       "      <td>2010</td>\n",
       "      <td>4</td>\n",
       "      <td>2</td>\n",
       "      <td>ARKANSAS NUCLEAR ONE</td>\n",
       "      <td>2010</td>\n",
       "      <td>1</td>\n",
       "    </tr>\n",
       "  </tbody>\n",
       "</table>\n",
       "</div>"
      ],
      "text/plain": [
       "               SiteName  Year  ENCount  ScramCount                  Site  \\\n",
       "0  ARKANSAS NUCLEAR ONE  2006        2           0  ARKANSAS NUCLEAR ONE   \n",
       "1  ARKANSAS NUCLEAR ONE  2007        2           1  ARKANSAS NUCLEAR ONE   \n",
       "2  ARKANSAS NUCLEAR ONE  2008        5           2  ARKANSAS NUCLEAR ONE   \n",
       "3  ARKANSAS NUCLEAR ONE  2009       12           5  ARKANSAS NUCLEAR ONE   \n",
       "4  ARKANSAS NUCLEAR ONE  2010        4           2  ARKANSAS NUCLEAR ONE   \n",
       "\n",
       "   Year_am  Column #  \n",
       "0     2006         1  \n",
       "1     2007         1  \n",
       "2     2008         1  \n",
       "3     2009         2  \n",
       "4     2010         1  "
      ]
     },
     "execution_count": 121,
     "metadata": {},
     "output_type": "execute_result"
    }
   ],
   "source": [
    "new_data.head(5)"
   ]
  },
  {
   "cell_type": "code",
   "execution_count": 118,
   "metadata": {},
   "outputs": [
    {
     "data": {
      "text/html": [
       "<div>\n",
       "<style scoped>\n",
       "    .dataframe tbody tr th:only-of-type {\n",
       "        vertical-align: middle;\n",
       "    }\n",
       "\n",
       "    .dataframe tbody tr th {\n",
       "        vertical-align: top;\n",
       "    }\n",
       "\n",
       "    .dataframe thead th {\n",
       "        text-align: right;\n",
       "    }\n",
       "</style>\n",
       "<table border=\"1\" class=\"dataframe\">\n",
       "  <thead>\n",
       "    <tr style=\"text-align: right;\">\n",
       "      <th></th>\n",
       "      <th>SiteName</th>\n",
       "      <th>Year_data</th>\n",
       "      <th>ENCount</th>\n",
       "      <th>ScramCount</th>\n",
       "      <th>Site</th>\n",
       "      <th>Year_am</th>\n",
       "      <th>Column #</th>\n",
       "    </tr>\n",
       "  </thead>\n",
       "  <tbody>\n",
       "  </tbody>\n",
       "</table>\n",
       "</div>"
      ],
      "text/plain": [
       "Empty DataFrame\n",
       "Columns: [SiteName, Year_data, ENCount, ScramCount, Site, Year_am, Column #]\n",
       "Index: []"
      ]
     },
     "execution_count": 118,
     "metadata": {},
     "output_type": "execute_result"
    }
   ],
   "source": [
    "new_data[(new_data[\"SiteName\"] != new_data[\"Site\"])]"
   ]
  },
  {
   "cell_type": "code",
   "execution_count": 122,
   "metadata": {},
   "outputs": [],
   "source": [
    "data2 = new_data[[\"Site\", \"Year\", \"ENCount\", \"ScramCount\", \"Column #\"]]"
   ]
  },
  {
   "cell_type": "code",
   "execution_count": 123,
   "metadata": {},
   "outputs": [],
   "source": [
    "data2.to_excel(\"EnsAndAm.xlsx\")"
   ]
  },
  {
   "cell_type": "code",
   "execution_count": null,
   "metadata": {},
   "outputs": [],
   "source": []
  }
 ],
 "metadata": {
  "kernelspec": {
   "display_name": "Python 3",
   "language": "python",
   "name": "python3"
  },
  "language_info": {
   "codemirror_mode": {
    "name": "ipython",
    "version": 3
   },
   "file_extension": ".py",
   "mimetype": "text/x-python",
   "name": "python",
   "nbconvert_exporter": "python",
   "pygments_lexer": "ipython3",
   "version": "3.7.0"
  }
 },
 "nbformat": 4,
 "nbformat_minor": 2
}
